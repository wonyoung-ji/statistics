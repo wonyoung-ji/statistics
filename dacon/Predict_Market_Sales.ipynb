{
  "nbformat": 4,
  "nbformat_minor": 0,
  "metadata": {
    "colab": {
      "name": "Predict_Market_Sales.ipynb",
      "provenance": [],
      "authorship_tag": "ABX9TyOeimYVZxKxJLXU2OEd7JWQ",
      "include_colab_link": true
    },
    "kernelspec": {
      "name": "python3",
      "display_name": "Python 3"
    }
  },
  "cells": [
    {
      "cell_type": "markdown",
      "metadata": {
        "id": "view-in-github",
        "colab_type": "text"
      },
      "source": [
        "<a href=\"https://colab.research.google.com/github/wonyoung-ji/study/blob/master/dacon/Predict_Market_Sales.ipynb\" target=\"_parent\"><img src=\"https://colab.research.google.com/assets/colab-badge.svg\" alt=\"Open In Colab\"/></a>"
      ]
    },
    {
      "cell_type": "markdown",
      "metadata": {
        "id": "jc7NNCdoAQN8"
      },
      "source": [
        "# Dacon Competition Project : Predict Market Sales"
      ]
    },
    {
      "cell_type": "markdown",
      "metadata": {
        "id": "t_J2jdBpAiMm"
      },
      "source": [
        "## 1.1.Description\r\n",
        "- 핀테크 기업인 'FUNDA'는 상환 기간의 매출을 예측하여 신용 점수가 낮거나 담보를 가지지 못하는 우수상점들에게 금융 기회를 제공하려 합니다. 이번 대회에서는 2년 전부터 2019년 2월 28일까지의 카드 거래 데이터를 이용해 2019-03-01 ~ 2019-05-31까지 각 상점별 3개월 총 매출을 예측하는 것입니다."
      ]
    },
    {
      "cell_type": "markdown",
      "metadata": {
        "id": "5G4VnYZUA2qR"
      },
      "source": [
        "## 1.2. Data Field\r\n",
        "- store_id: 상점의 고유 아이디\r\n",
        "- card_id: 사용한 카드의 고유 아이디\r\n",
        "- card_company: 비식별화된 카드 회사\r\n",
        "- transacted_date: 거래날짜\r\n",
        "- transcated_time: 거래시간(시:분)\r\n",
        "- installment_term: 할부 개월 수(포인트 사용시 '60개월 + 실제할부개월'을  할부개월 수에 기재)\r\n",
        "- region: 상점 지역\r\n",
        "- type_of_business: 상점의 업종\r\n",
        "- amount: 거래액 (단위는 원이 아님)"
      ]
    },
    {
      "cell_type": "markdown",
      "metadata": {
        "id": "WB7FgIrpBhwO"
      },
      "source": [
        "# Index\r\n"
      ]
    },
    {
      "cell_type": "markdown",
      "metadata": {
        "id": "AbrrOeIGBpMd"
      },
      "source": [
        "## 1.Data Load & Resampling\r\n",
        "- 시계열 분석을 위한 date index로 변환\r\n",
        "- 시간 단위로 나뉘어져 있는 데이터를 일 단위로 resampling\r\n",
        "- modeling을 위해 월 단위로 resampling"
      ]
    },
    {
      "cell_type": "markdown",
      "metadata": {
        "id": "xNuG0H8qB15E"
      },
      "source": [
        "## 2.EDA\r\n",
        "- 변수의 describe 확인\r\n",
        "- target 변수의 대칭성 (정규성) 확인\r\n",
        "- 각 변수의 value 분포 시각화\r\n",
        "- 같은 기간 동안 여러 상점 매출의 추이 및 스케일 확인\r\n",
        "- 다른 변수들이 amount와 같은 패턴을 가지는지 확인"
      ]
    },
    {
      "cell_type": "markdown",
      "metadata": {
        "id": "oDlYAA-tCCqz"
      },
      "source": [
        "## 3.Modeling - Time Series\r\n",
        "- Simple Moving Average\r\n",
        "- Exponential Moving Average\r\n",
        "- Exponential Smooting(Simple, Holt's, Holt-Winter's)\r\n",
        "- ARMA\r\n",
        "- ARIMA\r\n",
        "- Facebook Prophet"
      ]
    },
    {
      "cell_type": "markdown",
      "metadata": {
        "id": "ZpwYlZfDCUeT"
      },
      "source": [
        "## 4.Modeling - Regression\r\n",
        "- date index를 독립변수로 생성\r\n",
        "- 예측해야 할 test dataset 생성\r\n",
        "- test dataset의 null값 대체\r\n",
        "- Regression Modeling"
      ]
    },
    {
      "cell_type": "markdown",
      "metadata": {
        "id": "f9muAdxuCfHf"
      },
      "source": [
        "## 5.Modeling - Deep Neural Network\r\n",
        "- LSTM"
      ]
    },
    {
      "cell_type": "code",
      "metadata": {
        "id": "1vXLUWMKC9sR"
      },
      "source": [
        "import itertools\r\n",
        "import numpy as np\r\n",
        "import pandas as pd\r\n",
        "import seaborn as sns\r\n",
        "import matplotlib as mlt\r\n",
        "import matplotlib.pyplot as plt\r\n",
        "from sklearn.externals import joblib      # joblib: 내부에서 pickle을 이용하여 scaler, model 등을 저장하고 읽기 위한 모듈\r\n",
        "from sklearn.metrics import make_scorer   # sklearn.metrice: loss, score 등 분류작업의 점수를 측정하기 위한 라이브러리. make_scorer를 사용하여 검증\r\n",
        "\r\n",
        "# 시계열\r\n",
        "from fbprophet import Prophet             # facebook prophet\r\n",
        "from datetime import datetime as dt\r\n",
        "from statsmodels.tsa.arima_model import ARIMA\r\n",
        "from dateutil.relativedelta import relativedelta\r\n",
        "from statsmodels.tsa.api import SimpleExpSmoothing, Holt, ExponentialSmoothing\r\n",
        "\r\n",
        "# 회귀분석\r\n",
        "from sklearn.svm import SVR\r\n",
        "from xgboost import XGBRegressor\r\n",
        "from sklearn.ensemble import RandomForestRegressor\r\n",
        "from sklearn.pipeline import make_pipeline, Pipeline\r\n",
        "from sklearn.ensemble import GradientBoostingRegressor\r\n",
        "from sklearn.model_selection import KFold, cross_val_score, GridSearchCV\r\n",
        "from sklearn.linear_model import LinearRegression, Ridge, Lasso, ElasticNet\r\n",
        "\r\n",
        "# Deep Neural Network\r\n",
        "from keras.layers.core import Dense, Activation, Dropout\r\n",
        "from keras.layers.recurrent import LSTM\r\n",
        "from keras.models import Sequential\r\n",
        "import time"
      ],
      "execution_count": 29,
      "outputs": []
    },
    {
      "cell_type": "code",
      "metadata": {
        "colab": {
          "base_uri": "https://localhost:8080/"
        },
        "id": "Cvs4DRSx8BRR",
        "outputId": "ffef62dc-b29e-41d3-dcda-0f63f2d46eb3"
      },
      "source": [
        "from google.colab import drive\r\n",
        "drive.mount('/content/drive')"
      ],
      "execution_count": 3,
      "outputs": [
        {
          "output_type": "stream",
          "text": [
            "Mounted at /content/drive\n"
          ],
          "name": "stdout"
        }
      ]
    },
    {
      "cell_type": "markdown",
      "metadata": {
        "id": "1Kf6Uz4FLlYs"
      },
      "source": [
        "# Evaluate Metric\r\n",
        "- MAE(Mean Absolute Error): 절댓값 오차의 평균  \r\n",
        "\r\n",
        "![image.png](data:image/png;base64,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) \r\n",
        "- validation을 위한 함수 생성 및 make scorer"
      ]
    },
    {
      "cell_type": "code",
      "metadata": {
        "colab": {
          "base_uri": "https://localhost:8080/"
        },
        "id": "vPOseTgmL6mN",
        "outputId": "c8c03a4a-4832-48af-fb64-3cda57f4f34d"
      },
      "source": [
        "def mae(prediction, correct):\r\n",
        "  prediction = np.array(prediction)\r\n",
        "  correct = np.array(correct)\r\n",
        "\r\n",
        "  difference = correct - prediction\r\n",
        "  abs_val = abs(difference)\r\n",
        "\r\n",
        "  score = abs_val.mean()\r\n",
        "  return score\r\n",
        "\r\n",
        "mae_score = make_scorer(mae)\r\n",
        "mae_score"
      ],
      "execution_count": 31,
      "outputs": [
        {
          "output_type": "execute_result",
          "data": {
            "text/plain": [
              "make_scorer(mae)"
            ]
          },
          "metadata": {
            "tags": []
          },
          "execution_count": 31
        }
      ]
    },
    {
      "cell_type": "markdown",
      "metadata": {
        "id": "5EQmZ6fZMa3H"
      },
      "source": [
        "# Issue\r\n"
      ]
    },
    {
      "cell_type": "markdown",
      "metadata": {
        "id": "yww8BMrsMtw-"
      },
      "source": [
        "\r\n",
        "\r\n",
        "__1) 예측해야 하는 범위는 3개월인데, 데이터는 시간 단위로 나뉘어져 있음__\r\n",
        "- month 주기로 resampling 하여 forecast 범위를 3개월로 지정하여 해결  \r\n",
        "\r\n",
        "__2) 1967개의 store_id가 각각의 trend와 seasonality를 가지고 있음__\r\n",
        "- 같은 알고리즘에서 각 store_id별로 parameter 조정  \r\n",
        "\r\n",
        "__3) 예측날짜는 2019-03 ~ 2019-05로 동일하나, 제공 데이터의 마지막 날짜는 차이가 있음__\r\n",
        "- 마지막 날짜부터 3개월만 예측하여 제출  \r\n",
        "(ex. store_id 111의 마지막 날짜는 2018-09로, 뒤 3개월인 2018-10 ~ 2018-12만 예측하여 제출)\r\n",
        "- 예측기간이 길어질수록 오차가 크게 발생하여 바로 뒤 3개월만 예측하는 것이 정확도가 높음\r\n",
        "\r\n"
      ]
    },
    {
      "cell_type": "markdown",
      "metadata": {
        "id": "Ph4L6pa4OAex"
      },
      "source": [
        "# 1.Data Load"
      ]
    },
    {
      "cell_type": "code",
      "metadata": {
        "id": "ao8fUI5M-Z0L"
      },
      "source": [
        "df_train = pd.read_csv('/content/drive/MyDrive/dacon/상점 신용카드 매출 예측/funda_train.csv')\r\n",
        "df_sub = pd.read_csv('/content/drive/MyDrive/dacon/상점 신용카드 매출 예측/submission.csv')"
      ],
      "execution_count": 35,
      "outputs": []
    },
    {
      "cell_type": "code",
      "metadata": {
        "colab": {
          "base_uri": "https://localhost:8080/"
        },
        "id": "zxjg5RlIOaC9",
        "outputId": "7997d7b9-4e78-4875-b014-992e9d585ed5"
      },
      "source": [
        "df_train['transacted_date'] = pd.to_datetime(df_train['transacted_date'])\r\n",
        "df_train.shape"
      ],
      "execution_count": 39,
      "outputs": [
        {
          "output_type": "execute_result",
          "data": {
            "text/plain": [
              "(6556613, 9)"
            ]
          },
          "metadata": {
            "tags": []
          },
          "execution_count": 39
        }
      ]
    },
    {
      "cell_type": "code",
      "metadata": {
        "id": "ms1lZKR6_wVC"
      },
      "source": [
        "frame_info = [( col,                         #name\r\n",
        "              len(df_train[col].unique()),   # num of unique\r\n",
        "              df_train[col].isnull().sum(),  # num_nan\r\n",
        "              df_train[col].dtype,           # type\r\n",
        "              df_train[col].unique()[:5])    # front5_values\r\n",
        "              for col in df_train.columns ]\r\n",
        "\r\n",
        "df_info = pd.DataFrame(frame_info, columns = ['name', 'num_of_unique','num_nan','type','front5_values'])"
      ],
      "execution_count": 54,
      "outputs": []
    },
    {
      "cell_type": "code",
      "metadata": {
        "colab": {
          "base_uri": "https://localhost:8080/",
          "height": 379
        },
        "id": "D4_9Nq_zPhm7",
        "outputId": "e9776243-dcc0-4e76-e086-342b11bce4b0"
      },
      "source": [
        "df_info"
      ],
      "execution_count": 42,
      "outputs": [
        {
          "output_type": "execute_result",
          "data": {
            "text/html": [
              "<div>\n",
              "<style scoped>\n",
              "    .dataframe tbody tr th:only-of-type {\n",
              "        vertical-align: middle;\n",
              "    }\n",
              "\n",
              "    .dataframe tbody tr th {\n",
              "        vertical-align: top;\n",
              "    }\n",
              "\n",
              "    .dataframe thead th {\n",
              "        text-align: right;\n",
              "    }\n",
              "</style>\n",
              "<table border=\"1\" class=\"dataframe\">\n",
              "  <thead>\n",
              "    <tr style=\"text-align: right;\">\n",
              "      <th></th>\n",
              "      <th>name</th>\n",
              "      <th>num_of_unique</th>\n",
              "      <th>num_nan</th>\n",
              "      <th>type</th>\n",
              "      <th>front5_values</th>\n",
              "    </tr>\n",
              "  </thead>\n",
              "  <tbody>\n",
              "    <tr>\n",
              "      <th>0</th>\n",
              "      <td>store_id</td>\n",
              "      <td>1967</td>\n",
              "      <td>0</td>\n",
              "      <td>int64</td>\n",
              "      <td>[0, 1, 2, 4, 5]</td>\n",
              "    </tr>\n",
              "    <tr>\n",
              "      <th>1</th>\n",
              "      <td>card_id</td>\n",
              "      <td>3950001</td>\n",
              "      <td>0</td>\n",
              "      <td>int64</td>\n",
              "      <td>[0, 1, 2, 3, 4]</td>\n",
              "    </tr>\n",
              "    <tr>\n",
              "      <th>2</th>\n",
              "      <td>card_company</td>\n",
              "      <td>8</td>\n",
              "      <td>0</td>\n",
              "      <td>object</td>\n",
              "      <td>[b, h, c, a, f]</td>\n",
              "    </tr>\n",
              "    <tr>\n",
              "      <th>3</th>\n",
              "      <td>transacted_date</td>\n",
              "      <td>1003</td>\n",
              "      <td>0</td>\n",
              "      <td>datetime64[ns]</td>\n",
              "      <td>[2016-06-01T00:00:00.000000000, 2016-06-02T00:...</td>\n",
              "    </tr>\n",
              "    <tr>\n",
              "      <th>4</th>\n",
              "      <td>transacted_time</td>\n",
              "      <td>1440</td>\n",
              "      <td>0</td>\n",
              "      <td>object</td>\n",
              "      <td>[13:13, 18:12, 18:52, 20:22, 11:06]</td>\n",
              "    </tr>\n",
              "    <tr>\n",
              "      <th>5</th>\n",
              "      <td>installment_term</td>\n",
              "      <td>34</td>\n",
              "      <td>0</td>\n",
              "      <td>int64</td>\n",
              "      <td>[0, 2, 3, 60, 4]</td>\n",
              "    </tr>\n",
              "    <tr>\n",
              "      <th>6</th>\n",
              "      <td>region</td>\n",
              "      <td>181</td>\n",
              "      <td>2042766</td>\n",
              "      <td>object</td>\n",
              "      <td>[nan, 서울 종로구, 충북 충주시, 부산 동래구, 경기 평택시]</td>\n",
              "    </tr>\n",
              "    <tr>\n",
              "      <th>7</th>\n",
              "      <td>type_of_business</td>\n",
              "      <td>146</td>\n",
              "      <td>3952609</td>\n",
              "      <td>object</td>\n",
              "      <td>[기타 미용업, nan, 의복 액세서리 및 모조 장신구 도매업, 한식 음식점업, 배...</td>\n",
              "    </tr>\n",
              "    <tr>\n",
              "      <th>8</th>\n",
              "      <td>amount</td>\n",
              "      <td>30551</td>\n",
              "      <td>0</td>\n",
              "      <td>float64</td>\n",
              "      <td>[1857.142857142857, 857.1428571428571, 2000.0,...</td>\n",
              "    </tr>\n",
              "  </tbody>\n",
              "</table>\n",
              "</div>"
            ],
            "text/plain": [
              "               name  ...                                      front5_values\n",
              "0          store_id  ...                                    [0, 1, 2, 4, 5]\n",
              "1           card_id  ...                                    [0, 1, 2, 3, 4]\n",
              "2      card_company  ...                                    [b, h, c, a, f]\n",
              "3   transacted_date  ...  [2016-06-01T00:00:00.000000000, 2016-06-02T00:...\n",
              "4   transacted_time  ...                [13:13, 18:12, 18:52, 20:22, 11:06]\n",
              "5  installment_term  ...                                   [0, 2, 3, 60, 4]\n",
              "6            region  ...              [nan, 서울 종로구, 충북 충주시, 부산 동래구, 경기 평택시]\n",
              "7  type_of_business  ...  [기타 미용업, nan, 의복 액세서리 및 모조 장신구 도매업, 한식 음식점업, 배...\n",
              "8            amount  ...  [1857.142857142857, 857.1428571428571, 2000.0,...\n",
              "\n",
              "[9 rows x 5 columns]"
            ]
          },
          "metadata": {
            "tags": []
          },
          "execution_count": 42
        }
      ]
    },
    {
      "cell_type": "markdown",
      "metadata": {
        "id": "nUnOZM3FQz7c"
      },
      "source": [
        "__시계열 분석을 위해 date 정보를 index로 변환__"
      ]
    },
    {
      "cell_type": "code",
      "metadata": {
        "colab": {
          "base_uri": "https://localhost:8080/",
          "height": 184
        },
        "id": "bInpFZYp_C2U",
        "outputId": "236adb5e-8167-4408-d0b9-151024f959c4"
      },
      "source": [
        "df_train = df_train.set_index('transacted_date')\r\n",
        "df_train.head(3)"
      ],
      "execution_count": 56,
      "outputs": [
        {
          "output_type": "execute_result",
          "data": {
            "text/html": [
              "<div>\n",
              "<style scoped>\n",
              "    .dataframe tbody tr th:only-of-type {\n",
              "        vertical-align: middle;\n",
              "    }\n",
              "\n",
              "    .dataframe tbody tr th {\n",
              "        vertical-align: top;\n",
              "    }\n",
              "\n",
              "    .dataframe thead th {\n",
              "        text-align: right;\n",
              "    }\n",
              "</style>\n",
              "<table border=\"1\" class=\"dataframe\">\n",
              "  <thead>\n",
              "    <tr style=\"text-align: right;\">\n",
              "      <th></th>\n",
              "      <th>store_id</th>\n",
              "      <th>card_id</th>\n",
              "      <th>card_company</th>\n",
              "      <th>transacted_time</th>\n",
              "      <th>installment_term</th>\n",
              "      <th>region</th>\n",
              "      <th>type_of_business</th>\n",
              "      <th>amount</th>\n",
              "    </tr>\n",
              "    <tr>\n",
              "      <th>transacted_date</th>\n",
              "      <th></th>\n",
              "      <th></th>\n",
              "      <th></th>\n",
              "      <th></th>\n",
              "      <th></th>\n",
              "      <th></th>\n",
              "      <th></th>\n",
              "      <th></th>\n",
              "    </tr>\n",
              "  </thead>\n",
              "  <tbody>\n",
              "    <tr>\n",
              "      <th>2016-06-01</th>\n",
              "      <td>0</td>\n",
              "      <td>0</td>\n",
              "      <td>b</td>\n",
              "      <td>13:13</td>\n",
              "      <td>0</td>\n",
              "      <td>NaN</td>\n",
              "      <td>기타 미용업</td>\n",
              "      <td>1857.142857</td>\n",
              "    </tr>\n",
              "    <tr>\n",
              "      <th>2016-06-01</th>\n",
              "      <td>0</td>\n",
              "      <td>1</td>\n",
              "      <td>h</td>\n",
              "      <td>18:12</td>\n",
              "      <td>0</td>\n",
              "      <td>NaN</td>\n",
              "      <td>기타 미용업</td>\n",
              "      <td>857.142857</td>\n",
              "    </tr>\n",
              "    <tr>\n",
              "      <th>2016-06-01</th>\n",
              "      <td>0</td>\n",
              "      <td>2</td>\n",
              "      <td>c</td>\n",
              "      <td>18:52</td>\n",
              "      <td>0</td>\n",
              "      <td>NaN</td>\n",
              "      <td>기타 미용업</td>\n",
              "      <td>2000.000000</td>\n",
              "    </tr>\n",
              "  </tbody>\n",
              "</table>\n",
              "</div>"
            ],
            "text/plain": [
              "                 store_id  card_id  ... type_of_business       amount\n",
              "transacted_date                     ...                              \n",
              "2016-06-01              0        0  ...           기타 미용업  1857.142857\n",
              "2016-06-01              0        1  ...           기타 미용업   857.142857\n",
              "2016-06-01              0        2  ...           기타 미용업  2000.000000\n",
              "\n",
              "[3 rows x 8 columns]"
            ]
          },
          "metadata": {
            "tags": []
          },
          "execution_count": 56
        }
      ]
    },
    {
      "cell_type": "markdown",
      "metadata": {
        "id": "e_PgqObhRJtr"
      },
      "source": [
        "__시간 단위로 나뉘어져 있는 데이터를 일단위로 resampling__\r\n",
        "- `store_id`, `region`, ` type_of_business` 기존과 동일\r\n",
        "- `day_of_week`: 각 요일을 나타내는 숫자, 월요일은 0, 일요일은 6\r\n",
        "- `business_day`: working day 여부. 1이면 working day, 0이면 주말\r\n",
        "- `num_of_pay`: 일 견제 건수, card_id의 count로 생성\r\n",
        "- `num_of_revisit`: 단골 방문 횟수. card_id의 value 중 count가 2보다 큰 value의 결제 건수\r\n",
        "- `installment_term`: 일 총 할부 개월 수, 기존 installment_term의 합\r\n",
        "- `amount`: 일 매출 액. 기존 amount의 합"
      ]
    },
    {
      "cell_type": "code",
      "metadata": {
        "colab": {
          "base_uri": "https://localhost:8080/",
          "height": 243
        },
        "id": "FRZAghAIXPg4",
        "outputId": "95d4a178-bd30-41c5-e154-e6bb0082a9a8"
      },
      "source": [
        "df_train[df_train['store_id'] == 1].head()"
      ],
      "execution_count": 72,
      "outputs": [
        {
          "output_type": "execute_result",
          "data": {
            "text/html": [
              "<div>\n",
              "<style scoped>\n",
              "    .dataframe tbody tr th:only-of-type {\n",
              "        vertical-align: middle;\n",
              "    }\n",
              "\n",
              "    .dataframe tbody tr th {\n",
              "        vertical-align: top;\n",
              "    }\n",
              "\n",
              "    .dataframe thead th {\n",
              "        text-align: right;\n",
              "    }\n",
              "</style>\n",
              "<table border=\"1\" class=\"dataframe\">\n",
              "  <thead>\n",
              "    <tr style=\"text-align: right;\">\n",
              "      <th></th>\n",
              "      <th>store_id</th>\n",
              "      <th>card_id</th>\n",
              "      <th>card_company</th>\n",
              "      <th>transacted_time</th>\n",
              "      <th>installment_term</th>\n",
              "      <th>region</th>\n",
              "      <th>type_of_business</th>\n",
              "      <th>amount</th>\n",
              "    </tr>\n",
              "    <tr>\n",
              "      <th>transacted_date</th>\n",
              "      <th></th>\n",
              "      <th></th>\n",
              "      <th></th>\n",
              "      <th></th>\n",
              "      <th></th>\n",
              "      <th></th>\n",
              "      <th></th>\n",
              "      <th></th>\n",
              "    </tr>\n",
              "  </thead>\n",
              "  <tbody>\n",
              "    <tr>\n",
              "      <th>2016-06-01</th>\n",
              "      <td>1</td>\n",
              "      <td>1931</td>\n",
              "      <td>b</td>\n",
              "      <td>13:31</td>\n",
              "      <td>0</td>\n",
              "      <td>NaN</td>\n",
              "      <td>NaN</td>\n",
              "      <td>1071.428571</td>\n",
              "    </tr>\n",
              "    <tr>\n",
              "      <th>2016-06-01</th>\n",
              "      <td>1</td>\n",
              "      <td>1932</td>\n",
              "      <td>h</td>\n",
              "      <td>14:18</td>\n",
              "      <td>0</td>\n",
              "      <td>NaN</td>\n",
              "      <td>NaN</td>\n",
              "      <td>428.571429</td>\n",
              "    </tr>\n",
              "    <tr>\n",
              "      <th>2016-06-01</th>\n",
              "      <td>1</td>\n",
              "      <td>1933</td>\n",
              "      <td>c</td>\n",
              "      <td>15:07</td>\n",
              "      <td>0</td>\n",
              "      <td>NaN</td>\n",
              "      <td>NaN</td>\n",
              "      <td>1142.857143</td>\n",
              "    </tr>\n",
              "    <tr>\n",
              "      <th>2016-06-01</th>\n",
              "      <td>1</td>\n",
              "      <td>1934</td>\n",
              "      <td>g</td>\n",
              "      <td>15:12</td>\n",
              "      <td>0</td>\n",
              "      <td>NaN</td>\n",
              "      <td>NaN</td>\n",
              "      <td>1142.857143</td>\n",
              "    </tr>\n",
              "    <tr>\n",
              "      <th>2016-06-01</th>\n",
              "      <td>1</td>\n",
              "      <td>1935</td>\n",
              "      <td>a</td>\n",
              "      <td>16:06</td>\n",
              "      <td>0</td>\n",
              "      <td>NaN</td>\n",
              "      <td>NaN</td>\n",
              "      <td>1071.428571</td>\n",
              "    </tr>\n",
              "  </tbody>\n",
              "</table>\n",
              "</div>"
            ],
            "text/plain": [
              "                 store_id  card_id  ... type_of_business       amount\n",
              "transacted_date                     ...                              \n",
              "2016-06-01              1     1931  ...              NaN  1071.428571\n",
              "2016-06-01              1     1932  ...              NaN   428.571429\n",
              "2016-06-01              1     1933  ...              NaN  1142.857143\n",
              "2016-06-01              1     1934  ...              NaN  1142.857143\n",
              "2016-06-01              1     1935  ...              NaN  1071.428571\n",
              "\n",
              "[5 rows x 8 columns]"
            ]
          },
          "metadata": {
            "tags": []
          },
          "execution_count": 72
        }
      ]
    },
    {
      "cell_type": "code",
      "metadata": {
        "colab": {
          "base_uri": "https://localhost:8080/"
        },
        "id": "jwZCxjEdSyff",
        "outputId": "40d717f8-acdd-4a62-9afb-48455c91fee3"
      },
      "source": [
        "df_train[df_train['store_id'] == 1]['card_id'].value_counts().reset_index().query('card_id > 2')['index'].values"
      ],
      "execution_count": 69,
      "outputs": [
        {
          "output_type": "execute_result",
          "data": {
            "text/plain": [
              "array([1983, 1936, 1972, 2234, 2275, 2995, 2383, 2917, 2466, 1935, 2495,\n",
              "       1952, 2905, 1947, 2598, 2302, 2021, 3046, 2724, 2657, 2318, 2845,\n",
              "       3188, 2442, 2507, 2417, 2631, 2035, 2485, 2506, 2307, 2530, 2097,\n",
              "       2646, 2350, 2378, 2613, 2095, 2872, 1931, 3331, 3238, 2146, 2593,\n",
              "       1944, 2360, 2897, 1981, 3187, 2342, 2977, 2150, 1942, 2799, 2006,\n",
              "       2638, 3382, 2352, 2252, 2702, 2790, 1989, 2210, 3174, 2862, 2279,\n",
              "       2157, 2920, 3097, 3134, 2093, 2528, 2652, 2437, 2956, 3287, 1969,\n",
              "       2922, 2394, 2301, 3079, 3040, 2733, 2268, 3157, 3009, 2630, 2656,\n",
              "       2190, 2034, 2374, 2831, 3022, 1943, 2346, 2841, 2076, 2178, 2776,\n",
              "       2761, 2484, 2086, 2589, 2257, 3206, 3200, 3341, 2527, 2356, 2578,\n",
              "       2172, 2164, 2300, 2621, 2465, 1932, 2883, 2926, 2586, 2135, 2179,\n",
              "       2748, 3213, 2182, 2351, 2208, 3343, 2704, 3072, 2563, 2807, 2337,\n",
              "       2432, 2416, 1934, 2323, 2913, 1984, 2169, 1978, 2019, 2459, 3309,\n",
              "       2020, 2163, 2771, 2834, 2986, 2599, 2175, 2324, 2145, 2403, 2242,\n",
              "       1956, 2797, 2800, 2421, 2894, 2622, 3351, 2457, 2303, 3051, 2957,\n",
              "       2732, 2682, 2635, 2992, 2434, 2964, 2521, 2489, 3069, 2498, 2786,\n",
              "       3023, 3027, 2514, 2349, 2486, 3078, 2379, 2814, 2339, 2503, 2335,\n",
              "       1962, 3393, 2696, 2863, 2077, 3191, 2308, 3293, 2893, 3356, 2881,\n",
              "       2075, 3242, 2061, 1985, 1939, 2899, 1959, 3319, 1967, 2891, 2085,\n",
              "       2412, 3180, 2111, 2741, 2041, 2156, 2368, 3172, 2861, 2033, 3139,\n",
              "       3402, 2463, 3167, 3400, 2886, 3245, 3161, 3163, 2971, 2868, 2137,\n",
              "       2874, 3099, 2280, 2896, 2963, 2429, 2574, 2576, 2936, 3328, 2801,\n",
              "       3338, 3269, 2292, 1938, 2975, 2902, 2596, 2284, 2123, 2833, 2036,\n",
              "       2581, 2009, 2766, 1976, 3217, 2756, 2539, 2746, 2674, 3406, 2678,\n",
              "       3003, 2680, 2010, 2710, 2993, 2700, 2985, 2005, 2782, 2794, 2616,\n",
              "       2846, 2109, 2266, 2262, 2836, 2162, 2628, 3185, 2816, 1961, 2024,\n",
              "       2022, 2802, 1975, 2647, 2584, 3312, 3113, 3297, 2389, 2387, 2148,\n",
              "       2207, 2209, 2775, 2518, 2219, 3260, 2138, 2357, 2490, 2901, 2393,\n",
              "       2345, 2241, 3090, 3109, 3361, 3359, 2903, 2925, 2319, 3120, 2269,\n",
              "       3140, 2737, 3010, 2376, 2663, 2552, 2972, 2655, 3310, 2550, 2409,\n",
              "       2961, 2996, 2411, 2399, 3401, 3308, 2966, 2538])"
            ]
          },
          "metadata": {
            "tags": []
          },
          "execution_count": 69
        }
      ]
    },
    {
      "cell_type": "code",
      "metadata": {
        "id": "ns3wYAL3Q_WH"
      },
      "source": [
        "def resample_day(train_df):\r\n",
        "  df_day = pd.DataFrame()\r\n",
        "  for i in train_df['store_id'].unique():\r\n",
        "    df = train_df[train_df['store_id'] == i]\r\n",
        "\r\n",
        "    # num_of_pay (일별 결제건수)\r\n",
        "    count_cols = df['card_id'].resample(rule = 'd').count().rename('num_of_pay')\r\n",
        "\r\n",
        "    # num_of_revisit (단골 방문횟수)\r\n",
        "    revisit_idx = df['card_id'].value_counts().reset_index().query('card_id > 2')['index'].values\r\n",
        "    revisit_cnt = df[df['card_id'].isin(revisit_idx)]['card_id'].resample(rule='d').count().rename('num_of_revisit')\r\n",
        "    \r\n",
        "    # installment_term (할부 개월수와 매출액은 일 단위로 합)\r\n",
        "    sum_cols = df[['installment_term','amount']].resample(rule='d').sum()\r\n",
        "    \r\n",
        "    df_num_day = pd.concat([count_cols, revisit_cnt, sum_cols ], axis=1)\r\n",
        "    df_num_day.insert(0, 'store_id', i)       #insert(loc, col, value)\r\n",
        "    df_num_day.insert(4, 'region', df[df['store_id'] == i]['region'].unique()[0])\r\n",
        "    df_num_day.insert(5, 'type_of_business', df[df['store_id']==i]['type_of_business'].unique()[0])\r\n",
        "\r\n",
        "    df_day = pd.concat([df_day, df_num_day],axis=0)\r\n",
        "  df_day.insert(1, 'day_of_week', df_day.index.dayofweek)\r\n",
        "  df_day.insert(2, 'business_day', df_day.day_of_week.replace({0:1, 2:1, 3:1, 4:1, 5:0, 6:0}).values)\r\n",
        "  df_day['num_of_revisit'].fillna(0, inplace=True)\r\n",
        "  \r\n",
        "  return df_day"
      ],
      "execution_count": 80,
      "outputs": []
    },
    {
      "cell_type": "code",
      "metadata": {
        "colab": {
          "base_uri": "https://localhost:8080/"
        },
        "id": "t7tcmcq_kZ_R",
        "outputId": "3fdb4254-aef6-44c1-c00d-529d64c3843e"
      },
      "source": [
        "%%time\r\n",
        "df_day = resample_day(df_train)"
      ],
      "execution_count": 81,
      "outputs": [
        {
          "output_type": "stream",
          "text": [
            "CPU times: user 3min 36s, sys: 5.72 s, total: 3min 42s\n",
            "Wall time: 3min 32s\n"
          ],
          "name": "stdout"
        }
      ]
    },
    {
      "cell_type": "code",
      "metadata": {
        "colab": {
          "base_uri": "https://localhost:8080/",
          "height": 184
        },
        "id": "ICBpzTO7a3FQ",
        "outputId": "500ccede-3d79-4269-bd4c-f5eeea310558"
      },
      "source": [
        "df_day.head(3)"
      ],
      "execution_count": 82,
      "outputs": [
        {
          "output_type": "execute_result",
          "data": {
            "text/html": [
              "<div>\n",
              "<style scoped>\n",
              "    .dataframe tbody tr th:only-of-type {\n",
              "        vertical-align: middle;\n",
              "    }\n",
              "\n",
              "    .dataframe tbody tr th {\n",
              "        vertical-align: top;\n",
              "    }\n",
              "\n",
              "    .dataframe thead th {\n",
              "        text-align: right;\n",
              "    }\n",
              "</style>\n",
              "<table border=\"1\" class=\"dataframe\">\n",
              "  <thead>\n",
              "    <tr style=\"text-align: right;\">\n",
              "      <th></th>\n",
              "      <th>store_id</th>\n",
              "      <th>day_of_week</th>\n",
              "      <th>business_day</th>\n",
              "      <th>num_of_pay</th>\n",
              "      <th>num_of_revisit</th>\n",
              "      <th>installment_term</th>\n",
              "      <th>region</th>\n",
              "      <th>type_of_business</th>\n",
              "      <th>amount</th>\n",
              "    </tr>\n",
              "    <tr>\n",
              "      <th>transacted_date</th>\n",
              "      <th></th>\n",
              "      <th></th>\n",
              "      <th></th>\n",
              "      <th></th>\n",
              "      <th></th>\n",
              "      <th></th>\n",
              "      <th></th>\n",
              "      <th></th>\n",
              "      <th></th>\n",
              "    </tr>\n",
              "  </thead>\n",
              "  <tbody>\n",
              "    <tr>\n",
              "      <th>2016-06-01</th>\n",
              "      <td>0</td>\n",
              "      <td>2</td>\n",
              "      <td>1</td>\n",
              "      <td>4</td>\n",
              "      <td>4.0</td>\n",
              "      <td>0</td>\n",
              "      <td>NaN</td>\n",
              "      <td>기타 미용업</td>\n",
              "      <td>12571.428571</td>\n",
              "    </tr>\n",
              "    <tr>\n",
              "      <th>2016-06-02</th>\n",
              "      <td>0</td>\n",
              "      <td>3</td>\n",
              "      <td>1</td>\n",
              "      <td>7</td>\n",
              "      <td>3.0</td>\n",
              "      <td>0</td>\n",
              "      <td>NaN</td>\n",
              "      <td>기타 미용업</td>\n",
              "      <td>40571.428571</td>\n",
              "    </tr>\n",
              "    <tr>\n",
              "      <th>2016-06-03</th>\n",
              "      <td>0</td>\n",
              "      <td>4</td>\n",
              "      <td>1</td>\n",
              "      <td>3</td>\n",
              "      <td>2.0</td>\n",
              "      <td>0</td>\n",
              "      <td>NaN</td>\n",
              "      <td>기타 미용업</td>\n",
              "      <td>18142.857143</td>\n",
              "    </tr>\n",
              "  </tbody>\n",
              "</table>\n",
              "</div>"
            ],
            "text/plain": [
              "                 store_id  day_of_week  ...  type_of_business        amount\n",
              "transacted_date                         ...                                \n",
              "2016-06-01              0            2  ...            기타 미용업  12571.428571\n",
              "2016-06-02              0            3  ...            기타 미용업  40571.428571\n",
              "2016-06-03              0            4  ...            기타 미용업  18142.857143\n",
              "\n",
              "[3 rows x 9 columns]"
            ]
          },
          "metadata": {
            "tags": []
          },
          "execution_count": 82
        }
      ]
    },
    {
      "cell_type": "code",
      "metadata": {
        "colab": {
          "base_uri": "https://localhost:8080/"
        },
        "id": "E8kgxHJSkY-n",
        "outputId": "6a1dfcdd-2130-422b-afb3-eed98342b90d"
      },
      "source": [
        "df_day.isnull().sum()"
      ],
      "execution_count": 83,
      "outputs": [
        {
          "output_type": "execute_result",
          "data": {
            "text/plain": [
              "store_id                  0\n",
              "day_of_week               0\n",
              "business_day              0\n",
              "num_of_pay                0\n",
              "num_of_revisit            0\n",
              "installment_term          0\n",
              "region               629927\n",
              "type_of_business    1087791\n",
              "amount                    0\n",
              "dtype: int64"
            ]
          },
          "metadata": {
            "tags": []
          },
          "execution_count": 83
        }
      ]
    },
    {
      "cell_type": "code",
      "metadata": {
        "id": "-n5TFZgWmAKQ"
      },
      "source": [
        "# df_day.to_csv('/content/drive/MyDrive/dacon/상점 신용카드 매출 예측/funda_train_day.csv')"
      ],
      "execution_count": 84,
      "outputs": []
    },
    {
      "cell_type": "code",
      "metadata": {
        "colab": {
          "base_uri": "https://localhost:8080/",
          "height": 243
        },
        "id": "5EwbKWUJmVGC",
        "outputId": "c0108bdc-f2b0-4296-8ee9-70c4c12b3f0a"
      },
      "source": [
        "df_day = pd.read_csv('/content/drive/MyDrive/dacon/상점 신용카드 매출 예측/funda_train_day.csv')\r\n",
        "df_day['transcated_date'] = pd.to_datetime(df_day['transacted_date'])\r\n",
        "df_day = df_day.set_index('transcated_date')\r\n",
        "df_day.head()"
      ],
      "execution_count": 90,
      "outputs": [
        {
          "output_type": "execute_result",
          "data": {
            "text/html": [
              "<div>\n",
              "<style scoped>\n",
              "    .dataframe tbody tr th:only-of-type {\n",
              "        vertical-align: middle;\n",
              "    }\n",
              "\n",
              "    .dataframe tbody tr th {\n",
              "        vertical-align: top;\n",
              "    }\n",
              "\n",
              "    .dataframe thead th {\n",
              "        text-align: right;\n",
              "    }\n",
              "</style>\n",
              "<table border=\"1\" class=\"dataframe\">\n",
              "  <thead>\n",
              "    <tr style=\"text-align: right;\">\n",
              "      <th></th>\n",
              "      <th>transacted_date</th>\n",
              "      <th>store_id</th>\n",
              "      <th>day_of_week</th>\n",
              "      <th>business_day</th>\n",
              "      <th>num_of_pay</th>\n",
              "      <th>num_of_revisit</th>\n",
              "      <th>installment_term</th>\n",
              "      <th>region</th>\n",
              "      <th>type_of_business</th>\n",
              "      <th>amount</th>\n",
              "    </tr>\n",
              "    <tr>\n",
              "      <th>transcated_date</th>\n",
              "      <th></th>\n",
              "      <th></th>\n",
              "      <th></th>\n",
              "      <th></th>\n",
              "      <th></th>\n",
              "      <th></th>\n",
              "      <th></th>\n",
              "      <th></th>\n",
              "      <th></th>\n",
              "      <th></th>\n",
              "    </tr>\n",
              "  </thead>\n",
              "  <tbody>\n",
              "    <tr>\n",
              "      <th>2016-06-01</th>\n",
              "      <td>2016-06-01</td>\n",
              "      <td>0</td>\n",
              "      <td>2</td>\n",
              "      <td>1</td>\n",
              "      <td>4</td>\n",
              "      <td>4.0</td>\n",
              "      <td>0</td>\n",
              "      <td>NaN</td>\n",
              "      <td>기타 미용업</td>\n",
              "      <td>12571.428571</td>\n",
              "    </tr>\n",
              "    <tr>\n",
              "      <th>2016-06-02</th>\n",
              "      <td>2016-06-02</td>\n",
              "      <td>0</td>\n",
              "      <td>3</td>\n",
              "      <td>1</td>\n",
              "      <td>7</td>\n",
              "      <td>3.0</td>\n",
              "      <td>0</td>\n",
              "      <td>NaN</td>\n",
              "      <td>기타 미용업</td>\n",
              "      <td>40571.428571</td>\n",
              "    </tr>\n",
              "    <tr>\n",
              "      <th>2016-06-03</th>\n",
              "      <td>2016-06-03</td>\n",
              "      <td>0</td>\n",
              "      <td>4</td>\n",
              "      <td>1</td>\n",
              "      <td>3</td>\n",
              "      <td>2.0</td>\n",
              "      <td>0</td>\n",
              "      <td>NaN</td>\n",
              "      <td>기타 미용업</td>\n",
              "      <td>18142.857143</td>\n",
              "    </tr>\n",
              "    <tr>\n",
              "      <th>2016-06-04</th>\n",
              "      <td>2016-06-04</td>\n",
              "      <td>0</td>\n",
              "      <td>5</td>\n",
              "      <td>0</td>\n",
              "      <td>7</td>\n",
              "      <td>3.0</td>\n",
              "      <td>0</td>\n",
              "      <td>NaN</td>\n",
              "      <td>기타 미용업</td>\n",
              "      <td>31714.285714</td>\n",
              "    </tr>\n",
              "    <tr>\n",
              "      <th>2016-06-05</th>\n",
              "      <td>2016-06-05</td>\n",
              "      <td>0</td>\n",
              "      <td>6</td>\n",
              "      <td>0</td>\n",
              "      <td>3</td>\n",
              "      <td>3.0</td>\n",
              "      <td>0</td>\n",
              "      <td>NaN</td>\n",
              "      <td>기타 미용업</td>\n",
              "      <td>10428.571429</td>\n",
              "    </tr>\n",
              "  </tbody>\n",
              "</table>\n",
              "</div>"
            ],
            "text/plain": [
              "                transacted_date  store_id  ...  type_of_business        amount\n",
              "transcated_date                            ...                                \n",
              "2016-06-01           2016-06-01         0  ...            기타 미용업  12571.428571\n",
              "2016-06-02           2016-06-02         0  ...            기타 미용업  40571.428571\n",
              "2016-06-03           2016-06-03         0  ...            기타 미용업  18142.857143\n",
              "2016-06-04           2016-06-04         0  ...            기타 미용업  31714.285714\n",
              "2016-06-05           2016-06-05         0  ...            기타 미용업  10428.571429\n",
              "\n",
              "[5 rows x 10 columns]"
            ]
          },
          "metadata": {
            "tags": []
          },
          "execution_count": 90
        }
      ]
    },
    {
      "cell_type": "markdown",
      "metadata": {
        "id": "D3DvHY8LnJDA"
      },
      "source": [
        "- 각 column간 상관관계 확인"
      ]
    },
    {
      "cell_type": "code",
      "metadata": {
        "colab": {
          "base_uri": "https://localhost:8080/",
          "height": 272
        },
        "id": "xVfgS04Tmium",
        "outputId": "f0d152ab-0933-4cb2-e6cd-43658d317fd5"
      },
      "source": [
        "daily_corr = df_day.corr()\r\n",
        "daily_corr"
      ],
      "execution_count": 91,
      "outputs": [
        {
          "output_type": "execute_result",
          "data": {
            "text/html": [
              "<div>\n",
              "<style scoped>\n",
              "    .dataframe tbody tr th:only-of-type {\n",
              "        vertical-align: middle;\n",
              "    }\n",
              "\n",
              "    .dataframe tbody tr th {\n",
              "        vertical-align: top;\n",
              "    }\n",
              "\n",
              "    .dataframe thead th {\n",
              "        text-align: right;\n",
              "    }\n",
              "</style>\n",
              "<table border=\"1\" class=\"dataframe\">\n",
              "  <thead>\n",
              "    <tr style=\"text-align: right;\">\n",
              "      <th></th>\n",
              "      <th>store_id</th>\n",
              "      <th>day_of_week</th>\n",
              "      <th>business_day</th>\n",
              "      <th>num_of_pay</th>\n",
              "      <th>num_of_revisit</th>\n",
              "      <th>installment_term</th>\n",
              "      <th>amount</th>\n",
              "    </tr>\n",
              "  </thead>\n",
              "  <tbody>\n",
              "    <tr>\n",
              "      <th>store_id</th>\n",
              "      <td>1.000000</td>\n",
              "      <td>-0.000040</td>\n",
              "      <td>0.000014</td>\n",
              "      <td>0.042367</td>\n",
              "      <td>0.008061</td>\n",
              "      <td>-0.012184</td>\n",
              "      <td>-0.018348</td>\n",
              "    </tr>\n",
              "    <tr>\n",
              "      <th>day_of_week</th>\n",
              "      <td>-0.000040</td>\n",
              "      <td>1.000000</td>\n",
              "      <td>-0.790518</td>\n",
              "      <td>0.016719</td>\n",
              "      <td>-0.038692</td>\n",
              "      <td>-0.013954</td>\n",
              "      <td>-0.021503</td>\n",
              "    </tr>\n",
              "    <tr>\n",
              "      <th>business_day</th>\n",
              "      <td>0.000014</td>\n",
              "      <td>-0.790518</td>\n",
              "      <td>1.000000</td>\n",
              "      <td>-0.004598</td>\n",
              "      <td>0.057214</td>\n",
              "      <td>0.015303</td>\n",
              "      <td>0.029468</td>\n",
              "    </tr>\n",
              "    <tr>\n",
              "      <th>num_of_pay</th>\n",
              "      <td>0.042367</td>\n",
              "      <td>0.016719</td>\n",
              "      <td>-0.004598</td>\n",
              "      <td>1.000000</td>\n",
              "      <td>0.701121</td>\n",
              "      <td>0.094140</td>\n",
              "      <td>0.265251</td>\n",
              "    </tr>\n",
              "    <tr>\n",
              "      <th>num_of_revisit</th>\n",
              "      <td>0.008061</td>\n",
              "      <td>-0.038692</td>\n",
              "      <td>0.057214</td>\n",
              "      <td>0.701121</td>\n",
              "      <td>1.000000</td>\n",
              "      <td>0.071132</td>\n",
              "      <td>0.260674</td>\n",
              "    </tr>\n",
              "    <tr>\n",
              "      <th>installment_term</th>\n",
              "      <td>-0.012184</td>\n",
              "      <td>-0.013954</td>\n",
              "      <td>0.015303</td>\n",
              "      <td>0.094140</td>\n",
              "      <td>0.071132</td>\n",
              "      <td>1.000000</td>\n",
              "      <td>0.267498</td>\n",
              "    </tr>\n",
              "    <tr>\n",
              "      <th>amount</th>\n",
              "      <td>-0.018348</td>\n",
              "      <td>-0.021503</td>\n",
              "      <td>0.029468</td>\n",
              "      <td>0.265251</td>\n",
              "      <td>0.260674</td>\n",
              "      <td>0.267498</td>\n",
              "      <td>1.000000</td>\n",
              "    </tr>\n",
              "  </tbody>\n",
              "</table>\n",
              "</div>"
            ],
            "text/plain": [
              "                  store_id  day_of_week  ...  installment_term    amount\n",
              "store_id          1.000000    -0.000040  ...         -0.012184 -0.018348\n",
              "day_of_week      -0.000040     1.000000  ...         -0.013954 -0.021503\n",
              "business_day      0.000014    -0.790518  ...          0.015303  0.029468\n",
              "num_of_pay        0.042367     0.016719  ...          0.094140  0.265251\n",
              "num_of_revisit    0.008061    -0.038692  ...          0.071132  0.260674\n",
              "installment_term -0.012184    -0.013954  ...          1.000000  0.267498\n",
              "amount           -0.018348    -0.021503  ...          0.267498  1.000000\n",
              "\n",
              "[7 rows x 7 columns]"
            ]
          },
          "metadata": {
            "tags": []
          },
          "execution_count": 91
        }
      ]
    },
    {
      "cell_type": "code",
      "metadata": {
        "colab": {
          "base_uri": "https://localhost:8080/",
          "height": 524
        },
        "id": "lBkBvxJ4nulE",
        "outputId": "e92861d4-61cd-4bd4-fb7e-2c198cbd1b96"
      },
      "source": [
        "fig, ax = plt.subplots()\r\n",
        "fig.set_size_inches(10, 7)\r\n",
        "sns.heatmap(daily_corr, annot=True)"
      ],
      "execution_count": 92,
      "outputs": [
        {
          "output_type": "execute_result",
          "data": {
            "text/plain": [
              "<matplotlib.axes._subplots.AxesSubplot at 0x7fc7be1ab550>"
            ]
          },
          "metadata": {
            "tags": []
          },
          "execution_count": 92
        },
        {
          "output_type": "display_data",
          "data": {
            "image/png": "[encoded data removed]",
            "text/plain": [
              "<Figure size 720x504 with 2 Axes>"
            ]
          },
          "metadata": {
            "tags": [],
            "needs_background": "light"
          }
        }
      ]
    },
    {
      "cell_type": "markdown",
      "metadata": {
        "id": "_55s527Sq4Qt"
      },
      "source": [
        "__Modeling을 위해 Month 단위로 Resampling__"
      ]
    },
    {
      "cell_type": "code",
      "metadata": {
        "colab": {
          "base_uri": "https://localhost:8080/",
          "height": 184
        },
        "id": "hc9AkKk4qyxM",
        "outputId": "42ce793a-2b15-4d7e-f3dc-27fcfed11013"
      },
      "source": [
        "df_day.head(3)"
      ],
      "execution_count": 93,
      "outputs": [
        {
          "output_type": "execute_result",
          "data": {
            "text/html": [
              "<div>\n",
              "<style scoped>\n",
              "    .dataframe tbody tr th:only-of-type {\n",
              "        vertical-align: middle;\n",
              "    }\n",
              "\n",
              "    .dataframe tbody tr th {\n",
              "        vertical-align: top;\n",
              "    }\n",
              "\n",
              "    .dataframe thead th {\n",
              "        text-align: right;\n",
              "    }\n",
              "</style>\n",
              "<table border=\"1\" class=\"dataframe\">\n",
              "  <thead>\n",
              "    <tr style=\"text-align: right;\">\n",
              "      <th></th>\n",
              "      <th>transacted_date</th>\n",
              "      <th>store_id</th>\n",
              "      <th>day_of_week</th>\n",
              "      <th>business_day</th>\n",
              "      <th>num_of_pay</th>\n",
              "      <th>num_of_revisit</th>\n",
              "      <th>installment_term</th>\n",
              "      <th>region</th>\n",
              "      <th>type_of_business</th>\n",
              "      <th>amount</th>\n",
              "    </tr>\n",
              "    <tr>\n",
              "      <th>transcated_date</th>\n",
              "      <th></th>\n",
              "      <th></th>\n",
              "      <th></th>\n",
              "      <th></th>\n",
              "      <th></th>\n",
              "      <th></th>\n",
              "      <th></th>\n",
              "      <th></th>\n",
              "      <th></th>\n",
              "      <th></th>\n",
              "    </tr>\n",
              "  </thead>\n",
              "  <tbody>\n",
              "    <tr>\n",
              "      <th>2016-06-01</th>\n",
              "      <td>2016-06-01</td>\n",
              "      <td>0</td>\n",
              "      <td>2</td>\n",
              "      <td>1</td>\n",
              "      <td>4</td>\n",
              "      <td>4.0</td>\n",
              "      <td>0</td>\n",
              "      <td>NaN</td>\n",
              "      <td>기타 미용업</td>\n",
              "      <td>12571.428571</td>\n",
              "    </tr>\n",
              "    <tr>\n",
              "      <th>2016-06-02</th>\n",
              "      <td>2016-06-02</td>\n",
              "      <td>0</td>\n",
              "      <td>3</td>\n",
              "      <td>1</td>\n",
              "      <td>7</td>\n",
              "      <td>3.0</td>\n",
              "      <td>0</td>\n",
              "      <td>NaN</td>\n",
              "      <td>기타 미용업</td>\n",
              "      <td>40571.428571</td>\n",
              "    </tr>\n",
              "    <tr>\n",
              "      <th>2016-06-03</th>\n",
              "      <td>2016-06-03</td>\n",
              "      <td>0</td>\n",
              "      <td>4</td>\n",
              "      <td>1</td>\n",
              "      <td>3</td>\n",
              "      <td>2.0</td>\n",
              "      <td>0</td>\n",
              "      <td>NaN</td>\n",
              "      <td>기타 미용업</td>\n",
              "      <td>18142.857143</td>\n",
              "    </tr>\n",
              "  </tbody>\n",
              "</table>\n",
              "</div>"
            ],
            "text/plain": [
              "                transacted_date  store_id  ...  type_of_business        amount\n",
              "transcated_date                            ...                                \n",
              "2016-06-01           2016-06-01         0  ...            기타 미용업  12571.428571\n",
              "2016-06-02           2016-06-02         0  ...            기타 미용업  40571.428571\n",
              "2016-06-03           2016-06-03         0  ...            기타 미용업  18142.857143\n",
              "\n",
              "[3 rows x 10 columns]"
            ]
          },
          "metadata": {
            "tags": []
          },
          "execution_count": 93
        }
      ]
    },
    {
      "cell_type": "code",
      "metadata": {
        "colab": {
          "base_uri": "https://localhost:8080/",
          "height": 354
        },
        "id": "wLIi5CQc2tVE",
        "outputId": "d95407ac-efe4-4fc6-a7ad-5fe0f2f57bc4"
      },
      "source": [
        "a = df_day[df_day['store_id'] == 111]\r\n",
        "s = pd.DataFrame(index=pd.date_range(start = (a.index[0] - relativedelta(months=1)), end = (a.index[0] - relativedelta(months=1))))\r\n",
        "e = pd.DataFrame(index=pd.date_range(start = (a.index[-1] + relativedelta(months=1)), end = (a.index[-1] + relativedelta(months=1))))\r\n",
        "n = pd.concat([s, a, e], axis = 0)\r\n",
        "# n.loc[dt.strftime(n.index[0], '%Y-%m'), :] = 1\r\n",
        "# n.loc[dt.strftime(n.index[-1], '%Y-%m'), :] = 1\r\n",
        "n.drop([n.index[0], n.index[-1]], axis=1)"
      ],
      "execution_count": 136,
      "outputs": [
        {
          "output_type": "error",
          "ename": "KeyError",
          "evalue": "ignored",
          "traceback": [
            "\u001b[0;31m---------------------------------------------------------------------------\u001b[0m",
            "\u001b[0;31mKeyError\u001b[0m                                  Traceback (most recent call last)",
            "\u001b[0;32m<ipython-input-136-e47548723ee1>\u001b[0m in \u001b[0;36m<module>\u001b[0;34m()\u001b[0m\n\u001b[1;32m      5\u001b[0m \u001b[0;31m# n.loc[dt.strftime(n.index[0], '%Y-%m'), :] = 1\u001b[0m\u001b[0;34m\u001b[0m\u001b[0;34m\u001b[0m\u001b[0;34m\u001b[0m\u001b[0m\n\u001b[1;32m      6\u001b[0m \u001b[0;31m# n.loc[dt.strftime(n.index[-1], '%Y-%m'), :] = 1\u001b[0m\u001b[0;34m\u001b[0m\u001b[0;34m\u001b[0m\u001b[0;34m\u001b[0m\u001b[0m\n\u001b[0;32m----> 7\u001b[0;31m \u001b[0mn\u001b[0m\u001b[0;34m.\u001b[0m\u001b[0mdrop\u001b[0m\u001b[0;34m(\u001b[0m\u001b[0;34m[\u001b[0m\u001b[0mn\u001b[0m\u001b[0;34m.\u001b[0m\u001b[0mindex\u001b[0m\u001b[0;34m[\u001b[0m\u001b[0;36m0\u001b[0m\u001b[0;34m]\u001b[0m\u001b[0;34m,\u001b[0m \u001b[0mn\u001b[0m\u001b[0;34m.\u001b[0m\u001b[0mindex\u001b[0m\u001b[0;34m[\u001b[0m\u001b[0;34m-\u001b[0m\u001b[0;36m1\u001b[0m\u001b[0;34m]\u001b[0m\u001b[0;34m]\u001b[0m\u001b[0;34m,\u001b[0m \u001b[0maxis\u001b[0m\u001b[0;34m=\u001b[0m\u001b[0;36m1\u001b[0m\u001b[0;34m)\u001b[0m\u001b[0;34m\u001b[0m\u001b[0;34m\u001b[0m\u001b[0m\n\u001b[0m",
            "\u001b[0;32m/usr/local/lib/python3.6/dist-packages/pandas/core/frame.py\u001b[0m in \u001b[0;36mdrop\u001b[0;34m(self, labels, axis, index, columns, level, inplace, errors)\u001b[0m\n\u001b[1;32m   4172\u001b[0m             \u001b[0mlevel\u001b[0m\u001b[0;34m=\u001b[0m\u001b[0mlevel\u001b[0m\u001b[0;34m,\u001b[0m\u001b[0;34m\u001b[0m\u001b[0;34m\u001b[0m\u001b[0m\n\u001b[1;32m   4173\u001b[0m             \u001b[0minplace\u001b[0m\u001b[0;34m=\u001b[0m\u001b[0minplace\u001b[0m\u001b[0;34m,\u001b[0m\u001b[0;34m\u001b[0m\u001b[0;34m\u001b[0m\u001b[0m\n\u001b[0;32m-> 4174\u001b[0;31m             \u001b[0merrors\u001b[0m\u001b[0;34m=\u001b[0m\u001b[0merrors\u001b[0m\u001b[0;34m,\u001b[0m\u001b[0;34m\u001b[0m\u001b[0;34m\u001b[0m\u001b[0m\n\u001b[0m\u001b[1;32m   4175\u001b[0m         )\n\u001b[1;32m   4176\u001b[0m \u001b[0;34m\u001b[0m\u001b[0m\n",
            "\u001b[0;32m/usr/local/lib/python3.6/dist-packages/pandas/core/generic.py\u001b[0m in \u001b[0;36mdrop\u001b[0;34m(self, labels, axis, index, columns, level, inplace, errors)\u001b[0m\n\u001b[1;32m   3887\u001b[0m         \u001b[0;32mfor\u001b[0m \u001b[0maxis\u001b[0m\u001b[0;34m,\u001b[0m \u001b[0mlabels\u001b[0m \u001b[0;32min\u001b[0m \u001b[0maxes\u001b[0m\u001b[0;34m.\u001b[0m\u001b[0mitems\u001b[0m\u001b[0;34m(\u001b[0m\u001b[0;34m)\u001b[0m\u001b[0;34m:\u001b[0m\u001b[0;34m\u001b[0m\u001b[0;34m\u001b[0m\u001b[0m\n\u001b[1;32m   3888\u001b[0m             \u001b[0;32mif\u001b[0m \u001b[0mlabels\u001b[0m \u001b[0;32mis\u001b[0m \u001b[0;32mnot\u001b[0m \u001b[0;32mNone\u001b[0m\u001b[0;34m:\u001b[0m\u001b[0;34m\u001b[0m\u001b[0;34m\u001b[0m\u001b[0m\n\u001b[0;32m-> 3889\u001b[0;31m                 \u001b[0mobj\u001b[0m \u001b[0;34m=\u001b[0m \u001b[0mobj\u001b[0m\u001b[0;34m.\u001b[0m\u001b[0m_drop_axis\u001b[0m\u001b[0;34m(\u001b[0m\u001b[0mlabels\u001b[0m\u001b[0;34m,\u001b[0m \u001b[0maxis\u001b[0m\u001b[0;34m,\u001b[0m \u001b[0mlevel\u001b[0m\u001b[0;34m=\u001b[0m\u001b[0mlevel\u001b[0m\u001b[0;34m,\u001b[0m \u001b[0merrors\u001b[0m\u001b[0;34m=\u001b[0m\u001b[0merrors\u001b[0m\u001b[0;34m)\u001b[0m\u001b[0;34m\u001b[0m\u001b[0;34m\u001b[0m\u001b[0m\n\u001b[0m\u001b[1;32m   3890\u001b[0m \u001b[0;34m\u001b[0m\u001b[0m\n\u001b[1;32m   3891\u001b[0m         \u001b[0;32mif\u001b[0m \u001b[0minplace\u001b[0m\u001b[0;34m:\u001b[0m\u001b[0;34m\u001b[0m\u001b[0;34m\u001b[0m\u001b[0m\n",
            "\u001b[0;32m/usr/local/lib/python3.6/dist-packages/pandas/core/generic.py\u001b[0m in \u001b[0;36m_drop_axis\u001b[0;34m(self, labels, axis, level, errors)\u001b[0m\n\u001b[1;32m   3921\u001b[0m                 \u001b[0mnew_axis\u001b[0m \u001b[0;34m=\u001b[0m \u001b[0maxis\u001b[0m\u001b[0;34m.\u001b[0m\u001b[0mdrop\u001b[0m\u001b[0;34m(\u001b[0m\u001b[0mlabels\u001b[0m\u001b[0;34m,\u001b[0m \u001b[0mlevel\u001b[0m\u001b[0;34m=\u001b[0m\u001b[0mlevel\u001b[0m\u001b[0;34m,\u001b[0m \u001b[0merrors\u001b[0m\u001b[0;34m=\u001b[0m\u001b[0merrors\u001b[0m\u001b[0;34m)\u001b[0m\u001b[0;34m\u001b[0m\u001b[0;34m\u001b[0m\u001b[0m\n\u001b[1;32m   3922\u001b[0m             \u001b[0;32melse\u001b[0m\u001b[0;34m:\u001b[0m\u001b[0;34m\u001b[0m\u001b[0;34m\u001b[0m\u001b[0m\n\u001b[0;32m-> 3923\u001b[0;31m                 \u001b[0mnew_axis\u001b[0m \u001b[0;34m=\u001b[0m \u001b[0maxis\u001b[0m\u001b[0;34m.\u001b[0m\u001b[0mdrop\u001b[0m\u001b[0;34m(\u001b[0m\u001b[0mlabels\u001b[0m\u001b[0;34m,\u001b[0m \u001b[0merrors\u001b[0m\u001b[0;34m=\u001b[0m\u001b[0merrors\u001b[0m\u001b[0;34m)\u001b[0m\u001b[0;34m\u001b[0m\u001b[0;34m\u001b[0m\u001b[0m\n\u001b[0m\u001b[1;32m   3924\u001b[0m             \u001b[0mresult\u001b[0m \u001b[0;34m=\u001b[0m \u001b[0mself\u001b[0m\u001b[0;34m.\u001b[0m\u001b[0mreindex\u001b[0m\u001b[0;34m(\u001b[0m\u001b[0;34m**\u001b[0m\u001b[0;34m{\u001b[0m\u001b[0maxis_name\u001b[0m\u001b[0;34m:\u001b[0m \u001b[0mnew_axis\u001b[0m\u001b[0;34m}\u001b[0m\u001b[0;34m)\u001b[0m\u001b[0;34m\u001b[0m\u001b[0;34m\u001b[0m\u001b[0m\n\u001b[1;32m   3925\u001b[0m \u001b[0;34m\u001b[0m\u001b[0m\n",
            "\u001b[0;32m/usr/local/lib/python3.6/dist-packages/pandas/core/indexes/base.py\u001b[0m in \u001b[0;36mdrop\u001b[0;34m(self, labels, errors)\u001b[0m\n\u001b[1;32m   5285\u001b[0m         \u001b[0;32mif\u001b[0m \u001b[0mmask\u001b[0m\u001b[0;34m.\u001b[0m\u001b[0many\u001b[0m\u001b[0;34m(\u001b[0m\u001b[0;34m)\u001b[0m\u001b[0;34m:\u001b[0m\u001b[0;34m\u001b[0m\u001b[0;34m\u001b[0m\u001b[0m\n\u001b[1;32m   5286\u001b[0m             \u001b[0;32mif\u001b[0m \u001b[0merrors\u001b[0m \u001b[0;34m!=\u001b[0m \u001b[0;34m\"ignore\"\u001b[0m\u001b[0;34m:\u001b[0m\u001b[0;34m\u001b[0m\u001b[0;34m\u001b[0m\u001b[0m\n\u001b[0;32m-> 5287\u001b[0;31m                 \u001b[0;32mraise\u001b[0m \u001b[0mKeyError\u001b[0m\u001b[0;34m(\u001b[0m\u001b[0;34mf\"{labels[mask]} not found in axis\"\u001b[0m\u001b[0;34m)\u001b[0m\u001b[0;34m\u001b[0m\u001b[0;34m\u001b[0m\u001b[0m\n\u001b[0m\u001b[1;32m   5288\u001b[0m             \u001b[0mindexer\u001b[0m \u001b[0;34m=\u001b[0m \u001b[0mindexer\u001b[0m\u001b[0;34m[\u001b[0m\u001b[0;34m~\u001b[0m\u001b[0mmask\u001b[0m\u001b[0;34m]\u001b[0m\u001b[0;34m\u001b[0m\u001b[0;34m\u001b[0m\u001b[0m\n\u001b[1;32m   5289\u001b[0m         \u001b[0;32mreturn\u001b[0m \u001b[0mself\u001b[0m\u001b[0;34m.\u001b[0m\u001b[0mdelete\u001b[0m\u001b[0;34m(\u001b[0m\u001b[0mindexer\u001b[0m\u001b[0;34m)\u001b[0m\u001b[0;34m\u001b[0m\u001b[0;34m\u001b[0m\u001b[0m\n",
            "\u001b[0;31mKeyError\u001b[0m: \"[Timestamp('2016-05-03 00:00:00') Timestamp('2018-10-30 00:00:00')] not found in axis\""
          ]
        }
      ]
    },
    {
      "cell_type": "code",
      "metadata": {
        "id": "51-cZmfeq_i1"
      },
      "source": [
        "def resample_month(frame_day):\r\n",
        "  sum_cols = ['num_of_pay', 'num_of_revisit', 'installment_term', 'amount']\r\n",
        "  df_monthly = pd.DataFrame()\r\n",
        "  for i in frame_day['store_id'].unique():\r\n",
        "    df_set = frame_day[frame_day['store_id'] == i]\r\n",
        "\r\n",
        "    # nan 값이 발생하는 경우를 없애기 위해 이전, 이후 달에 대한 정보를 추가한 후 제거\r\n",
        "    # store_id별  첫째날 - 한 달 / 첫째날 ~ 마지막날 / 마지막날 + 한 달 별 데이터 생성\r\n",
        "    prev_date = pd.date_range(start=(df_set.index[0] - relativedelta(months=1)), end=(df_set.index[0] - relativedelta(months=1)))\r\n",
        "    add_date = pd.date_range(start=(df_set.index[-1] + relativedelta(months=1)), end=(df_set.index[-1] + relativedelta(months=1)))\r\n",
        "    df_set = pd.concat([pd.DataFrame(index=prev_date), df_set, pd.DataFrame(index=add_date)], axis=0)\r\n",
        "    \r\n",
        "    df_set.loc[dt.strftime(df_set.index[0], '%Y-%m'), :] = 1\r\n",
        "    df_set.loc[dt.strftime(df_set.index[-1], '%Y-%m'), :] = 1\r\n",
        "\r\n",
        "    tot_day = df_set[df_set['amount'] != 0]['day_of_week'].resample(rule='m').count().rename('real_tot_day')\r\n",
        "    business = df_set[df_set['amount'] != 0]['business_day'].resample(rule='m').sum().rename('real_business_day')\r\n",
        "    \r\n",
        "    # 인덱스 0, -1번 drop\r\n",
        "    business = business.drop([business.index[0], business.index[-1]], axis=0)\r\n",
        "    tot_day = tot_day.drop([tot_day.index[0], tot_day.index[-1]],axis=0)\r\n",
        "    df_set = df_set.drop([df_set.index[0], df_set.index[-1]], axis=0)\r\n",
        "\r\n",
        "    df = pd.concat([tot_day, business, df_set[sum_cols].resample(rule='m').sum()], axis=1)\r\n",
        "\r\n",
        "    df.insert(0, 'store_id', i)\r\n",
        "    df.insert(6, 'region', df_set['region'].values[0])\r\n",
        "    df.insert(7, 'type_of_business', df_set['type_of_business'].values[0])\r\n",
        "\r\n",
        "    df_monthly = pd.concat([df_monthly, df], axis=0)\r\n",
        "  \r\n",
        "  return df_monthly"
      ],
      "execution_count": 140,
      "outputs": []
    },
    {
      "cell_type": "code",
      "metadata": {
        "colab": {
          "base_uri": "https://localhost:8080/"
        },
        "id": "6cVLOFQ99OgO",
        "outputId": "5a91c04f-ee44-4669-c7f3-7d24165c0056"
      },
      "source": [
        "%%time\r\n",
        "df_month = resample_month(df_day)"
      ],
      "execution_count": 141,
      "outputs": [
        {
          "output_type": "stream",
          "text": [
            "CPU times: user 1min 15s, sys: 1.7 s, total: 1min 17s\n",
            "Wall time: 1min 14s\n"
          ],
          "name": "stdout"
        }
      ]
    },
    {
      "cell_type": "code",
      "metadata": {
        "colab": {
          "base_uri": "https://localhost:8080/",
          "height": 588
        },
        "id": "ptx4iiDXx97v",
        "outputId": "93e24d7c-632a-45cd-a8b4-0e9705d2dd40"
      },
      "source": [
        "df_month"
      ],
      "execution_count": 142,
      "outputs": [
        {
          "output_type": "execute_result",
          "data": {
            "text/html": [
              "<div>\n",
              "<style scoped>\n",
              "    .dataframe tbody tr th:only-of-type {\n",
              "        vertical-align: middle;\n",
              "    }\n",
              "\n",
              "    .dataframe tbody tr th {\n",
              "        vertical-align: top;\n",
              "    }\n",
              "\n",
              "    .dataframe thead th {\n",
              "        text-align: right;\n",
              "    }\n",
              "</style>\n",
              "<table border=\"1\" class=\"dataframe\">\n",
              "  <thead>\n",
              "    <tr style=\"text-align: right;\">\n",
              "      <th></th>\n",
              "      <th>store_id</th>\n",
              "      <th>real_tot_day</th>\n",
              "      <th>real_business_day</th>\n",
              "      <th>num_of_pay</th>\n",
              "      <th>num_of_revisit</th>\n",
              "      <th>installment_term</th>\n",
              "      <th>region</th>\n",
              "      <th>type_of_business</th>\n",
              "      <th>amount</th>\n",
              "    </tr>\n",
              "  </thead>\n",
              "  <tbody>\n",
              "    <tr>\n",
              "      <th>2016-06-30</th>\n",
              "      <td>0</td>\n",
              "      <td>25</td>\n",
              "      <td>17.0</td>\n",
              "      <td>145.0</td>\n",
              "      <td>77.0</td>\n",
              "      <td>13.0</td>\n",
              "      <td>NaN</td>\n",
              "      <td>기타 미용업</td>\n",
              "      <td>7.470000e+05</td>\n",
              "    </tr>\n",
              "    <tr>\n",
              "      <th>2016-07-31</th>\n",
              "      <td>0</td>\n",
              "      <td>26</td>\n",
              "      <td>16.0</td>\n",
              "      <td>178.0</td>\n",
              "      <td>105.0</td>\n",
              "      <td>24.0</td>\n",
              "      <td>NaN</td>\n",
              "      <td>기타 미용업</td>\n",
              "      <td>1.005000e+06</td>\n",
              "    </tr>\n",
              "    <tr>\n",
              "      <th>2016-08-31</th>\n",
              "      <td>0</td>\n",
              "      <td>24</td>\n",
              "      <td>16.0</td>\n",
              "      <td>171.0</td>\n",
              "      <td>97.0</td>\n",
              "      <td>69.0</td>\n",
              "      <td>NaN</td>\n",
              "      <td>기타 미용업</td>\n",
              "      <td>8.715714e+05</td>\n",
              "    </tr>\n",
              "    <tr>\n",
              "      <th>2016-09-30</th>\n",
              "      <td>0</td>\n",
              "      <td>25</td>\n",
              "      <td>19.0</td>\n",
              "      <td>160.0</td>\n",
              "      <td>103.0</td>\n",
              "      <td>15.0</td>\n",
              "      <td>NaN</td>\n",
              "      <td>기타 미용업</td>\n",
              "      <td>8.978571e+05</td>\n",
              "    </tr>\n",
              "    <tr>\n",
              "      <th>2016-10-31</th>\n",
              "      <td>0</td>\n",
              "      <td>26</td>\n",
              "      <td>16.0</td>\n",
              "      <td>167.0</td>\n",
              "      <td>115.0</td>\n",
              "      <td>9.0</td>\n",
              "      <td>NaN</td>\n",
              "      <td>기타 미용업</td>\n",
              "      <td>8.354286e+05</td>\n",
              "    </tr>\n",
              "    <tr>\n",
              "      <th>...</th>\n",
              "      <td>...</td>\n",
              "      <td>...</td>\n",
              "      <td>...</td>\n",
              "      <td>...</td>\n",
              "      <td>...</td>\n",
              "      <td>...</td>\n",
              "      <td>...</td>\n",
              "      <td>...</td>\n",
              "      <td>...</td>\n",
              "    </tr>\n",
              "    <tr>\n",
              "      <th>2018-10-31</th>\n",
              "      <td>2136</td>\n",
              "      <td>31</td>\n",
              "      <td>23.0</td>\n",
              "      <td>338.0</td>\n",
              "      <td>86.0</td>\n",
              "      <td>0.0</td>\n",
              "      <td>제주 제주시</td>\n",
              "      <td>기타 주점업</td>\n",
              "      <td>2.012214e+06</td>\n",
              "    </tr>\n",
              "    <tr>\n",
              "      <th>2018-11-30</th>\n",
              "      <td>2136</td>\n",
              "      <td>28</td>\n",
              "      <td>20.0</td>\n",
              "      <td>356.0</td>\n",
              "      <td>87.0</td>\n",
              "      <td>0.0</td>\n",
              "      <td>제주 제주시</td>\n",
              "      <td>기타 주점업</td>\n",
              "      <td>2.135429e+06</td>\n",
              "    </tr>\n",
              "    <tr>\n",
              "      <th>2018-12-31</th>\n",
              "      <td>2136</td>\n",
              "      <td>31</td>\n",
              "      <td>21.0</td>\n",
              "      <td>403.0</td>\n",
              "      <td>109.0</td>\n",
              "      <td>0.0</td>\n",
              "      <td>제주 제주시</td>\n",
              "      <td>기타 주점업</td>\n",
              "      <td>2.427429e+06</td>\n",
              "    </tr>\n",
              "    <tr>\n",
              "      <th>2019-01-31</th>\n",
              "      <td>2136</td>\n",
              "      <td>31</td>\n",
              "      <td>23.0</td>\n",
              "      <td>297.0</td>\n",
              "      <td>74.0</td>\n",
              "      <td>3.0</td>\n",
              "      <td>제주 제주시</td>\n",
              "      <td>기타 주점업</td>\n",
              "      <td>1.873643e+06</td>\n",
              "    </tr>\n",
              "    <tr>\n",
              "      <th>2019-02-28</th>\n",
              "      <td>2136</td>\n",
              "      <td>28</td>\n",
              "      <td>20.0</td>\n",
              "      <td>376.0</td>\n",
              "      <td>83.0</td>\n",
              "      <td>0.0</td>\n",
              "      <td>제주 제주시</td>\n",
              "      <td>기타 주점업</td>\n",
              "      <td>2.227429e+06</td>\n",
              "    </tr>\n",
              "  </tbody>\n",
              "</table>\n",
              "<p>60915 rows × 9 columns</p>\n",
              "</div>"
            ],
            "text/plain": [
              "            store_id  real_tot_day  ...  type_of_business        amount\n",
              "2016-06-30         0            25  ...            기타 미용업  7.470000e+05\n",
              "2016-07-31         0            26  ...            기타 미용업  1.005000e+06\n",
              "2016-08-31         0            24  ...            기타 미용업  8.715714e+05\n",
              "2016-09-30         0            25  ...            기타 미용업  8.978571e+05\n",
              "2016-10-31         0            26  ...            기타 미용업  8.354286e+05\n",
              "...              ...           ...  ...               ...           ...\n",
              "2018-10-31      2136            31  ...            기타 주점업  2.012214e+06\n",
              "2018-11-30      2136            28  ...            기타 주점업  2.135429e+06\n",
              "2018-12-31      2136            31  ...            기타 주점업  2.427429e+06\n",
              "2019-01-31      2136            31  ...            기타 주점업  1.873643e+06\n",
              "2019-02-28      2136            28  ...            기타 주점업  2.227429e+06\n",
              "\n",
              "[60915 rows x 9 columns]"
            ]
          },
          "metadata": {
            "tags": []
          },
          "execution_count": 142
        }
      ]
    },
    {
      "cell_type": "markdown",
      "metadata": {
        "id": "c5Evt30h9_Xc"
      },
      "source": [
        "- `real_tot_day`: 해당 달의 amount가 1이상인 날의 수\r\n",
        "- `real_business_day`: 해당 달의 평일 중 amount가 1이상인 날의 수"
      ]
    },
    {
      "cell_type": "code",
      "metadata": {
        "colab": {
          "base_uri": "https://localhost:8080/"
        },
        "id": "xXc_oL_-9mMJ",
        "outputId": "be179149-49ab-4744-d274-956b190712f7"
      },
      "source": [
        "df_month.isnull().sum()"
      ],
      "execution_count": 143,
      "outputs": [
        {
          "output_type": "execute_result",
          "data": {
            "text/plain": [
              "store_id                 0\n",
              "real_tot_day             0\n",
              "real_business_day        0\n",
              "num_of_pay               0\n",
              "num_of_revisit           0\n",
              "installment_term         0\n",
              "region               20900\n",
              "type_of_business     36048\n",
              "amount                   0\n",
              "dtype: int64"
            ]
          },
          "metadata": {
            "tags": []
          },
          "execution_count": 143
        }
      ]
    },
    {
      "cell_type": "code",
      "metadata": {
        "colab": {
          "base_uri": "https://localhost:8080/"
        },
        "id": "XmMfNGLo9okF",
        "outputId": "84fbdf1d-a343-4060-ade3-c2a904ec646a"
      },
      "source": [
        "print('rate of region : ', df_month['region'].isnull().sum()/len(df_month))\r\n",
        "print('rate of type of business :', df_month['type_of_business'].isnull().sum() / len(df_month))"
      ],
      "execution_count": 145,
      "outputs": [
        {
          "output_type": "stream",
          "text": [
            "rate of region :  0.34310104243618156\n",
            "rate of type of business : 0.5917754247722236\n"
          ],
          "name": "stdout"
        }
      ]
    },
    {
      "cell_type": "markdown",
      "metadata": {
        "id": "8ptMKaQ9-pKI"
      },
      "source": [
        "- 각각 null 값이 34% , 59%에 이르므로, 대체하기도 어려울 뿐더러 오차가 클 것으로 예상되므로 region과 type of business는 삭제"
      ]
    },
    {
      "cell_type": "code",
      "metadata": {
        "colab": {
          "base_uri": "https://localhost:8080/"
        },
        "id": "WewcW5pR-k76",
        "outputId": "68e5c608-0849-400a-861b-8c544e6071f8"
      },
      "source": [
        "df_month = df_month.drop(['region','type_of_business'], axis=1)\r\n",
        "df_month.isnull().sum()"
      ],
      "execution_count": 146,
      "outputs": [
        {
          "output_type": "execute_result",
          "data": {
            "text/plain": [
              "store_id             0\n",
              "real_tot_day         0\n",
              "real_business_day    0\n",
              "num_of_pay           0\n",
              "num_of_revisit       0\n",
              "installment_term     0\n",
              "amount               0\n",
              "dtype: int64"
            ]
          },
          "metadata": {
            "tags": []
          },
          "execution_count": 146
        }
      ]
    },
    {
      "cell_type": "code",
      "metadata": {
        "id": "fSgykCdP-7aR"
      },
      "source": [
        "# df_month.to_csv('/content/drive/MyDrive/dacon/상점 신용카드 매출 예측/funda_train_month.csv')"
      ],
      "execution_count": 147,
      "outputs": []
    },
    {
      "cell_type": "code",
      "metadata": {
        "id": "Sgk4B5fK_C_F"
      },
      "source": [
        "df_month = pd.read_csv('/content/drive/MyDrive/dacon/상점 신용카드 매출 예측/funda_train_month.csv')\r\n",
        "df_month.rename(columns = {'Unnamed: 0' : 'transacted_date'}, inplace=True)\r\n",
        "df_month['transacted_date'] = pd.to_datetime(df_month['transacted_date'])\r\n",
        "df_month = df_month.set_index('transacted_date')"
      ],
      "execution_count": 153,
      "outputs": []
    },
    {
      "cell_type": "code",
      "metadata": {
        "colab": {
          "base_uri": "https://localhost:8080/",
          "height": 261
        },
        "id": "ZVepScFU_ITD",
        "outputId": "b1b224fb-ccc3-4382-fc00-f4b18e1ca067"
      },
      "source": [
        "print(df_month.shape)\r\n",
        "df_month.head()"
      ],
      "execution_count": 154,
      "outputs": [
        {
          "output_type": "stream",
          "text": [
            "(60915, 7)\n"
          ],
          "name": "stdout"
        },
        {
          "output_type": "execute_result",
          "data": {
            "text/html": [
              "<div>\n",
              "<style scoped>\n",
              "    .dataframe tbody tr th:only-of-type {\n",
              "        vertical-align: middle;\n",
              "    }\n",
              "\n",
              "    .dataframe tbody tr th {\n",
              "        vertical-align: top;\n",
              "    }\n",
              "\n",
              "    .dataframe thead th {\n",
              "        text-align: right;\n",
              "    }\n",
              "</style>\n",
              "<table border=\"1\" class=\"dataframe\">\n",
              "  <thead>\n",
              "    <tr style=\"text-align: right;\">\n",
              "      <th></th>\n",
              "      <th>store_id</th>\n",
              "      <th>real_tot_day</th>\n",
              "      <th>real_business_day</th>\n",
              "      <th>num_of_pay</th>\n",
              "      <th>num_of_revisit</th>\n",
              "      <th>installment_term</th>\n",
              "      <th>amount</th>\n",
              "    </tr>\n",
              "    <tr>\n",
              "      <th>transacted_date</th>\n",
              "      <th></th>\n",
              "      <th></th>\n",
              "      <th></th>\n",
              "      <th></th>\n",
              "      <th></th>\n",
              "      <th></th>\n",
              "      <th></th>\n",
              "    </tr>\n",
              "  </thead>\n",
              "  <tbody>\n",
              "    <tr>\n",
              "      <th>2016-06-30</th>\n",
              "      <td>0</td>\n",
              "      <td>25</td>\n",
              "      <td>17.0</td>\n",
              "      <td>145.0</td>\n",
              "      <td>77.0</td>\n",
              "      <td>13.0</td>\n",
              "      <td>7.470000e+05</td>\n",
              "    </tr>\n",
              "    <tr>\n",
              "      <th>2016-07-31</th>\n",
              "      <td>0</td>\n",
              "      <td>26</td>\n",
              "      <td>16.0</td>\n",
              "      <td>178.0</td>\n",
              "      <td>105.0</td>\n",
              "      <td>24.0</td>\n",
              "      <td>1.005000e+06</td>\n",
              "    </tr>\n",
              "    <tr>\n",
              "      <th>2016-08-31</th>\n",
              "      <td>0</td>\n",
              "      <td>24</td>\n",
              "      <td>16.0</td>\n",
              "      <td>171.0</td>\n",
              "      <td>97.0</td>\n",
              "      <td>69.0</td>\n",
              "      <td>8.715714e+05</td>\n",
              "    </tr>\n",
              "    <tr>\n",
              "      <th>2016-09-30</th>\n",
              "      <td>0</td>\n",
              "      <td>25</td>\n",
              "      <td>19.0</td>\n",
              "      <td>160.0</td>\n",
              "      <td>103.0</td>\n",
              "      <td>15.0</td>\n",
              "      <td>8.978571e+05</td>\n",
              "    </tr>\n",
              "    <tr>\n",
              "      <th>2016-10-31</th>\n",
              "      <td>0</td>\n",
              "      <td>26</td>\n",
              "      <td>16.0</td>\n",
              "      <td>167.0</td>\n",
              "      <td>115.0</td>\n",
              "      <td>9.0</td>\n",
              "      <td>8.354286e+05</td>\n",
              "    </tr>\n",
              "  </tbody>\n",
              "</table>\n",
              "</div>"
            ],
            "text/plain": [
              "                 store_id  real_tot_day  ...  installment_term        amount\n",
              "transacted_date                          ...                                \n",
              "2016-06-30              0            25  ...              13.0  7.470000e+05\n",
              "2016-07-31              0            26  ...              24.0  1.005000e+06\n",
              "2016-08-31              0            24  ...              69.0  8.715714e+05\n",
              "2016-09-30              0            25  ...              15.0  8.978571e+05\n",
              "2016-10-31              0            26  ...               9.0  8.354286e+05\n",
              "\n",
              "[5 rows x 7 columns]"
            ]
          },
          "metadata": {
            "tags": []
          },
          "execution_count": 154
        }
      ]
    },
    {
      "cell_type": "code",
      "metadata": {
        "id": "gs9hmkmr_i3a"
      },
      "source": [
        ""
      ],
      "execution_count": null,
      "outputs": []
    }
  ]
}