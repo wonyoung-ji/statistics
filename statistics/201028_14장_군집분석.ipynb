{
  "nbformat": 4,
  "nbformat_minor": 0,
  "metadata": {
    "colab": {
      "name": "201028_14장_군집분석.ipynb",
      "provenance": [],
      "collapsed_sections": [],
      "toc_visible": true,
      "authorship_tag": "ABX9TyOeMSyA5I4QH/QkVSLpZCo8",
      "include_colab_link": true
    },
    "kernelspec": {
      "name": "python3",
      "display_name": "Python 3"
    }
  },
  "cells": [
    {
      "cell_type": "markdown",
      "metadata": {
        "id": "view-in-github",
        "colab_type": "text"
      },
      "source": [
        "<a href=\"https://colab.research.google.com/github/wonyoung-ji/statistics/blob/master/study/201028_14%EC%9E%A5_%EA%B5%B0%EC%A7%91%EB%B6%84%EC%84%9D.ipynb\" target=\"_parent\"><img src=\"https://colab.research.google.com/assets/colab-badge.svg\" alt=\"Open In Colab\"/></a>"
      ]
    },
    {
      "cell_type": "code",
      "metadata": {
        "id": "g2WIyTdnygwu",
        "outputId": "4f328080-a8ff-4163-a4dc-bd7ba03b5176",
        "colab": {
          "base_uri": "https://localhost:8080/",
          "height": 34
        }
      },
      "source": [
        "from google.colab import drive\n",
        "drive.mount('/content/gdrive')"
      ],
      "execution_count": 3,
      "outputs": [
        {
          "output_type": "stream",
          "text": [
            "Mounted at /content/gdrive\n"
          ],
          "name": "stdout"
        }
      ]
    },
    {
      "cell_type": "code",
      "metadata": {
        "id": "lZhonJkTyqAE"
      },
      "source": [
        "import pandas as pd\n",
        "import numpy as np"
      ],
      "execution_count": 4,
      "outputs": []
    },
    {
      "cell_type": "markdown",
      "metadata": {
        "id": "UFL3ep-1ZOxH"
      },
      "source": [
        "# 군집분석"
      ]
    },
    {
      "cell_type": "markdown",
      "metadata": {
        "id": "KRKS-xXLZRHP"
      },
      "source": [
        "# 1.군집분석 기초"
      ]
    },
    {
      "cell_type": "markdown",
      "metadata": {
        "id": "nNGRLfJeZXhm"
      },
      "source": [
        "## 1.1 군집분석의 종류\n",
        "- 군집분석\n",
        "  - __집단 또는 범주에 대한 사전 정보가 없는 데이터__를, 주어진 관측 값을 사용하여  \n",
        "  전체를 몇 개의 __유사한 집단으로 그룹화__하여 각 집단의 성격을 파악하기 위한 통계분석 기법\n",
        "  - __유사성이 높은 대상들을 묶어 전체를 세분화__하여, 데이터의 전체 구조와 특성 파악 가능\n",
        "  - 군집분석 결과를 바탕으로 추가적인 통계분석기법 접목가능  \n",
        "  ex) 추후 해당 군집으로 편입될 고객들 예측\n",
        "\n",
        "  \n",
        "- __군집분석의 종류__\n",
        "  - __계층적 군집분석__\n",
        "    + 모든 개체들에 대해 __순차적(계층적)으로 군집을 형성__시켜 나아가는 군집분석 방법\n",
        "    + __나무모양의 계층구조__이므로 군집 형성과정을 파악할 수 있음\n",
        "    + 군집화 과정에서 가장 적절한 군집단계 지정\n",
        "    + 장단점\n",
        "           장점 1. 자료의 구조적 특성에 따라 적합한 군집 수 결정 가능\n",
        "                2. 군집이 형성되어 가는 과정을 비교적 명확하개 파악 가능\n",
        "           단점\n",
        "                1. 분석 자료의 크기가 클수록, 연산 오래 소모\n",
        "                2. 적절한 군집단계 파악 어려움\n",
        "  - __비계층적 군집분석__\n",
        "    + 계층적 군집분석 이외의 모든 군집분석 방법\n",
        "    + 가장 많이 사용되는 방법 = __K-평균 군집분석__, 코호넨 네트워크 분석\n",
        "    + __군집의 수를 미리 지정__ > 해당 영역의 세분화에 대한 이해와 경험이 필요\n",
        "    + 지정한 군집 수에 따라 각 군집들의 특성이 달라질 수 있음\n",
        "    + 대용량 데이터에 적용 가능"
      ]
    },
    {
      "cell_type": "markdown",
      "metadata": {
        "id": "J7dQQYpJb0al"
      },
      "source": [
        "## 1.2.군집분석의 과정\n",
        "- __군집분석 방법결정 > 분석변수 지정 > 이상치 제거 > 유사성 측정 > 군집화 > 군집특성 파악__\n",
        "- __군집분석 방법결정__\n",
        "                  - 군집분석의 목적과 데이터 특성에 따라 지정  \n",
        "                  - 계층적 군집분석: 탐색 목적 강하거나 분류 개체 규모 크지 않을 때\n",
        "                  - 비계층적 군집분석: 내부적으로 확정된 군집 수에 의해 대규모 분류 시\n",
        "- __분석변수 지정__\n",
        "                  - 군집화하기 위한 유사성(거리)측정 시, 사용될 분석변수 지정\n",
        "                  - 이 분석변수에 따라 군집의 품질 결정됨\n",
        "                  - 수치형 척도로 측정된 변수들이 바람직\n",
        "- __이상치제거__\n",
        "                  - 개체들의 분포를 파악하여 극단 값을 갖는 이상치 분석에서 제외\n",
        "                  - 군집 속성 값을 왜곡시키고 유사성 계산시 잘못된 거리 값을 파생시킬 가능성 있기 때문\n",
        "-  __유사성 측정__\n",
        "                  - 가장 적합한 유사성 측정방식을 채택하여 군집간의 유사성 평가(거리 계산)\n",
        "                  - 유클리디안 거리, 맨하탄 거리, 피어슨 거리, 민코프스키 거리, 마할라노비스 거리 측정 방식 등\n",
        "- __군집화__\n",
        "                  - 간집간의 거리를 바탕으로 유사한 개체를 묶어 동질적인 집단으로 형성\n",
        "                  - 계층적 군집분석: 최단 연결법, 최장 연결법, 평균 연결법, Ward 방법 등\n",
        "                  - 비계층적 군집분석: 순차적 군집화, 동시 군집화, 최적할당 군집화 등\n",
        "- __군집의 특성 파악__\n",
        "                  - 군집들에 대한 특성 파악 후 특성에 적합한 군집명 지정\n",
        "                  - 분석변수 외에도 다른 외생변수들의 관점에서 군집들간의 특성 비교 가능"
      ]
    },
    {
      "cell_type": "markdown",
      "metadata": {
        "id": "P4XozXVZinhE"
      },
      "source": [
        "## 1.3. 유사성 측정 방법\n",
        "- 관측치들간의 거리가 가까울수록 유사성이 큼\n",
        "- ① __유클리디안 거리__\n",
        "    - 일반적인 이차원 상의 거리척도\n",
        "    - 군집분석에서 가장 자주 사용되는 거리 측정 방식\n",
        "    - 유클리디안 거리 =각 측정변수들의 차이를 제곱한 값들을 모두 합한 후 재곱급을 취한 값\n",
        "    - ![image.png](data:image/png;base64,iVBORw0KGgoAAAANSUhEUgAAAJoAAABUCAYAAAB6HS7TAAAIKUlEQVR4Ae2dO071MBCFWQLsAIkNULAAOlo6Wlo6ahpqKlo6SkoqagoWABtAbACJJeTXd/UfGBknsXPzIPaMdJWX4xmfOR4/YsNO4+IIzIDAzgw6XIUj0DjRnASzIOBEmwVmV+JEcw7MgkBVRDs/P29OT0+bx8fHWcB1JT8IVEW0/f395vLysoFw19fX/hsRg+fn5x9WRc6qIdrX11dzeHjYAIiTbPxK5kT7X7s+Pj6a4+PjSF3zW3MgUE1Ee3193fTP5gDVdfxGoCqi0TdzWQaBaohGH8KJtgzJ0FoN0ZjSYMTpsgwC1RDt/v5+M9pcBmbXWg3Rbm9vG34uyyBQFdGIai7LIFAN0Zik9U9Py5AMrdUQjYFAH9He39+bo6Oj5uDgoHl7e2tOTk6anZ2d5unpaTkPFaK5GqIxtdH3meTh4aH5/PzckOvs7GxzfnFx0dzc3BTi7uWKUQ3RWLXB14E+IZLt7e1tSEZaoppHtD7U+p9XRTS+d/bJ3d3dhlykU3Tj6LIdAtUQjQ/qKUSjyVRT+fLysumzEeU8qjnRkhBgiRBLhfqEgQAEQxgc0IzSfHpU60Ou+3k1EY1Fjy7LIVAN0YhoLssh4ERbDvuqNFdJNPpdTMSO8auKLVsUtgqiab+AcGJiViTTCFPPUo72/ZT0nqaST1Cx/QJMY4hsGmXmEIIvBrzvkoZAFUjF9gswXcFUBmThmDt9oaiWBrOnqoZosWXcTMQqqhHhcoQo6BEtHbEqiMbH9LZl3HxyEtk4d5kGgSqI1rdfQP01RqNEOZfxEaiCaH37BeifacqD9Wi5/bXx3VJejlUQLWW/gPpcNKNXV1fleXqkEjEdpEFUzjfgZKJptSnD+rUJREvZLwCI6q9ts1oD0tIcr7EZZiEBvmZUHQrlUsTXgoPUechkoqEUJ8QMCA36a9c5+wVUoWhKhzSh4CNn/DUcUu2h3ASUvqACVqkDqGyiweS1Scp+AZVJNZVKBZA5Qo0fStAcPXOl7SKSIl9qZUwmGs0AIK5RUvYL2HLRbKoJTW0aeL/LMTb/tZyDQ6ziQC7KmhN0WokGsTTsp/NHGM2d1EwF1HbE5eDYkXRDJHW/gM2bAYFsSOlrATrpY+ArLw0yyE+YWp1TnIe60aG+qOzp0gvRbHdJJEvBxOYbJRpgoQBykTE/QExtj62Cv3AO0VKWcYe20tei3ClRDWeQNhQcAm56zjXRAEynFiISekUsqw9bUyoutlpCci2SwZMUbND7G5mm2UQuMrSCYVJg76/hPHW/QFgWAI41HWE6rgE8xMymU2WlVcglGfmCf9evS7eirYjFdVd6azfplFaVxdqxFdHIiEwlEIx7MQE0mgEb7TDMGhOG3zCfqZvO1P0C1i710+Qc+yx23kc03iFCxhzThW9M15B7+EA+oqWCbBLui0y6p6Mlmu4NOf5ij5xuAaYWthlCrQ8B5F0KJqEgbURVmimPufsFqDzYb5uMPvsgEDi0CRWXCjlVP7dNr+6jl/JA6hjZlS48TkY0hVnIAeAYx49agJGqFRgEoTAEw63xgCpAyYN3c5wWFnbb69z9ApQJ0mB7qqhZiaXnGRgoSgoT0oIbldDiF8tj23vkT5nkF+VHWdFvA4ueceT5GL77FdHInIxRjhLIJYCsQsCihmIghbAFAFTe14/rJSUnoin6Uu4cUQW1TZLuCTdhRrS0+UOANkfn2NCVlvxDvaTHJvzUJjyjomwr7Rp6cgY8EQiiQUqJCMi1CmgdoHRzHVMjGs4HWBu1c2wEgyGRqcvROfq70uKrGGHwj/WdzYMAAzkh47YyiGhyCADpJ2NVi61hpJm6xlp99jzcL2Cf2XPAJLKoHPZZ6rkqVY5juhydqrcrHba0kYz3qBhtlQM8hla60KZsoskh1jg1rTzDMAxEuCbyUSuWkth+gZgtshObtxGiBuVPzQccIQKEGzvqYwetC/5pEyoWNofRDpv4jSXZRMMwIpQlj6IaztK5jvTdbH9kLMNT84ntFwjfVUXpckj4Ttc1pEktt3SD3RKiCiaiUUFEvjHtySbamMrnyAuixfYLSDfAUmmWcrTsKP1YPNG69gvgXGovzUtqU1c6IaYqX/FE69ovMHQqQ84gEtJMuvQjUDzR2vYLaORsBzX9cP2k0PtOtB9Mus6KJ1psvwDNJCMyms0hwvt09hnwjD1SHGLPGt6pgmjhfoHY6Fij5NzjGpz8F2wsnmjhfgE1ebmEakv/F5y4BhuKJ1rOfoE1OGytNhZPtK79AvSzcgcDTGwyHeKSh0DxRBuyXyAGIQMAPslATJpRlzwEikesbb+A+lyCSwTSfXsMpzCcaEIt/Vg80dr2C/CNcej0hhMtnWBKWTzR2taiEcFy+2ffoHnTKSiSj8UTrW11LdHMNonedCZzZlDC4olG0xkTmj/m1HKXBkFOvRvL1+/FESieaG0RTYsCIVuqEAUhmX5D+3ip+kpKVwzRWHfGV4BQ2vpoYTq/nhaBIogGwZiYJdLY75qpy7inhdhzB4EiiKa/q0H02t3d/fasE+0bisVPiiCaUGQ1rY1qfcu49Z4fp0egKKIBF18CFNUgXtd+genhdQ1CoDii0VwS1ei39e0XEAh+nB6B4ogGZEQxohqra9v+kcX00LoGi0CRRGN3OlENssWmPCwAfj4PAkUSDehi0x3zQOpaYggUSzRFNTuvFgPA782DQLFEAz5IxoDAZXkEiiba8vC6BULAiSYk/DgpAk60SeH1zIWAE01I+HFSBJxok8LrmQsBJ5qQ8OOkCDjRJoXXMxcC/wAeoNHVwkWGMQAAAABJRU5ErkJggg==)\n",
        "   - 유클리디안 제곱거리 = 유클리디안 거리를 다시 제곱한 값. 비교적 단순한 계산. Ward 방식 군집 분석 시 사용\n",
        "- ② __맨하탄 거리__\n",
        "    - 두 지점의 최단거리인 유클리디안 거리가 현실적인 거리척도로 수용되기 어려울 때 한 지점에서 다른 지점으로 이동할 시 몇 개의 블록을 이동해야 하는지 계산\n",
        "    - 도시 블록 거리라고도 함\n",
        "    - 측정변수 편차의 절대값을 합한 값\n",
        "    - ![image.png](data:image/png;base64,iVBORw0KGgoAAAANSUhEUgAAALoAAAA6CAYAAAAHvkMpAAAGaElEQVR4Ae2bgVHjMBBF0wI10AI9UAI10AId0AEdUAEV0AAN0AE95OYd/MyeznJsSzJK9HfGKFak1e7fr5WsmMPRYgQGQOAwgI920QgcTXSTYAgETPQhwmwnTXRzYAgEhiT6x8fH8XA4VL+GYMyFOjkk0YnV09PTiej39/ebw/fy8nLSs1mJOzZHYFiig+zd3d2JpBB2qzBRWCEs/SIwdHQ+Pz+PNzc3J7Kzpdkir6+vJvoW4HbsMzTRwfnt7e1E9Nvb2+PX19dq+LXnX93RHXZDYHiig3Tcrz88POwGvgfaDwET/QfrWvv1/ULnkdYgYKL/oFVrv74GfLfdDwETPWAd9+tk+C379aDOHztCoJjoz8/Pp4e5racWHeHxz3798fGxmmngVHJeX82QC1f0/v6+6YSrmOjgpoe5C8fwZH7cr3N0WENM9BooHo+/TvRrylZxv845e42VykS/AqKTAcnq1yTpfr3UNxO9FMHv/rtldLIdZ8385E22I4B8hhjXJtqS4V/pRJ4iOg+7en0gvoKgccG6Z4n2xy2eyAhufK4p0r1W56o9upZ0iM5nHNV+tvegrAVG7eVf6WSeIjp1bIsgNkkDoS6SRnb0WPKwTtyZrPyqHCX6FOtLP+9CdDkUj91UV+rA0v4Qbum1VOdcO01uxsTXrTJFdOlS8FgVS1cO6dyz1BuckRdMAnyuLcJqrd7FGZ2AE+y4xDIYwb/2n80VyJLjxjmigyPYsnpEsqwN5pr2S5MF7c6JyEcp2frekPrnSo2V+z5Xf96Ln54KdnoCMUX+3GCXWK/tWSkJzxEdYlxiNldMIw8gYytfmhOdQKWzW6+nxpksx1VCkDTjy1j06SLQSx5o1X5JKRtKSrJ4jSPGOaLjN/6f2xrRDr/TZFPiX62+xBkfEeKdrkxpvHSQsXZ8cWdtv8UZPSW6Mh0O5IQ+ADAVQOrirAecqXY53XvUayLXeDjMER0c8V1j5fyiHZOBay6x5Pq3rlf8sE2Ej2OKC6rTDkH3S8vmRFcgGAjQRVSIzr2ewGUwWUdZGrKnErMkbWmT7v/TPnveYxO+lezLo71TRBeOPP9oPLI2WKerG0QCH3CP35EssFP9wJULnXuKiJzDS/ZjE7bRjjpEOMhu+TTFm+ZExyBABlRKAsOgGJdmGQxX3ZRhCiq6dNXImn9Rq/BH9k8BvVV9SnSCCXZgIRG+caXjOxGcz7RBFwK2XJAmJgowpX5PYaLNjYuvijVlnBDEHvLDGfyTX7RLhe+m6tN26f3/mtIWG+7jbJ0yLAYO9QQOJ3sRMo2ySy2bUqIv1ctEiBMiEl06ILkmB5MUIlDuKZBVEzAdV4lN9eJEXHVkt1YryqlEo77StbSsTnTNbMCOV3QqDZb6LDW6ZTuChd0CvNZYW4lOsCOOfI7ZUATRygDhpghSy48pPcSWmOYk9V02Q1oJeDOhJfioyas6yi6IruwT99pySsTRvZykD4GZAyo62vKzQMxlppKx02Av0UWwWenATELwI5FzBIHwwlh9a5bEjZhBclbAaGM6DvYKU9rjF6SOffBLe3b64ze+UR/bKUbpGOfuq2Z0ZZ64DQEM1WNMvKeetjgenTlndIvvGR/wW024tUSnvXCDtIiCTL2IkxJE/ahvKdiEHeA1FzvZI1/AGEJrBZKNTIaYINFLW/mudsJA90vLqkRfOmiP7QTsXNB6tNs2LUPARA//OJJmmWUQfreKy/Oafm67DwLDE519IMtqXDbXQs8qELcTa/u7fXsEhiY6D0baM5ZAXWOylIzvvucRGJboZGG2G1wl+3ImCzrI6C1POc6H0i3mEBiW6Jz06CSgVmmiz1Htd78bkujaatQiuPSY6L9L5rnRhyR6erYropaWbGMsfSIwJNH7DIWtaomAid4SXevuBgETvZtQ2JCWCJjoLdG17m4QMNG7CYUNaYmAid4SXevuBgETfSIU/FKqtxk5MuSVV44e+QXUcpkImOgTceMdaAjOu/IQnh+CuCC75TIRcOQycdMbifyKilA6o2fAuoBqEz0TJIjNm40S3o1p/V87GstlfQRM9Aym6b+o5f6HMdPd1Z0hYKJnAsI2Jf4zhh5O0/9hzHR3dWcImOidBcTmtEHARG+Dq7V2hoCJ3llAbE4bBEz0Nrhaa2cImOidBcTmtEHARG+Dq7V2hoCJ3llAbE4bBP4ANbIfzBDl2+cAAAAASUVORK5CYII=)\n",
        "- ③ __피어슨 거리__\n",
        "    - 측정변수들의 피어슨 상관계수를 활용하여 두 개체간의 거리를 계산\n",
        "    - 1에서 두 개체들간의 상관계수를 뺀 값\n",
        "    - ![image.png](data:image/png;base64,iVBORw0KGgoAAAANSUhEUgAAAMwAAABDCAYAAADQxOr/AAAHv0lEQVR4Ae2cgXEbOQxF3UJqSAvuISWkhrSQDtxBOkgFqSANpIF04B5083x5YxyOa5PRriV5Pmc02CVBEPzAJynZu3enlCAQBKYRuJvWjGIQCAKnECZJEAQWEAhhFsCKahAIYZIDQWABgRBmAayoBoEQJjkQBBYQCGEWwIpqEAhhkgNBYAGBEGYBrKgGgRAmORAEFhAIYRbAWlF9eHg43d3dPX1+/fq10jW6V4xACHNgcL5+/fpEmAOHONT04+Pj6cuXLyfIn/IvAiHMgZkAYT59+nTgCMeZhiQfPnx4InwI84xzCPOMxe5X9/f3J0hzawWfv3///uQ2x8oQ5jmCIcwzFmdd/f79+/T58+enFZmVmSQj2X78+HGW3Ut3viRh6i7H4nMN3wVDmB0yErJAEgjDNWd/AkyycX/L5VKE4SgLhuIHtmB86RLC7BABgvvx48cnomjOOu+PloxHcs98fv78Oe3OJQjDcZBxJQvOslNTt+L79CQXFEOYBbBGqgSVQH779u0/zSQwq+Ktl1nCkMjoznzA5qXCztKx034I8xJyN9AGUUiSfr6mrpPoBqbzPxeZx1t+6ec4y5j+6KBDfiesu45tbymzw5yJtoGsZjxSvLQa8kvU6ExOstQPOjMJ+16OZO4kfQFi1+HYOyoe13qfESb8XQlS/m0JYf4WuT/9OmHqF/4t0ySFPwp0HezRZnEH8/6t5VvvMB1P5gsRRrsObeANkfj0BUrySRDtdL0VTEOYFbQGunU3ITCsauweBJh7VrR6jDDABs9gapqzu0c5+tG/n+fVPVriG/N47TvHnn4wV8Y0qZEsIFs+iBft/Sd8cBQ75sJ9/3Fm1fcQZhWxgT7BMrEgAkHmKDVa9QigR6yaGJqlH/V+IMxbFxYB56QfzGUraff0j/kzjjvwS0dSCKBPSHHVH8nnHLDZFyh1Z2UIM4vUDnokYl3hCKQrKebddRyKNnTqDmXbe5TMs2OyNU+wgkxIyogwtIsvtsGeGJxTQphz0FvoS8AIoKudsgaQFdIVE9MeiQz6wnA3qeqX95ldwB1IHJF1N3axqUDQp+9CtX3mOoSZQelMHRKAYHme1hx19X/NakAhGAkAyWYSSJu3LMGCXeC1Ai51p0afvuBn4d7FB/w4vkGqcxefEEaED5QEzpUQIlBY6awjiPWeeogCwTxyHOje1ZgGp76odOcqTu7O7ibgRnu9F2Ns9x8Fuu2Z+xBmBqXoBIE/CIQwSYUgsIBACLMAVlSDQAiTHAgCCwiEMAtgRTUIhDDJgSCwgEAIswBWVINACJMcCAILCIQwC2BFNQiEMMmBILCAQAizAFZUg0AIkxwIAgsIhDALYEU1CIQwyYEgsIBACLMAVlSDwLsmDA8Z+TxElz5LsZUCXZ/nWOjDw0tcjx50oq0+oIQ+z2cot8aqz8s4rv7Zv/etfbi2MH69t75L51Lr6cscaqnj6Jtz777151DUc/6jMetYjO28a/01Xb97wvjA1jmgm4AGvBNmlFQmU5WzPmBPv+1f+5JY1Fu4NtH3JoxjVCkRRr5VPX2aJQyEFOtq55quQ5iJaJggW4TRRF8ha6LUBFd/JCFKTZpRUupP7W/dLGHw1T7aGe0wtlVdr0e+qd93G3UlkXpIcIIs4sv1tZbr9WwHxAisK/XfmjPp6W9A+w6j7T0IA1lINguJ5lHIuZiw6iCtmyGMpDSJtVOTnLnWon370tb7V33a+FDEUPzUwyZzG5HIOY/a7H8JuTtheAadoDNh5CVf4GBABL9Kg/ka6CYKegRcG7VeG8zXJFLP+5nxSI6uZ3/HQKJXE6nev0YYSaE9fJYctFW76iBH88U35ymZ7UO9ZYswtt+SfJ7VTl4DrAHgLR5en2vewFRJsI8sJE9NYOZCHcnRE4g6fKs+1USpdkY+Y2+kQ90IQ8YRizrmS4TRxz4+Y9OvE4a5OkaXYrPlG/XVR+dBv1suuxKGt3LUt34AWAWU3YbguOtUQHlLyh5v9SAYBKcHeOt+K3gEtgeXuVA3Ioz6zM85I00U5KiQpPiGHBX7j9pGddipBBrpbNV1wmzpWT/yDRz6XCsOYkrdVkx6PXhfS9mVMB1Akqe+Joh23hdlciAFF8m7o44qJJHjvjaGyd/1CDJtnTD4TpApjME1OjVRnGe36T3t6PeyVd/1vGf8GcLoc03OrX5b2HXfiDd1vVQcJEzX4Z62EQYj3UvV7UoYgHWXYPI1ANRDHgA1cSGPAas70wgM9aqs9kd9at1W0KvOa9cEc0QYfHJO2GCOBt+kGiVSHU+9Wje6Zh4Vg349Qxj96/adX68/F7sQpiP6557vLAYU6dELyZHL4LqT+KZC2r3eMH129blBxwETqu8wW87VRNmLMFtjWR/CiMQxcrcdhiQiKUeFeo9mJA47S9UnyBDqyHILhHFB6XIL1xFeM4ShH3Ho47Arjgrjd13vZ3yrC8fWGIzrrjzy4VrqdiMMR67RKmpgbKtAe83Z16PctQATP4LACIHdCMOuwUqSEgTeMwK7EeY9g5S5BQERCGFEIjIITCAQwkyAFJUgIAIhjEhEBoEJBEKYCZCiEgREIIQRicggMIFACDMBUlSCgAiEMCIRGQQmEAhhJkCKShAQgRBGJCKDwAQCIcwESFEJAiLwD2806GIcT4ISAAAAAElFTkSuQmCC)\n",
        "- ④ __민코프스키 거리__\n",
        "    - 유클리디안 거리와 맨하탄 거리를 일반화한 거리측정 모형\n",
        "    - ![image.png](data:image/png;base64,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)\n",
        "    - 위의 식에서 p = 1일 때 맨하탄거리, p = 2일 때 유클리디안 거리\n",
        "- ⑤ __마할라노비스 거리__\n",
        "    - 유클리디안 거리 측정시, 측정변슈들의 척도가 이질적이거나, 동일한 척도라도 변수마다 값의 차이가 클 경우 측정된 거리에 오류 포함 가능성 큼\n",
        "    - 이를 우이해 변수들의 단위를 표준화하고, 변수들 간의 상호연광선을 고려한 방식\n",
        "    - 만약, 모든 측정변수들이 표준화되어 있고, 서로 독립일 경우 유클리디안 거리 = 마할라노비스 거리\n",
        "    - ![image.png](data:image/png;base64,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)"
      ]
    },
    {
      "cell_type": "markdown",
      "metadata": {
        "id": "a0WkRfa5srG0"
      },
      "source": [
        "## 1.4.군집분석과 요인분석의 비교\n",
        "- 공통점: __데이터의 구조를 분류 및 요약한다는 점__\n",
        "- 요인분석\n",
        "  + R-타입 요인분석: 요인추출의 대상이 변수\n",
        "  + Q-타입 요인분석: 요인추출의 대상이 응답자 or 사례. 군집 분석과 동일.\n",
        "- 차이점\n",
        "  + __Q-타입 요인분석은 응답자들의 평균 및 표준편차간의 상관관계에 기초__하여 통계적인 방법으로 그룹화\n",
        "  + __군집분석은 개체간의 거리 정보를 계산하는 수리적인 방법__으로 그룹화\n",
        "- 보통, 변수가 아닌 응답자들을 그룹화할 경우 계산상 어려움이 있는 Q-타입 요인분석 보다는 군집분석을 이용"
      ]
    },
    {
      "cell_type": "markdown",
      "metadata": {
        "id": "WKXTFJk6k6CA"
      },
      "source": [
        "# 2.계층적 군집분석"
      ]
    },
    {
      "cell_type": "markdown",
      "metadata": {
        "id": "TtRBM5r4uBTI"
      },
      "source": [
        "## 2.1.개념 및 주요 이론\n",
        "- __군집방향__\n",
        "  - 병합방법(bottom-up): 전체 개체 수 N개로부터 시작하여 최종적으로 하나의 군집이 남을 때까지 순차적으로 유사한 개체들을 병합\n",
        "  - 분할방법(top-down): 모든 개체들을 포함하는 하나의 군집에서 시작하여, 최종적으로 전체 개수인 N개의 군집으로 분할될 때 까지 순차적으로 상이한 개체들 분한\n",
        "  - 일반적으로 병합방법을 기본으로 채택\n",
        "- __병합방식의 계층적 군집화 방법__\n",
        "  - 최단연결법: 각 군집의 임의의 두 개체들 간의 거리 중 최단거리를 두 군집간의 거리로 정의\n",
        "  - 최장연결법: 각 군집의 임의의 두 개체들 간의 거리 중 최정거리를 두 군집간의 거리로 정의\n",
        "  - 평균연결법: 각 군집의 모든 개체들의 평균거리를 두 군집간의 거리로 정의\n",
        "  - 중심연결법: 각 군집의 모든 개체들의 중심위치에 있는 개체 간의 거리를 두 군집간의 거리로 정의\n",
        "  - 중위수 연결법: 각 군집의 임의의 두 개체들의 거리 평균을 합하여 2로 나눈 값(중위수)에 해당하는 거리를 두 군집간의 거리로 정의\n",
        "  - __Ward의 방법__: 각 군집에 속한 __개체가 해당 군집의 평균과의 거리 편차를 제곱한 값인 잔차 제곱합의 증가를  \n",
        "  최소화할 수 있는 지점간의 거리__를 두 군잡간의 거리로 정의. 계층적 군집분석에서 가장 많이 적용됨\n",
        "- __군집 수 결정 방법__\n",
        "  - 덴드로그램 활용\n",
        "  - 덴드로그램: 군집화 일정표의 결과를 시각적으로 옮긴 군집 현황 도표. 군집화를 통해 형성된 그룹과 이들의 유사성을 표시한 트리 다이어그램.\n",
        "  - ![image.png](data:image/png;base64,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)\n",
        "  - 가지의 길이(거리)는 군집이 얼마나 서로 멀리 떨어져 있는지 보여줌\n",
        "  - 가지의 길이를 바탕으로 적절한 군집의 개수 정할 수 있음\n",
        "  - 위의 예시를 보았을 때, 2개의 군집으로 나눌 때 가지의 길이가 가장 길게 나타나므로 최적의 군집 수는 2개"
      ]
    },
    {
      "cell_type": "markdown",
      "metadata": {
        "id": "fGTaJbinyWJb"
      },
      "source": [
        "## 2.2.분석 및 해석\n",
        "- 쇼핑몰은 RFM 기반 고객세분화를 수행하고자 함\n",
        "- 500명의 고객을 무작위로 샘플링하여 Recency, Frequecny, Monetary 세 가지 변수를 통한 계층적 군집분석 진행"
      ]
    },
    {
      "cell_type": "code",
      "metadata": {
        "id": "vlqmwlSGY-Y9",
        "outputId": "7b2d5686-55b9-44c2-b097-e089207a6a8d",
        "colab": {
          "base_uri": "https://localhost:8080/",
          "height": 467
        }
      },
      "source": [
        "df = pd.read_csv('/content/gdrive/My Drive/통계/Ashopping.csv',sep=',',encoding='CP949')\n",
        "df.head()"
      ],
      "execution_count": 5,
      "outputs": [
        {
          "output_type": "execute_result",
          "data": {
            "text/html": [
              "<div>\n",
              "<style scoped>\n",
              "    .dataframe tbody tr th:only-of-type {\n",
              "        vertical-align: middle;\n",
              "    }\n",
              "\n",
              "    .dataframe tbody tr th {\n",
              "        vertical-align: top;\n",
              "    }\n",
              "\n",
              "    .dataframe thead th {\n",
              "        text-align: right;\n",
              "    }\n",
              "</style>\n",
              "<table border=\"1\" class=\"dataframe\">\n",
              "  <thead>\n",
              "    <tr style=\"text-align: right;\">\n",
              "      <th></th>\n",
              "      <th>고객ID</th>\n",
              "      <th>이탈여부</th>\n",
              "      <th>총_매출액</th>\n",
              "      <th>방문빈도</th>\n",
              "      <th>1회_평균매출액</th>\n",
              "      <th>할인권_사용 횟수</th>\n",
              "      <th>총_할인_금액</th>\n",
              "      <th>고객등급</th>\n",
              "      <th>구매유형</th>\n",
              "      <th>클레임접수여부</th>\n",
              "      <th>구매_카테고리_수</th>\n",
              "      <th>거주지역</th>\n",
              "      <th>성별</th>\n",
              "      <th>고객_나이대</th>\n",
              "      <th>거래기간</th>\n",
              "      <th>할인민감여부</th>\n",
              "      <th>멤버쉽_프로그램_가입전_만족도</th>\n",
              "      <th>멤버쉽_프로그램_가입후_만족도</th>\n",
              "      <th>Recency</th>\n",
              "      <th>Frequency</th>\n",
              "      <th>Monetary</th>\n",
              "      <th>상품_만족도</th>\n",
              "      <th>매장_만족도</th>\n",
              "      <th>서비스_만족도</th>\n",
              "      <th>상품_품질</th>\n",
              "      <th>상품_다양성</th>\n",
              "      <th>가격_적절성</th>\n",
              "      <th>상품_진열_위치</th>\n",
              "      <th>상품_설명_표시</th>\n",
              "      <th>매장_청결성</th>\n",
              "      <th>공간_편의성</th>\n",
              "      <th>시야_확보성</th>\n",
              "      <th>음향_적절성</th>\n",
              "      <th>안내_표지판_설명</th>\n",
              "      <th>친절성</th>\n",
              "      <th>신속성</th>\n",
              "      <th>책임성</th>\n",
              "      <th>정확성</th>\n",
              "      <th>전문성</th>\n",
              "    </tr>\n",
              "  </thead>\n",
              "  <tbody>\n",
              "    <tr>\n",
              "      <th>0</th>\n",
              "      <td>1</td>\n",
              "      <td>0</td>\n",
              "      <td>4007080</td>\n",
              "      <td>17</td>\n",
              "      <td>235711</td>\n",
              "      <td>1</td>\n",
              "      <td>5445</td>\n",
              "      <td>1</td>\n",
              "      <td>4</td>\n",
              "      <td>0</td>\n",
              "      <td>6</td>\n",
              "      <td>6</td>\n",
              "      <td>1</td>\n",
              "      <td>4</td>\n",
              "      <td>1079</td>\n",
              "      <td>0</td>\n",
              "      <td>5</td>\n",
              "      <td>7</td>\n",
              "      <td>7</td>\n",
              "      <td>3</td>\n",
              "      <td>4</td>\n",
              "      <td>6</td>\n",
              "      <td>5</td>\n",
              "      <td>6</td>\n",
              "      <td>7</td>\n",
              "      <td>7</td>\n",
              "      <td>6</td>\n",
              "      <td>7.0</td>\n",
              "      <td>6.0</td>\n",
              "      <td>6</td>\n",
              "      <td>7</td>\n",
              "      <td>6</td>\n",
              "      <td>6</td>\n",
              "      <td>6</td>\n",
              "      <td>6</td>\n",
              "      <td>6</td>\n",
              "      <td>6</td>\n",
              "      <td>6</td>\n",
              "      <td>6</td>\n",
              "    </tr>\n",
              "    <tr>\n",
              "      <th>1</th>\n",
              "      <td>2</td>\n",
              "      <td>1</td>\n",
              "      <td>3168400</td>\n",
              "      <td>14</td>\n",
              "      <td>226314</td>\n",
              "      <td>22</td>\n",
              "      <td>350995</td>\n",
              "      <td>2</td>\n",
              "      <td>4</td>\n",
              "      <td>0</td>\n",
              "      <td>4</td>\n",
              "      <td>4</td>\n",
              "      <td>1</td>\n",
              "      <td>1</td>\n",
              "      <td>537</td>\n",
              "      <td>0</td>\n",
              "      <td>2</td>\n",
              "      <td>3</td>\n",
              "      <td>2</td>\n",
              "      <td>3</td>\n",
              "      <td>3</td>\n",
              "      <td>2</td>\n",
              "      <td>5</td>\n",
              "      <td>4</td>\n",
              "      <td>6</td>\n",
              "      <td>7</td>\n",
              "      <td>6</td>\n",
              "      <td>6.0</td>\n",
              "      <td>NaN</td>\n",
              "      <td>7</td>\n",
              "      <td>7</td>\n",
              "      <td>6</td>\n",
              "      <td>6</td>\n",
              "      <td>6</td>\n",
              "      <td>5</td>\n",
              "      <td>3</td>\n",
              "      <td>6</td>\n",
              "      <td>6</td>\n",
              "      <td>6</td>\n",
              "    </tr>\n",
              "    <tr>\n",
              "      <th>2</th>\n",
              "      <td>3</td>\n",
              "      <td>0</td>\n",
              "      <td>2680780</td>\n",
              "      <td>18</td>\n",
              "      <td>148932</td>\n",
              "      <td>6</td>\n",
              "      <td>186045</td>\n",
              "      <td>1</td>\n",
              "      <td>4</td>\n",
              "      <td>1</td>\n",
              "      <td>6</td>\n",
              "      <td>6</td>\n",
              "      <td>1</td>\n",
              "      <td>6</td>\n",
              "      <td>1080</td>\n",
              "      <td>0</td>\n",
              "      <td>6</td>\n",
              "      <td>6</td>\n",
              "      <td>7</td>\n",
              "      <td>3</td>\n",
              "      <td>2</td>\n",
              "      <td>4</td>\n",
              "      <td>6</td>\n",
              "      <td>7</td>\n",
              "      <td>6</td>\n",
              "      <td>7</td>\n",
              "      <td>6</td>\n",
              "      <td>7.0</td>\n",
              "      <td>NaN</td>\n",
              "      <td>6</td>\n",
              "      <td>6</td>\n",
              "      <td>6</td>\n",
              "      <td>6</td>\n",
              "      <td>6</td>\n",
              "      <td>7</td>\n",
              "      <td>7</td>\n",
              "      <td>6</td>\n",
              "      <td>6</td>\n",
              "      <td>7</td>\n",
              "    </tr>\n",
              "    <tr>\n",
              "      <th>3</th>\n",
              "      <td>4</td>\n",
              "      <td>0</td>\n",
              "      <td>5946600</td>\n",
              "      <td>17</td>\n",
              "      <td>349800</td>\n",
              "      <td>1</td>\n",
              "      <td>5195</td>\n",
              "      <td>1</td>\n",
              "      <td>4</td>\n",
              "      <td>1</td>\n",
              "      <td>5</td>\n",
              "      <td>5</td>\n",
              "      <td>1</td>\n",
              "      <td>6</td>\n",
              "      <td>1019</td>\n",
              "      <td>0</td>\n",
              "      <td>3</td>\n",
              "      <td>5</td>\n",
              "      <td>7</td>\n",
              "      <td>3</td>\n",
              "      <td>5</td>\n",
              "      <td>3</td>\n",
              "      <td>5</td>\n",
              "      <td>5</td>\n",
              "      <td>6</td>\n",
              "      <td>6</td>\n",
              "      <td>6</td>\n",
              "      <td>5.0</td>\n",
              "      <td>6.0</td>\n",
              "      <td>6</td>\n",
              "      <td>6</td>\n",
              "      <td>5</td>\n",
              "      <td>6</td>\n",
              "      <td>6</td>\n",
              "      <td>6</td>\n",
              "      <td>6</td>\n",
              "      <td>6</td>\n",
              "      <td>5</td>\n",
              "      <td>6</td>\n",
              "    </tr>\n",
              "    <tr>\n",
              "      <th>4</th>\n",
              "      <td>5</td>\n",
              "      <td>0</td>\n",
              "      <td>13745950</td>\n",
              "      <td>73</td>\n",
              "      <td>188301</td>\n",
              "      <td>9</td>\n",
              "      <td>246350</td>\n",
              "      <td>1</td>\n",
              "      <td>2</td>\n",
              "      <td>0</td>\n",
              "      <td>6</td>\n",
              "      <td>6</td>\n",
              "      <td>0</td>\n",
              "      <td>6</td>\n",
              "      <td>1086</td>\n",
              "      <td>0</td>\n",
              "      <td>5</td>\n",
              "      <td>6</td>\n",
              "      <td>7</td>\n",
              "      <td>6</td>\n",
              "      <td>7</td>\n",
              "      <td>5</td>\n",
              "      <td>6</td>\n",
              "      <td>6</td>\n",
              "      <td>5</td>\n",
              "      <td>6</td>\n",
              "      <td>6</td>\n",
              "      <td>5.0</td>\n",
              "      <td>6.0</td>\n",
              "      <td>5</td>\n",
              "      <td>6</td>\n",
              "      <td>6</td>\n",
              "      <td>6</td>\n",
              "      <td>5</td>\n",
              "      <td>5</td>\n",
              "      <td>6</td>\n",
              "      <td>6</td>\n",
              "      <td>5</td>\n",
              "      <td>6</td>\n",
              "    </tr>\n",
              "  </tbody>\n",
              "</table>\n",
              "</div>"
            ],
            "text/plain": [
              "   고객ID  이탈여부     총_매출액  방문빈도  1회_평균매출액  ...  친절성  신속성  책임성  정확성  전문성\n",
              "0     1     0   4007080    17    235711  ...    6    6    6    6    6\n",
              "1     2     1   3168400    14    226314  ...    5    3    6    6    6\n",
              "2     3     0   2680780    18    148932  ...    7    7    6    6    7\n",
              "3     4     0   5946600    17    349800  ...    6    6    6    5    6\n",
              "4     5     0  13745950    73    188301  ...    5    6    6    5    6\n",
              "\n",
              "[5 rows x 39 columns]"
            ]
          },
          "metadata": {
            "tags": []
          },
          "execution_count": 5
        }
      ]
    },
    {
      "cell_type": "code",
      "metadata": {
        "id": "rVSEJtIHyn7u",
        "outputId": "1bbb3329-b21b-4e15-bc5f-c5261f928040",
        "colab": {
          "base_uri": "https://localhost:8080/",
          "height": 197
        }
      },
      "source": [
        "from scipy.cluster.hierarchy import linkage\n",
        "data_temp = df.sample(n=500, random_state=111)\n",
        "X = data_temp[['Recency','Frequency','Monetary']]\n",
        "X.head()"
      ],
      "execution_count": 6,
      "outputs": [
        {
          "output_type": "execute_result",
          "data": {
            "text/html": [
              "<div>\n",
              "<style scoped>\n",
              "    .dataframe tbody tr th:only-of-type {\n",
              "        vertical-align: middle;\n",
              "    }\n",
              "\n",
              "    .dataframe tbody tr th {\n",
              "        vertical-align: top;\n",
              "    }\n",
              "\n",
              "    .dataframe thead th {\n",
              "        text-align: right;\n",
              "    }\n",
              "</style>\n",
              "<table border=\"1\" class=\"dataframe\">\n",
              "  <thead>\n",
              "    <tr style=\"text-align: right;\">\n",
              "      <th></th>\n",
              "      <th>Recency</th>\n",
              "      <th>Frequency</th>\n",
              "      <th>Monetary</th>\n",
              "    </tr>\n",
              "  </thead>\n",
              "  <tbody>\n",
              "    <tr>\n",
              "      <th>190</th>\n",
              "      <td>6</td>\n",
              "      <td>1</td>\n",
              "      <td>1</td>\n",
              "    </tr>\n",
              "    <tr>\n",
              "      <th>104</th>\n",
              "      <td>7</td>\n",
              "      <td>6</td>\n",
              "      <td>7</td>\n",
              "    </tr>\n",
              "    <tr>\n",
              "      <th>295</th>\n",
              "      <td>5</td>\n",
              "      <td>3</td>\n",
              "      <td>4</td>\n",
              "    </tr>\n",
              "    <tr>\n",
              "      <th>12</th>\n",
              "      <td>7</td>\n",
              "      <td>3</td>\n",
              "      <td>4</td>\n",
              "    </tr>\n",
              "    <tr>\n",
              "      <th>87</th>\n",
              "      <td>7</td>\n",
              "      <td>3</td>\n",
              "      <td>5</td>\n",
              "    </tr>\n",
              "  </tbody>\n",
              "</table>\n",
              "</div>"
            ],
            "text/plain": [
              "     Recency  Frequency  Monetary\n",
              "190        6          1         1\n",
              "104        7          6         7\n",
              "295        5          3         4\n",
              "12         7          3         4\n",
              "87         7          3         5"
            ]
          },
          "metadata": {
            "tags": []
          },
          "execution_count": 6
        }
      ]
    },
    {
      "cell_type": "markdown",
      "metadata": {
        "id": "tFF_s2CeYA-B"
      },
      "source": [
        "- scipy패키지의 cluster.herarchy 서브 모듈로 계층적 군십분석 수행\n",
        "- cluster.hierarchy는 계층적 군집분석에 필요한 다양한 군집화 방법, 덴드로그램 제공\n"
      ]
    },
    {
      "cell_type": "code",
      "metadata": {
        "id": "SBB6yKipXwdj",
        "outputId": "21ae6a06-84ec-4117-d452-4e1da9fc8bf2",
        "colab": {
          "base_uri": "https://localhost:8080/",
          "height": 174
        }
      },
      "source": [
        "# 계층적 군집분석\n",
        "cluster = linkage(X, method = 'average', metric = 'euclidean')\n",
        "cluster[490:]"
      ],
      "execution_count": 9,
      "outputs": [
        {
          "output_type": "execute_result",
          "data": {
            "text/plain": [
              "array([[969.        , 979.        ,   2.43557142,  72.        ],\n",
              "       [978.        , 988.        ,   2.60070576,  33.        ],\n",
              "       [984.        , 991.        ,   2.78913055,  40.        ],\n",
              "       [981.        , 989.        ,   3.05800305, 374.        ],\n",
              "       [986.        , 990.        ,   3.11871825,  81.        ],\n",
              "       [161.        , 993.        ,   3.55293738, 375.        ],\n",
              "       [994.        , 995.        ,   3.67802103, 456.        ],\n",
              "       [987.        , 992.        ,   3.97824721,  44.        ],\n",
              "       [996.        , 997.        ,   6.01862823, 500.        ]])"
            ]
          },
          "metadata": {
            "tags": []
          },
          "execution_count": 9
        }
      ]
    },
    {
      "cell_type": "markdown",
      "metadata": {
        "id": "qdKhAbIjYns4"
      },
      "source": [
        "- linkage(data, method = '군집화방법', metric = '유사성 측정 방법')\n",
        "- method: ward, single, average, complete,centroid, median 중 하나\n",
        "- metric: euclidean, cityblock 등 중 하나\n"
      ]
    },
    {
      "cell_type": "markdown",
      "metadata": {
        "id": "2-EXR-xhZANy"
      },
      "source": [
        "- 1~2열: 병합되는 군집번호\n",
        "- 3열: 군집 간 거리\n",
        "- 4열: 군집에 속한 개체 수\n",
        "- 마지막 두 개를 보면, __군집간 거리가 3.978에서 6.01으로 66% 증가__하였기 때문에, 2개의 군집으로 나누는 것이 적절"
      ]
    },
    {
      "cell_type": "code",
      "metadata": {
        "id": "-zfTRRNMZc5e",
        "outputId": "0cd67c50-de55-47a2-f737-41ad6e27b9a9",
        "colab": {
          "base_uri": "https://localhost:8080/",
          "height": 295
        }
      },
      "source": [
        "from scipy.cluster.hierarchy import dendrogram\n",
        "import matplotlib.pyplot as plt\n",
        "\n",
        "%matplotlib inline\n",
        "plt.title('Dendrogram')\n",
        "plt.xlabel('index')\n",
        "plt.ylabel('distance')\n",
        "dendrogram(cluster)\n",
        "plt.show()"
      ],
      "execution_count": 10,
      "outputs": [
        {
          "output_type": "display_data",
          "data": {
            "image/png": "[encoded data removed]",
            "text/plain": [
              "<Figure size 432x288 with 1 Axes>"
            ]
          },
          "metadata": {
            "tags": [],
            "needs_background": "light"
          }
        }
      ]
    },
    {
      "cell_type": "markdown",
      "metadata": {
        "id": "_jze9gTuzLMs"
      },
      "source": [
        "- 가지의 길이(거리)가 2개 or 3개 군집을 선택 가능\n",
        "- 가지의 길이만 보면 2개로 결정하는 것이 올바르나, 해당문제의 경우 RFM을 중심으로 고객세분화를 하는 것이 목적이므로 3개의 그룹으로 관리하는 게 올바름"
      ]
    },
    {
      "cell_type": "markdown",
      "metadata": {
        "id": "l5xWP-PwdAXt"
      },
      "source": [
        "# 3.비계층적 군집분석"
      ]
    },
    {
      "cell_type": "markdown",
      "metadata": {
        "id": "xedmiKsDdDKC"
      },
      "source": [
        "# 3.1.개념 및 주요 이론\n",
        "- __군집화 방법__\n",
        "  - __순차적 군집화__: 군집의 중심이 정해짐 > 지정된 값의 거리 안에 있는 개체들 군집으로 분류 > 새로운 군집의 중심 정해짐. K-평균 군집분석 방법.\n",
        "  - __동시 군집화__: 사전에 지정된 일정 값 안에 해당하는 개체들을 소속시킴. 몇 개의 군집을 동시에 결정\n",
        "  - __최적할당 군집화__: 군집 내의 평균거리를 계산하는 최적화 기준 도출. 이에 따라 최초의 군집에서 다른 군집으로 재할당 될 수 있음\n",
        "- __K-평균 군집분석__\n",
        "  - 주어진 분류 대상 개체를 K개의 군집으로 형성해나가는 비계층적 군집분석 방법\n",
        "  - __각 군집과 개체간의 거리 편차의 분산을 최소화__하는 방향\n",
        "  - 군집화 __속도가 빨라 대용량 데이터에 적합__\n",
        "  - 그러나, __군집의 개수(K)를 명확히 지정__해야하며, 최초 설정된 초기값(seed)에 따라서 군집분석의 결과가 상이하게 나타날 수 있음\n",
        "- __K-평균 군집분석 알고리즘__\n",
        "          1. 군집의 수 즉, K를 지정 (예: K = 4)\n",
        "          2. 전체 개체 중에서 K개 만큼의 초기 씨앗개체(seed)를 임의로 지정\n",
        "          3. K개의 씨앗개체와 나머지 모든 개체와의 거리를 계산한 후, 각 개체들은 가장 가까운 씨앗개체와 동일한 군집으로 초기 군집으로 할당\n",
        "          4. 각 초기 군집에서 군집의 중심개체로 해당 군집의 시앗개체를 변경\n",
        "          5. 군집의 중심 즉, 씨앗개체의 변화가 없을 때까지 상디 3,4의 과정 반복\n",
        "  - ![image.png](data:image/png;base64,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)"
      ]
    },
    {
      "cell_type": "markdown",
      "metadata": {
        "id": "UpyoGVPGjcOO"
      },
      "source": [
        "## 3.2.분석 및 해석\n",
        "- RFM 기반의 고객세분화를 K-평균 군집분석으로 수행"
      ]
    },
    {
      "cell_type": "code",
      "metadata": {
        "id": "mYi9Vq34j59w",
        "outputId": "dd5e50fe-e990-4899-badc-452d86884eaa",
        "colab": {
          "base_uri": "https://localhost:8080/",
          "height": 467
        }
      },
      "source": [
        "from sklearn.cluster import KMeans\n",
        "df = pd.read_csv('/content/gdrive/My Drive/통계/Ashopping.csv',sep=',',encoding='CP949')\n",
        "df.head() "
      ],
      "execution_count": 11,
      "outputs": [
        {
          "output_type": "execute_result",
          "data": {
            "text/html": [
              "<div>\n",
              "<style scoped>\n",
              "    .dataframe tbody tr th:only-of-type {\n",
              "        vertical-align: middle;\n",
              "    }\n",
              "\n",
              "    .dataframe tbody tr th {\n",
              "        vertical-align: top;\n",
              "    }\n",
              "\n",
              "    .dataframe thead th {\n",
              "        text-align: right;\n",
              "    }\n",
              "</style>\n",
              "<table border=\"1\" class=\"dataframe\">\n",
              "  <thead>\n",
              "    <tr style=\"text-align: right;\">\n",
              "      <th></th>\n",
              "      <th>고객ID</th>\n",
              "      <th>이탈여부</th>\n",
              "      <th>총_매출액</th>\n",
              "      <th>방문빈도</th>\n",
              "      <th>1회_평균매출액</th>\n",
              "      <th>할인권_사용 횟수</th>\n",
              "      <th>총_할인_금액</th>\n",
              "      <th>고객등급</th>\n",
              "      <th>구매유형</th>\n",
              "      <th>클레임접수여부</th>\n",
              "      <th>구매_카테고리_수</th>\n",
              "      <th>거주지역</th>\n",
              "      <th>성별</th>\n",
              "      <th>고객_나이대</th>\n",
              "      <th>거래기간</th>\n",
              "      <th>할인민감여부</th>\n",
              "      <th>멤버쉽_프로그램_가입전_만족도</th>\n",
              "      <th>멤버쉽_프로그램_가입후_만족도</th>\n",
              "      <th>Recency</th>\n",
              "      <th>Frequency</th>\n",
              "      <th>Monetary</th>\n",
              "      <th>상품_만족도</th>\n",
              "      <th>매장_만족도</th>\n",
              "      <th>서비스_만족도</th>\n",
              "      <th>상품_품질</th>\n",
              "      <th>상품_다양성</th>\n",
              "      <th>가격_적절성</th>\n",
              "      <th>상품_진열_위치</th>\n",
              "      <th>상품_설명_표시</th>\n",
              "      <th>매장_청결성</th>\n",
              "      <th>공간_편의성</th>\n",
              "      <th>시야_확보성</th>\n",
              "      <th>음향_적절성</th>\n",
              "      <th>안내_표지판_설명</th>\n",
              "      <th>친절성</th>\n",
              "      <th>신속성</th>\n",
              "      <th>책임성</th>\n",
              "      <th>정확성</th>\n",
              "      <th>전문성</th>\n",
              "    </tr>\n",
              "  </thead>\n",
              "  <tbody>\n",
              "    <tr>\n",
              "      <th>0</th>\n",
              "      <td>1</td>\n",
              "      <td>0</td>\n",
              "      <td>4007080</td>\n",
              "      <td>17</td>\n",
              "      <td>235711</td>\n",
              "      <td>1</td>\n",
              "      <td>5445</td>\n",
              "      <td>1</td>\n",
              "      <td>4</td>\n",
              "      <td>0</td>\n",
              "      <td>6</td>\n",
              "      <td>6</td>\n",
              "      <td>1</td>\n",
              "      <td>4</td>\n",
              "      <td>1079</td>\n",
              "      <td>0</td>\n",
              "      <td>5</td>\n",
              "      <td>7</td>\n",
              "      <td>7</td>\n",
              "      <td>3</td>\n",
              "      <td>4</td>\n",
              "      <td>6</td>\n",
              "      <td>5</td>\n",
              "      <td>6</td>\n",
              "      <td>7</td>\n",
              "      <td>7</td>\n",
              "      <td>6</td>\n",
              "      <td>7.0</td>\n",
              "      <td>6.0</td>\n",
              "      <td>6</td>\n",
              "      <td>7</td>\n",
              "      <td>6</td>\n",
              "      <td>6</td>\n",
              "      <td>6</td>\n",
              "      <td>6</td>\n",
              "      <td>6</td>\n",
              "      <td>6</td>\n",
              "      <td>6</td>\n",
              "      <td>6</td>\n",
              "    </tr>\n",
              "    <tr>\n",
              "      <th>1</th>\n",
              "      <td>2</td>\n",
              "      <td>1</td>\n",
              "      <td>3168400</td>\n",
              "      <td>14</td>\n",
              "      <td>226314</td>\n",
              "      <td>22</td>\n",
              "      <td>350995</td>\n",
              "      <td>2</td>\n",
              "      <td>4</td>\n",
              "      <td>0</td>\n",
              "      <td>4</td>\n",
              "      <td>4</td>\n",
              "      <td>1</td>\n",
              "      <td>1</td>\n",
              "      <td>537</td>\n",
              "      <td>0</td>\n",
              "      <td>2</td>\n",
              "      <td>3</td>\n",
              "      <td>2</td>\n",
              "      <td>3</td>\n",
              "      <td>3</td>\n",
              "      <td>2</td>\n",
              "      <td>5</td>\n",
              "      <td>4</td>\n",
              "      <td>6</td>\n",
              "      <td>7</td>\n",
              "      <td>6</td>\n",
              "      <td>6.0</td>\n",
              "      <td>NaN</td>\n",
              "      <td>7</td>\n",
              "      <td>7</td>\n",
              "      <td>6</td>\n",
              "      <td>6</td>\n",
              "      <td>6</td>\n",
              "      <td>5</td>\n",
              "      <td>3</td>\n",
              "      <td>6</td>\n",
              "      <td>6</td>\n",
              "      <td>6</td>\n",
              "    </tr>\n",
              "    <tr>\n",
              "      <th>2</th>\n",
              "      <td>3</td>\n",
              "      <td>0</td>\n",
              "      <td>2680780</td>\n",
              "      <td>18</td>\n",
              "      <td>148932</td>\n",
              "      <td>6</td>\n",
              "      <td>186045</td>\n",
              "      <td>1</td>\n",
              "      <td>4</td>\n",
              "      <td>1</td>\n",
              "      <td>6</td>\n",
              "      <td>6</td>\n",
              "      <td>1</td>\n",
              "      <td>6</td>\n",
              "      <td>1080</td>\n",
              "      <td>0</td>\n",
              "      <td>6</td>\n",
              "      <td>6</td>\n",
              "      <td>7</td>\n",
              "      <td>3</td>\n",
              "      <td>2</td>\n",
              "      <td>4</td>\n",
              "      <td>6</td>\n",
              "      <td>7</td>\n",
              "      <td>6</td>\n",
              "      <td>7</td>\n",
              "      <td>6</td>\n",
              "      <td>7.0</td>\n",
              "      <td>NaN</td>\n",
              "      <td>6</td>\n",
              "      <td>6</td>\n",
              "      <td>6</td>\n",
              "      <td>6</td>\n",
              "      <td>6</td>\n",
              "      <td>7</td>\n",
              "      <td>7</td>\n",
              "      <td>6</td>\n",
              "      <td>6</td>\n",
              "      <td>7</td>\n",
              "    </tr>\n",
              "    <tr>\n",
              "      <th>3</th>\n",
              "      <td>4</td>\n",
              "      <td>0</td>\n",
              "      <td>5946600</td>\n",
              "      <td>17</td>\n",
              "      <td>349800</td>\n",
              "      <td>1</td>\n",
              "      <td>5195</td>\n",
              "      <td>1</td>\n",
              "      <td>4</td>\n",
              "      <td>1</td>\n",
              "      <td>5</td>\n",
              "      <td>5</td>\n",
              "      <td>1</td>\n",
              "      <td>6</td>\n",
              "      <td>1019</td>\n",
              "      <td>0</td>\n",
              "      <td>3</td>\n",
              "      <td>5</td>\n",
              "      <td>7</td>\n",
              "      <td>3</td>\n",
              "      <td>5</td>\n",
              "      <td>3</td>\n",
              "      <td>5</td>\n",
              "      <td>5</td>\n",
              "      <td>6</td>\n",
              "      <td>6</td>\n",
              "      <td>6</td>\n",
              "      <td>5.0</td>\n",
              "      <td>6.0</td>\n",
              "      <td>6</td>\n",
              "      <td>6</td>\n",
              "      <td>5</td>\n",
              "      <td>6</td>\n",
              "      <td>6</td>\n",
              "      <td>6</td>\n",
              "      <td>6</td>\n",
              "      <td>6</td>\n",
              "      <td>5</td>\n",
              "      <td>6</td>\n",
              "    </tr>\n",
              "    <tr>\n",
              "      <th>4</th>\n",
              "      <td>5</td>\n",
              "      <td>0</td>\n",
              "      <td>13745950</td>\n",
              "      <td>73</td>\n",
              "      <td>188301</td>\n",
              "      <td>9</td>\n",
              "      <td>246350</td>\n",
              "      <td>1</td>\n",
              "      <td>2</td>\n",
              "      <td>0</td>\n",
              "      <td>6</td>\n",
              "      <td>6</td>\n",
              "      <td>0</td>\n",
              "      <td>6</td>\n",
              "      <td>1086</td>\n",
              "      <td>0</td>\n",
              "      <td>5</td>\n",
              "      <td>6</td>\n",
              "      <td>7</td>\n",
              "      <td>6</td>\n",
              "      <td>7</td>\n",
              "      <td>5</td>\n",
              "      <td>6</td>\n",
              "      <td>6</td>\n",
              "      <td>5</td>\n",
              "      <td>6</td>\n",
              "      <td>6</td>\n",
              "      <td>5.0</td>\n",
              "      <td>6.0</td>\n",
              "      <td>5</td>\n",
              "      <td>6</td>\n",
              "      <td>6</td>\n",
              "      <td>6</td>\n",
              "      <td>5</td>\n",
              "      <td>5</td>\n",
              "      <td>6</td>\n",
              "      <td>6</td>\n",
              "      <td>5</td>\n",
              "      <td>6</td>\n",
              "    </tr>\n",
              "  </tbody>\n",
              "</table>\n",
              "</div>"
            ],
            "text/plain": [
              "   고객ID  이탈여부     총_매출액  방문빈도  1회_평균매출액  ...  친절성  신속성  책임성  정확성  전문성\n",
              "0     1     0   4007080    17    235711  ...    6    6    6    6    6\n",
              "1     2     1   3168400    14    226314  ...    5    3    6    6    6\n",
              "2     3     0   2680780    18    148932  ...    7    7    6    6    7\n",
              "3     4     0   5946600    17    349800  ...    6    6    6    5    6\n",
              "4     5     0  13745950    73    188301  ...    5    6    6    5    6\n",
              "\n",
              "[5 rows x 39 columns]"
            ]
          },
          "metadata": {
            "tags": []
          },
          "execution_count": 11
        }
      ]
    },
    {
      "cell_type": "code",
      "metadata": {
        "id": "HJGpgexbdC0j",
        "outputId": "5de320f4-5e3f-4cee-83d8-253a57be9da6",
        "colab": {
          "base_uri": "https://localhost:8080/",
          "height": 197
        }
      },
      "source": [
        "X = df[['Recency','Frequency','Monetary']]\n",
        "X.head()"
      ],
      "execution_count": 12,
      "outputs": [
        {
          "output_type": "execute_result",
          "data": {
            "text/html": [
              "<div>\n",
              "<style scoped>\n",
              "    .dataframe tbody tr th:only-of-type {\n",
              "        vertical-align: middle;\n",
              "    }\n",
              "\n",
              "    .dataframe tbody tr th {\n",
              "        vertical-align: top;\n",
              "    }\n",
              "\n",
              "    .dataframe thead th {\n",
              "        text-align: right;\n",
              "    }\n",
              "</style>\n",
              "<table border=\"1\" class=\"dataframe\">\n",
              "  <thead>\n",
              "    <tr style=\"text-align: right;\">\n",
              "      <th></th>\n",
              "      <th>Recency</th>\n",
              "      <th>Frequency</th>\n",
              "      <th>Monetary</th>\n",
              "    </tr>\n",
              "  </thead>\n",
              "  <tbody>\n",
              "    <tr>\n",
              "      <th>0</th>\n",
              "      <td>7</td>\n",
              "      <td>3</td>\n",
              "      <td>4</td>\n",
              "    </tr>\n",
              "    <tr>\n",
              "      <th>1</th>\n",
              "      <td>2</td>\n",
              "      <td>3</td>\n",
              "      <td>3</td>\n",
              "    </tr>\n",
              "    <tr>\n",
              "      <th>2</th>\n",
              "      <td>7</td>\n",
              "      <td>3</td>\n",
              "      <td>2</td>\n",
              "    </tr>\n",
              "    <tr>\n",
              "      <th>3</th>\n",
              "      <td>7</td>\n",
              "      <td>3</td>\n",
              "      <td>5</td>\n",
              "    </tr>\n",
              "    <tr>\n",
              "      <th>4</th>\n",
              "      <td>7</td>\n",
              "      <td>6</td>\n",
              "      <td>7</td>\n",
              "    </tr>\n",
              "  </tbody>\n",
              "</table>\n",
              "</div>"
            ],
            "text/plain": [
              "   Recency  Frequency  Monetary\n",
              "0        7          3         4\n",
              "1        2          3         3\n",
              "2        7          3         2\n",
              "3        7          3         5\n",
              "4        7          6         7"
            ]
          },
          "metadata": {
            "tags": []
          },
          "execution_count": 12
        }
      ]
    },
    {
      "cell_type": "code",
      "metadata": {
        "id": "1Hl00CA6kLjV",
        "outputId": "856f2b87-91bc-45d0-ccdf-fb074b9db25f",
        "colab": {
          "base_uri": "https://localhost:8080/",
          "height": 302
        }
      },
      "source": [
        "# 비계층적 군집분석\n",
        "model = KMeans(n_clusters=3, max_iter=20, random_state =19).fit(X)\n",
        "X['cluster_id'] = model.labels_\n",
        "X.head()"
      ],
      "execution_count": 13,
      "outputs": [
        {
          "output_type": "stream",
          "text": [
            "/usr/local/lib/python3.6/dist-packages/ipykernel_launcher.py:2: SettingWithCopyWarning: \n",
            "A value is trying to be set on a copy of a slice from a DataFrame.\n",
            "Try using .loc[row_indexer,col_indexer] = value instead\n",
            "\n",
            "See the caveats in the documentation: https://pandas.pydata.org/pandas-docs/stable/user_guide/indexing.html#returning-a-view-versus-a-copy\n",
            "  \n"
          ],
          "name": "stderr"
        },
        {
          "output_type": "execute_result",
          "data": {
            "text/html": [
              "<div>\n",
              "<style scoped>\n",
              "    .dataframe tbody tr th:only-of-type {\n",
              "        vertical-align: middle;\n",
              "    }\n",
              "\n",
              "    .dataframe tbody tr th {\n",
              "        vertical-align: top;\n",
              "    }\n",
              "\n",
              "    .dataframe thead th {\n",
              "        text-align: right;\n",
              "    }\n",
              "</style>\n",
              "<table border=\"1\" class=\"dataframe\">\n",
              "  <thead>\n",
              "    <tr style=\"text-align: right;\">\n",
              "      <th></th>\n",
              "      <th>Recency</th>\n",
              "      <th>Frequency</th>\n",
              "      <th>Monetary</th>\n",
              "      <th>cluster_id</th>\n",
              "    </tr>\n",
              "  </thead>\n",
              "  <tbody>\n",
              "    <tr>\n",
              "      <th>0</th>\n",
              "      <td>7</td>\n",
              "      <td>3</td>\n",
              "      <td>4</td>\n",
              "      <td>0</td>\n",
              "    </tr>\n",
              "    <tr>\n",
              "      <th>1</th>\n",
              "      <td>2</td>\n",
              "      <td>3</td>\n",
              "      <td>3</td>\n",
              "      <td>2</td>\n",
              "    </tr>\n",
              "    <tr>\n",
              "      <th>2</th>\n",
              "      <td>7</td>\n",
              "      <td>3</td>\n",
              "      <td>2</td>\n",
              "      <td>0</td>\n",
              "    </tr>\n",
              "    <tr>\n",
              "      <th>3</th>\n",
              "      <td>7</td>\n",
              "      <td>3</td>\n",
              "      <td>5</td>\n",
              "      <td>1</td>\n",
              "    </tr>\n",
              "    <tr>\n",
              "      <th>4</th>\n",
              "      <td>7</td>\n",
              "      <td>6</td>\n",
              "      <td>7</td>\n",
              "      <td>1</td>\n",
              "    </tr>\n",
              "  </tbody>\n",
              "</table>\n",
              "</div>"
            ],
            "text/plain": [
              "   Recency  Frequency  Monetary  cluster_id\n",
              "0        7          3         4           0\n",
              "1        2          3         3           2\n",
              "2        7          3         2           0\n",
              "3        7          3         5           1\n",
              "4        7          6         7           1"
            ]
          },
          "metadata": {
            "tags": []
          },
          "execution_count": 13
        }
      ]
    },
    {
      "cell_type": "markdown",
      "metadata": {
        "id": "PAkXrHKglcWp"
      },
      "source": [
        "- KMeans(n_cluster=군집수, max_iter=최대반복횟수)\n",
        "- labels_ 속성을 이용해 군집번호로 라벨링"
      ]
    },
    {
      "cell_type": "code",
      "metadata": {
        "id": "c56uTm9JkbIz",
        "outputId": "ca9e1d60-79d7-4583-a8e2-b767369943de",
        "colab": {
          "base_uri": "https://localhost:8080/",
          "height": 69
        }
      },
      "source": [
        "# 군집별 고객 수 확인\n",
        "clu1 = X[X.cluster_id == 0]\n",
        "clu2 = X[X.cluster_id == 1]\n",
        "clu3 = X[X.cluster_id == 2]\n",
        "print('군집 1의 고객 수:', clu1.cluster_id.count())\n",
        "print('군집 2의 고객 수:', clu2.cluster_id.count())\n",
        "print('군집 3의 고객 수:', clu3.cluster_id.count())"
      ],
      "execution_count": 17,
      "outputs": [
        {
          "output_type": "stream",
          "text": [
            "군집 1의 고객 수: 512\n",
            "군집 2의 고객 수: 411\n",
            "군집 3의 고객 수: 77\n"
          ],
          "name": "stdout"
        }
      ]
    },
    {
      "cell_type": "code",
      "metadata": {
        "id": "9W9OvTRbk6ul",
        "outputId": "51483abd-c82c-406e-845b-050f65035a3e",
        "colab": {
          "base_uri": "https://localhost:8080/",
          "height": 69
        }
      },
      "source": [
        "# 군집별 평균 RFM 확인\n",
        "print('군집 1의 RFM 평균:', clu1.Recency.mean(), clu1.Frequency.mean(), clu1.Monetary.mean())\n",
        "print('군집 2의 RFM 평균:', clu2.Recency.mean(), clu2.Frequency.mean(), clu2.Monetary.mean())\n",
        "print('군집 3의 RFM 평균:', clu3.Recency.mean(), clu3.Frequency.mean(), clu3.Monetary.mean())"
      ],
      "execution_count": 18,
      "outputs": [
        {
          "output_type": "stream",
          "text": [
            "군집 1의 RFM 평균: 6.8359375 3.212890625 2.892578125\n",
            "군집 2의 RFM 평균: 6.9391727493917275 4.600973236009732 5.768856447688565\n",
            "군집 3의 RFM 평균: 1.7792207792207793 3.207792207792208 3.7532467532467533\n"
          ],
          "name": "stdout"
        }
      ]
    },
    {
      "cell_type": "markdown",
      "metadata": {
        "id": "kWQN6gi-l4XD"
      },
      "source": [
        "- 계층적 군집분석과는 다르게, 군집의 수를 미리 지정해주었기 때문에 3개의 군집으로 추출\n",
        "- 군집 규모: 군집1 > 군집2 > 군집3\n",
        "- 군집 별 3가지 변수의 평균을 보았을 때, 군집2 = 우량고객 그룹\n",
        "- Frequency, Monetary를 보았을 때, 군집1과 군집3이 유사한 그룹으로 보이지만, Recency 값이 매우 큰 차이를 보이므로, 군집3은 최근에 구매이력이 없는 잠재 이탈고객 그룹으로 보임\n"
      ]
    }
  ]
}