{
  "nbformat": 4,
  "nbformat_minor": 0,
  "metadata": {
    "colab": {
      "name": "3장 분류.ipynb",
      "provenance": [],
      "authorship_tag": "ABX9TyOxzwrS1ilhkiB/FaOufYzT",
      "include_colab_link": true
    },
    "kernelspec": {
      "name": "python3",
      "display_name": "Python 3"
    }
  },
  "cells": [
    {
      "cell_type": "markdown",
      "metadata": {
        "id": "view-in-github",
        "colab_type": "text"
      },
      "source": [
        "<a href=\"https://colab.research.google.com/github/wonyoung-ji/study/blob/master/Hands-On%20Machine%20Learning/3%EC%9E%A5_%EB%B6%84%EB%A5%98.ipynb\" target=\"_parent\"><img src=\"https://colab.research.google.com/assets/colab-badge.svg\" alt=\"Open In Colab\"/></a>"
      ]
    },
    {
      "cell_type": "markdown",
      "metadata": {
        "id": "S2PBc7amV2hA"
      },
      "source": [
        "# __3.1 MNIST__"
      ]
    },
    {
      "cell_type": "code",
      "metadata": {
        "id": "EkiNFoDrVwXd"
      },
      "source": [
        "import numpy as np"
      ],
      "execution_count": null,
      "outputs": []
    },
    {
      "cell_type": "code",
      "metadata": {
        "colab": {
          "base_uri": "https://localhost:8080/"
        },
        "id": "Yy4zYDc9TYbr",
        "outputId": "a40c400a-c05c-4c9a-c5de-7a3616cfeab2"
      },
      "source": [
        "from sklearn.datasets import fetch_openml\r\n",
        "mnist = fetch_openml('mnist_784', version=1)\r\n",
        "mnist.keys()"
      ],
      "execution_count": null,
      "outputs": [
        {
          "output_type": "execute_result",
          "data": {
            "text/plain": [
              "dict_keys(['data', 'target', 'frame', 'feature_names', 'target_names', 'DESCR', 'details', 'categories', 'url'])"
            ]
          },
          "metadata": {
            "tags": []
          },
          "execution_count": 3
        }
      ]
    },
    {
      "cell_type": "markdown",
      "metadata": {
        "id": "XE5N0nSpUVB5"
      },
      "source": [
        "- 데이터셋을 설명하는 DESCR 키\r\n",
        "- 샘플이 하나의 행, 특성이 하나의 열로 구성된 배열을 가진 data 키\r\n",
        "- 레이블 배열을 담은 target 키"
      ]
    },
    {
      "cell_type": "code",
      "metadata": {
        "colab": {
          "base_uri": "https://localhost:8080/"
        },
        "id": "YW0JeNJ0Uir0",
        "outputId": "3e928a0d-a064-4e70-91c3-548ddd2b5bc8"
      },
      "source": [
        "X, y = mnist['data'], mnist['target']\r\n",
        "print(X.shape)\r\n",
        "print(y.shape)"
      ],
      "execution_count": null,
      "outputs": [
        {
          "output_type": "stream",
          "text": [
            "(70000, 784)\n",
            "(70000,)\n"
          ],
          "name": "stdout"
        }
      ]
    },
    {
      "cell_type": "markdown",
      "metadata": {
        "id": "Oeb-M4H8U0yS"
      },
      "source": [
        "- 이미지 총 70,000개\r\n",
        "- 각 이미지에는 784개의 특성 존재 (이미지가 28 x 28 픽셀로 구성되어 있으므로)\r\n",
        "- 특성은 0(흰색) ~ 255(검은색)까지의 픽셀 강도를 나타냄\r\n"
      ]
    },
    {
      "cell_type": "code",
      "metadata": {
        "colab": {
          "base_uri": "https://localhost:8080/",
          "height": 248
        },
        "id": "6ThaefbUUx9F",
        "outputId": "64d9e6e9-ce35-43fc-e9e9-b310e81aca48"
      },
      "source": [
        "import matplotlib as mpl\r\n",
        "import matplotlib.pyplot as plt\r\n",
        "\r\n",
        "some_digit = X[0]\r\n",
        "some_digit_image = some_digit.reshape(28, 28)     # 28x28 배열로 크기 변환\r\n",
        "\r\n",
        "plt.imshow(some_digit_image, cmap = 'binary')\r\n",
        "plt.axis('off')\r\n",
        "plt.show()"
      ],
      "execution_count": null,
      "outputs": [
        {
          "output_type": "display_data",
          "data": {
            "image/png": "[encoded data removed]",
            "text/plain": [
              "<Figure size 432x288 with 1 Axes>"
            ]
          },
          "metadata": {
            "tags": [],
            "needs_background": "light"
          }
        }
      ]
    },
    {
      "cell_type": "code",
      "metadata": {
        "colab": {
          "base_uri": "https://localhost:8080/",
          "height": 34
        },
        "id": "5uaWOSsWVeYo",
        "outputId": "7ffeeda0-2a89-4bec-a6c1-8ba7b34b365d"
      },
      "source": [
        "y[0]"
      ],
      "execution_count": null,
      "outputs": [
        {
          "output_type": "execute_result",
          "data": {
            "application/vnd.google.colaboratory.intrinsic+json": {
              "type": "string"
            },
            "text/plain": [
              "'5'"
            ]
          },
          "metadata": {
            "tags": []
          },
          "execution_count": 10
        }
      ]
    },
    {
      "cell_type": "code",
      "metadata": {
        "id": "IecMTbx8VhpD"
      },
      "source": [
        "y = y.astype(np.uint8)"
      ],
      "execution_count": null,
      "outputs": []
    },
    {
      "cell_type": "code",
      "metadata": {
        "id": "SLL72VdCVuim"
      },
      "source": [
        "X_train, X_test, y_train, y_test = X[:60000], X[60000:], y[:60000], y[60000:]"
      ],
      "execution_count": null,
      "outputs": []
    },
    {
      "cell_type": "markdown",
      "metadata": {
        "id": "SNqQXQncWl0q"
      },
      "source": [
        "# __3.2 이진 분류기 훈련__"
      ]
    },
    {
      "cell_type": "code",
      "metadata": {
        "id": "YTQHFAFZWPWM"
      },
      "source": [
        ""
      ],
      "execution_count": null,
      "outputs": []
    }
  ]
}