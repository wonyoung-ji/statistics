{
  "nbformat": 4,
  "nbformat_minor": 0,
  "metadata": {
    "colab": {
      "name": "2020 Kaggle ML & DS Survey.ipynb",
      "provenance": [],
      "authorship_tag": "ABX9TyNXRv5lZh7KyHRzZftcx4WJ",
      "include_colab_link": true
    },
    "kernelspec": {
      "name": "python3",
      "display_name": "Python 3"
    }
  },
  "cells": [
    {
      "cell_type": "markdown",
      "metadata": {
        "id": "view-in-github",
        "colab_type": "text"
      },
      "source": [
        "<a href=\"https://colab.research.google.com/github/wonyoung-ji/study/blob/master/kaggle/2020_Kaggle_ML_%26_DS_Survey.ipynb\" target=\"_parent\"><img src=\"https://colab.research.google.com/assets/colab-badge.svg\" alt=\"Open In Colab\"/></a>"
      ]
    },
    {
      "cell_type": "markdown",
      "metadata": {
        "id": "xVTpv9k7sEQU"
      },
      "source": [
        "# 0.모듈설치"
      ]
    },
    {
      "cell_type": "code",
      "metadata": {
        "id": "6E6WmtW3rt2i"
      },
      "source": [
        "import numpy as np\r\n",
        "import pandas as pd\r\n",
        "import matplotlib as mpl\r\n",
        "import matplotlib.pyplot as plt\r\n",
        "import matplotlib.patches as mpatches\r\n",
        "import matplotlib.gridspec as gridspec \r\n",
        "\r\n",
        "from matplotlib.offsetbox import AnchoredText\r\n",
        "from mpl_toolkits.axes_grid1 import make_axes_locatable\r\n",
        "\r\n",
        "import seaborn as sns\r\n",
        "import warnings\r\n",
        "warnings.filterwarnings(action='ignore')\r\n",
        "plt.rcParams['figure.dpi'] = 200 #high resolution"
      ],
      "execution_count": 1,
      "outputs": []
    },
    {
      "cell_type": "code",
      "metadata": {
        "colab": {
          "base_uri": "https://localhost:8080/"
        },
        "id": "GvXQiK0LqtFA",
        "outputId": "50c62278-17cd-4d68-963c-eff00700e8d2"
      },
      "source": [
        "from google.colab import drive\r\n",
        "drive.mount('/content/gdrive')"
      ],
      "execution_count": 2,
      "outputs": [
        {
          "output_type": "stream",
          "text": [
            "Mounted at /content/gdrive\n"
          ],
          "name": "stdout"
        }
      ]
    },
    {
      "cell_type": "markdown",
      "metadata": {
        "id": "uZ-QnkDGsIOe"
      },
      "source": [
        "# 1.파일탐색"
      ]
    },
    {
      "cell_type": "code",
      "metadata": {
        "colab": {
          "base_uri": "https://localhost:8080/",
          "height": 615
        },
        "id": "wfDY2HbBrCvb",
        "outputId": "97ceaed3-7565-471c-b446-00175834916b"
      },
      "source": [
        "data = pd.read_csv('/content/gdrive/MyDrive/kaggle/kaggle_survey_2020_responses.csv')\r\n",
        "data.head()"
      ],
      "execution_count": 3,
      "outputs": [
        {
          "output_type": "execute_result",
          "data": {
            "text/html": [
              "<div>\n",
              "<style scoped>\n",
              "    .dataframe tbody tr th:only-of-type {\n",
              "        vertical-align: middle;\n",
              "    }\n",
              "\n",
              "    .dataframe tbody tr th {\n",
              "        vertical-align: top;\n",
              "    }\n",
              "\n",
              "    .dataframe thead th {\n",
              "        text-align: right;\n",
              "    }\n",
              "</style>\n",
              "<table border=\"1\" class=\"dataframe\">\n",
              "  <thead>\n",
              "    <tr style=\"text-align: right;\">\n",
              "      <th></th>\n",
              "      <th>Time from Start to Finish (seconds)</th>\n",
              "      <th>Q1</th>\n",
              "      <th>Q2</th>\n",
              "      <th>Q3</th>\n",
              "      <th>Q4</th>\n",
              "      <th>Q5</th>\n",
              "      <th>Q6</th>\n",
              "      <th>Q7_Part_1</th>\n",
              "      <th>Q7_Part_2</th>\n",
              "      <th>Q7_Part_3</th>\n",
              "      <th>Q7_Part_4</th>\n",
              "      <th>Q7_Part_5</th>\n",
              "      <th>Q7_Part_6</th>\n",
              "      <th>Q7_Part_7</th>\n",
              "      <th>Q7_Part_8</th>\n",
              "      <th>Q7_Part_9</th>\n",
              "      <th>Q7_Part_10</th>\n",
              "      <th>Q7_Part_11</th>\n",
              "      <th>Q7_Part_12</th>\n",
              "      <th>Q7_OTHER</th>\n",
              "      <th>Q8</th>\n",
              "      <th>Q9_Part_1</th>\n",
              "      <th>Q9_Part_2</th>\n",
              "      <th>Q9_Part_3</th>\n",
              "      <th>Q9_Part_4</th>\n",
              "      <th>Q9_Part_5</th>\n",
              "      <th>Q9_Part_6</th>\n",
              "      <th>Q9_Part_7</th>\n",
              "      <th>Q9_Part_8</th>\n",
              "      <th>Q9_Part_9</th>\n",
              "      <th>Q9_Part_10</th>\n",
              "      <th>Q9_Part_11</th>\n",
              "      <th>Q9_OTHER</th>\n",
              "      <th>Q10_Part_1</th>\n",
              "      <th>Q10_Part_2</th>\n",
              "      <th>Q10_Part_3</th>\n",
              "      <th>Q10_Part_4</th>\n",
              "      <th>Q10_Part_5</th>\n",
              "      <th>Q10_Part_6</th>\n",
              "      <th>Q10_Part_7</th>\n",
              "      <th>...</th>\n",
              "      <th>Q31_B_Part_7</th>\n",
              "      <th>Q31_B_Part_8</th>\n",
              "      <th>Q31_B_Part_9</th>\n",
              "      <th>Q31_B_Part_10</th>\n",
              "      <th>Q31_B_Part_11</th>\n",
              "      <th>Q31_B_Part_12</th>\n",
              "      <th>Q31_B_Part_13</th>\n",
              "      <th>Q31_B_Part_14</th>\n",
              "      <th>Q31_B_OTHER</th>\n",
              "      <th>Q33_B_Part_1</th>\n",
              "      <th>Q33_B_Part_2</th>\n",
              "      <th>Q33_B_Part_3</th>\n",
              "      <th>Q33_B_Part_4</th>\n",
              "      <th>Q33_B_Part_5</th>\n",
              "      <th>Q33_B_Part_6</th>\n",
              "      <th>Q33_B_Part_7</th>\n",
              "      <th>Q33_B_OTHER</th>\n",
              "      <th>Q34_B_Part_1</th>\n",
              "      <th>Q34_B_Part_2</th>\n",
              "      <th>Q34_B_Part_3</th>\n",
              "      <th>Q34_B_Part_4</th>\n",
              "      <th>Q34_B_Part_5</th>\n",
              "      <th>Q34_B_Part_6</th>\n",
              "      <th>Q34_B_Part_7</th>\n",
              "      <th>Q34_B_Part_8</th>\n",
              "      <th>Q34_B_Part_9</th>\n",
              "      <th>Q34_B_Part_10</th>\n",
              "      <th>Q34_B_Part_11</th>\n",
              "      <th>Q34_B_OTHER</th>\n",
              "      <th>Q35_B_Part_1</th>\n",
              "      <th>Q35_B_Part_2</th>\n",
              "      <th>Q35_B_Part_3</th>\n",
              "      <th>Q35_B_Part_4</th>\n",
              "      <th>Q35_B_Part_5</th>\n",
              "      <th>Q35_B_Part_6</th>\n",
              "      <th>Q35_B_Part_7</th>\n",
              "      <th>Q35_B_Part_8</th>\n",
              "      <th>Q35_B_Part_9</th>\n",
              "      <th>Q35_B_Part_10</th>\n",
              "      <th>Q35_B_OTHER</th>\n",
              "    </tr>\n",
              "  </thead>\n",
              "  <tbody>\n",
              "    <tr>\n",
              "      <th>0</th>\n",
              "      <td>Duration (in seconds)</td>\n",
              "      <td>What is your age (# years)?</td>\n",
              "      <td>What is your gender? - Selected Choice</td>\n",
              "      <td>In which country do you currently reside?</td>\n",
              "      <td>What is the highest level of formal education ...</td>\n",
              "      <td>Select the title most similar to your current ...</td>\n",
              "      <td>For how many years have you been writing code ...</td>\n",
              "      <td>What programming languages do you use on a reg...</td>\n",
              "      <td>What programming languages do you use on a reg...</td>\n",
              "      <td>What programming languages do you use on a reg...</td>\n",
              "      <td>What programming languages do you use on a reg...</td>\n",
              "      <td>What programming languages do you use on a reg...</td>\n",
              "      <td>What programming languages do you use on a reg...</td>\n",
              "      <td>What programming languages do you use on a reg...</td>\n",
              "      <td>What programming languages do you use on a reg...</td>\n",
              "      <td>What programming languages do you use on a reg...</td>\n",
              "      <td>What programming languages do you use on a reg...</td>\n",
              "      <td>What programming languages do you use on a reg...</td>\n",
              "      <td>What programming languages do you use on a reg...</td>\n",
              "      <td>What programming languages do you use on a reg...</td>\n",
              "      <td>What programming language would you recommend ...</td>\n",
              "      <td>Which of the following integrated development ...</td>\n",
              "      <td>Which of the following integrated development ...</td>\n",
              "      <td>Which of the following integrated development ...</td>\n",
              "      <td>Which of the following integrated development ...</td>\n",
              "      <td>Which of the following integrated development ...</td>\n",
              "      <td>Which of the following integrated development ...</td>\n",
              "      <td>Which of the following integrated development ...</td>\n",
              "      <td>Which of the following integrated development ...</td>\n",
              "      <td>Which of the following integrated development ...</td>\n",
              "      <td>Which of the following integrated development ...</td>\n",
              "      <td>Which of the following integrated development ...</td>\n",
              "      <td>Which of the following integrated development ...</td>\n",
              "      <td>Which of the following hosted notebook product...</td>\n",
              "      <td>Which of the following hosted notebook product...</td>\n",
              "      <td>Which of the following hosted notebook product...</td>\n",
              "      <td>Which of the following hosted notebook product...</td>\n",
              "      <td>Which of the following hosted notebook product...</td>\n",
              "      <td>Which of the following hosted notebook product...</td>\n",
              "      <td>Which of the following hosted notebook product...</td>\n",
              "      <td>...</td>\n",
              "      <td>Which of the following business intelligence t...</td>\n",
              "      <td>Which of the following business intelligence t...</td>\n",
              "      <td>Which of the following business intelligence t...</td>\n",
              "      <td>Which of the following business intelligence t...</td>\n",
              "      <td>Which of the following business intelligence t...</td>\n",
              "      <td>Which of the following business intelligence t...</td>\n",
              "      <td>Which of the following business intelligence t...</td>\n",
              "      <td>Which of the following business intelligence t...</td>\n",
              "      <td>Which of the following business intelligence t...</td>\n",
              "      <td>Which categories of automated machine learning...</td>\n",
              "      <td>Which categories of automated machine learning...</td>\n",
              "      <td>Which categories of automated machine learning...</td>\n",
              "      <td>Which categories of automated machine learning...</td>\n",
              "      <td>Which categories of automated machine learning...</td>\n",
              "      <td>Which categories of automated machine learning...</td>\n",
              "      <td>Which categories of automated machine learning...</td>\n",
              "      <td>Which categories of automated machine learning...</td>\n",
              "      <td>Which specific automated machine learning tool...</td>\n",
              "      <td>Which specific automated machine learning tool...</td>\n",
              "      <td>Which specific automated machine learning tool...</td>\n",
              "      <td>Which specific automated machine learning tool...</td>\n",
              "      <td>Which specific automated machine learning tool...</td>\n",
              "      <td>Which specific automated machine learning tool...</td>\n",
              "      <td>Which specific automated machine learning tool...</td>\n",
              "      <td>Which specific automated machine learning tool...</td>\n",
              "      <td>Which specific automated machine learning tool...</td>\n",
              "      <td>Which specific automated machine learning tool...</td>\n",
              "      <td>Which specific automated machine learning tool...</td>\n",
              "      <td>Which specific automated machine learning tool...</td>\n",
              "      <td>In the next 2 years, do you hope to become mor...</td>\n",
              "      <td>In the next 2 years, do you hope to become mor...</td>\n",
              "      <td>In the next 2 years, do you hope to become mor...</td>\n",
              "      <td>In the next 2 years, do you hope to become mor...</td>\n",
              "      <td>In the next 2 years, do you hope to become mor...</td>\n",
              "      <td>In the next 2 years, do you hope to become mor...</td>\n",
              "      <td>In the next 2 years, do you hope to become mor...</td>\n",
              "      <td>In the next 2 years, do you hope to become mor...</td>\n",
              "      <td>In the next 2 years, do you hope to become mor...</td>\n",
              "      <td>In the next 2 years, do you hope to become mor...</td>\n",
              "      <td>In the next 2 years, do you hope to become mor...</td>\n",
              "    </tr>\n",
              "    <tr>\n",
              "      <th>1</th>\n",
              "      <td>1838</td>\n",
              "      <td>35-39</td>\n",
              "      <td>Man</td>\n",
              "      <td>Colombia</td>\n",
              "      <td>Doctoral degree</td>\n",
              "      <td>Student</td>\n",
              "      <td>5-10 years</td>\n",
              "      <td>Python</td>\n",
              "      <td>R</td>\n",
              "      <td>SQL</td>\n",
              "      <td>C</td>\n",
              "      <td>NaN</td>\n",
              "      <td>NaN</td>\n",
              "      <td>Javascript</td>\n",
              "      <td>NaN</td>\n",
              "      <td>NaN</td>\n",
              "      <td>NaN</td>\n",
              "      <td>MATLAB</td>\n",
              "      <td>NaN</td>\n",
              "      <td>Other</td>\n",
              "      <td>Python</td>\n",
              "      <td>Jupyter (JupyterLab, Jupyter Notebooks, etc)</td>\n",
              "      <td>NaN</td>\n",
              "      <td>NaN</td>\n",
              "      <td>Visual Studio Code (VSCode)</td>\n",
              "      <td>NaN</td>\n",
              "      <td>Spyder</td>\n",
              "      <td>NaN</td>\n",
              "      <td>NaN</td>\n",
              "      <td>NaN</td>\n",
              "      <td>NaN</td>\n",
              "      <td>NaN</td>\n",
              "      <td>NaN</td>\n",
              "      <td>Kaggle Notebooks</td>\n",
              "      <td>Colab Notebooks</td>\n",
              "      <td>NaN</td>\n",
              "      <td>NaN</td>\n",
              "      <td>NaN</td>\n",
              "      <td>NaN</td>\n",
              "      <td>NaN</td>\n",
              "      <td>...</td>\n",
              "      <td>NaN</td>\n",
              "      <td>NaN</td>\n",
              "      <td>NaN</td>\n",
              "      <td>NaN</td>\n",
              "      <td>NaN</td>\n",
              "      <td>NaN</td>\n",
              "      <td>SAP Analytics Cloud</td>\n",
              "      <td>NaN</td>\n",
              "      <td>NaN</td>\n",
              "      <td>Automated data augmentation (e.g. imgaug, albu...</td>\n",
              "      <td>NaN</td>\n",
              "      <td>NaN</td>\n",
              "      <td>NaN</td>\n",
              "      <td>Automated hyperparameter tuning (e.g. hyperopt...</td>\n",
              "      <td>Automation of full ML pipelines (e.g. Google C...</td>\n",
              "      <td>NaN</td>\n",
              "      <td>NaN</td>\n",
              "      <td>Google Cloud AutoML</td>\n",
              "      <td>NaN</td>\n",
              "      <td>Databricks AutoML</td>\n",
              "      <td>NaN</td>\n",
              "      <td>NaN</td>\n",
              "      <td>Auto-Keras</td>\n",
              "      <td>Auto-Sklearn</td>\n",
              "      <td>NaN</td>\n",
              "      <td>NaN</td>\n",
              "      <td>NaN</td>\n",
              "      <td>NaN</td>\n",
              "      <td>NaN</td>\n",
              "      <td>NaN</td>\n",
              "      <td>NaN</td>\n",
              "      <td>NaN</td>\n",
              "      <td>NaN</td>\n",
              "      <td>TensorBoard</td>\n",
              "      <td>NaN</td>\n",
              "      <td>NaN</td>\n",
              "      <td>NaN</td>\n",
              "      <td>NaN</td>\n",
              "      <td>NaN</td>\n",
              "      <td>NaN</td>\n",
              "    </tr>\n",
              "    <tr>\n",
              "      <th>2</th>\n",
              "      <td>289287</td>\n",
              "      <td>30-34</td>\n",
              "      <td>Man</td>\n",
              "      <td>United States of America</td>\n",
              "      <td>Master’s degree</td>\n",
              "      <td>Data Engineer</td>\n",
              "      <td>5-10 years</td>\n",
              "      <td>Python</td>\n",
              "      <td>R</td>\n",
              "      <td>SQL</td>\n",
              "      <td>NaN</td>\n",
              "      <td>NaN</td>\n",
              "      <td>NaN</td>\n",
              "      <td>NaN</td>\n",
              "      <td>NaN</td>\n",
              "      <td>NaN</td>\n",
              "      <td>NaN</td>\n",
              "      <td>NaN</td>\n",
              "      <td>NaN</td>\n",
              "      <td>NaN</td>\n",
              "      <td>Python</td>\n",
              "      <td>NaN</td>\n",
              "      <td>NaN</td>\n",
              "      <td>Visual Studio</td>\n",
              "      <td>NaN</td>\n",
              "      <td>PyCharm</td>\n",
              "      <td>NaN</td>\n",
              "      <td>NaN</td>\n",
              "      <td>Sublime Text</td>\n",
              "      <td>NaN</td>\n",
              "      <td>NaN</td>\n",
              "      <td>NaN</td>\n",
              "      <td>NaN</td>\n",
              "      <td>NaN</td>\n",
              "      <td>Colab Notebooks</td>\n",
              "      <td>NaN</td>\n",
              "      <td>NaN</td>\n",
              "      <td>NaN</td>\n",
              "      <td>NaN</td>\n",
              "      <td>NaN</td>\n",
              "      <td>...</td>\n",
              "      <td>NaN</td>\n",
              "      <td>NaN</td>\n",
              "      <td>NaN</td>\n",
              "      <td>NaN</td>\n",
              "      <td>NaN</td>\n",
              "      <td>NaN</td>\n",
              "      <td>NaN</td>\n",
              "      <td>NaN</td>\n",
              "      <td>NaN</td>\n",
              "      <td>NaN</td>\n",
              "      <td>NaN</td>\n",
              "      <td>NaN</td>\n",
              "      <td>NaN</td>\n",
              "      <td>NaN</td>\n",
              "      <td>NaN</td>\n",
              "      <td>NaN</td>\n",
              "      <td>NaN</td>\n",
              "      <td>NaN</td>\n",
              "      <td>NaN</td>\n",
              "      <td>NaN</td>\n",
              "      <td>NaN</td>\n",
              "      <td>NaN</td>\n",
              "      <td>NaN</td>\n",
              "      <td>NaN</td>\n",
              "      <td>NaN</td>\n",
              "      <td>NaN</td>\n",
              "      <td>NaN</td>\n",
              "      <td>NaN</td>\n",
              "      <td>NaN</td>\n",
              "      <td>NaN</td>\n",
              "      <td>NaN</td>\n",
              "      <td>NaN</td>\n",
              "      <td>NaN</td>\n",
              "      <td>NaN</td>\n",
              "      <td>NaN</td>\n",
              "      <td>NaN</td>\n",
              "      <td>NaN</td>\n",
              "      <td>NaN</td>\n",
              "      <td>NaN</td>\n",
              "      <td>NaN</td>\n",
              "    </tr>\n",
              "    <tr>\n",
              "      <th>3</th>\n",
              "      <td>860</td>\n",
              "      <td>35-39</td>\n",
              "      <td>Man</td>\n",
              "      <td>Argentina</td>\n",
              "      <td>Bachelor’s degree</td>\n",
              "      <td>Software Engineer</td>\n",
              "      <td>10-20 years</td>\n",
              "      <td>NaN</td>\n",
              "      <td>NaN</td>\n",
              "      <td>NaN</td>\n",
              "      <td>NaN</td>\n",
              "      <td>NaN</td>\n",
              "      <td>Java</td>\n",
              "      <td>Javascript</td>\n",
              "      <td>NaN</td>\n",
              "      <td>NaN</td>\n",
              "      <td>Bash</td>\n",
              "      <td>NaN</td>\n",
              "      <td>NaN</td>\n",
              "      <td>NaN</td>\n",
              "      <td>R</td>\n",
              "      <td>NaN</td>\n",
              "      <td>NaN</td>\n",
              "      <td>NaN</td>\n",
              "      <td>Visual Studio Code (VSCode)</td>\n",
              "      <td>NaN</td>\n",
              "      <td>NaN</td>\n",
              "      <td>Notepad++</td>\n",
              "      <td>Sublime Text</td>\n",
              "      <td>Vim / Emacs</td>\n",
              "      <td>NaN</td>\n",
              "      <td>NaN</td>\n",
              "      <td>NaN</td>\n",
              "      <td>NaN</td>\n",
              "      <td>NaN</td>\n",
              "      <td>NaN</td>\n",
              "      <td>NaN</td>\n",
              "      <td>NaN</td>\n",
              "      <td>NaN</td>\n",
              "      <td>NaN</td>\n",
              "      <td>...</td>\n",
              "      <td>NaN</td>\n",
              "      <td>NaN</td>\n",
              "      <td>NaN</td>\n",
              "      <td>NaN</td>\n",
              "      <td>NaN</td>\n",
              "      <td>NaN</td>\n",
              "      <td>NaN</td>\n",
              "      <td>None</td>\n",
              "      <td>NaN</td>\n",
              "      <td>NaN</td>\n",
              "      <td>NaN</td>\n",
              "      <td>NaN</td>\n",
              "      <td>NaN</td>\n",
              "      <td>NaN</td>\n",
              "      <td>NaN</td>\n",
              "      <td>None</td>\n",
              "      <td>NaN</td>\n",
              "      <td>NaN</td>\n",
              "      <td>NaN</td>\n",
              "      <td>NaN</td>\n",
              "      <td>NaN</td>\n",
              "      <td>NaN</td>\n",
              "      <td>NaN</td>\n",
              "      <td>NaN</td>\n",
              "      <td>NaN</td>\n",
              "      <td>NaN</td>\n",
              "      <td>NaN</td>\n",
              "      <td>NaN</td>\n",
              "      <td>NaN</td>\n",
              "      <td>NaN</td>\n",
              "      <td>NaN</td>\n",
              "      <td>NaN</td>\n",
              "      <td>NaN</td>\n",
              "      <td>NaN</td>\n",
              "      <td>NaN</td>\n",
              "      <td>NaN</td>\n",
              "      <td>NaN</td>\n",
              "      <td>NaN</td>\n",
              "      <td>None</td>\n",
              "      <td>NaN</td>\n",
              "    </tr>\n",
              "    <tr>\n",
              "      <th>4</th>\n",
              "      <td>507</td>\n",
              "      <td>30-34</td>\n",
              "      <td>Man</td>\n",
              "      <td>United States of America</td>\n",
              "      <td>Master’s degree</td>\n",
              "      <td>Data Scientist</td>\n",
              "      <td>5-10 years</td>\n",
              "      <td>Python</td>\n",
              "      <td>NaN</td>\n",
              "      <td>SQL</td>\n",
              "      <td>NaN</td>\n",
              "      <td>NaN</td>\n",
              "      <td>NaN</td>\n",
              "      <td>NaN</td>\n",
              "      <td>NaN</td>\n",
              "      <td>NaN</td>\n",
              "      <td>Bash</td>\n",
              "      <td>NaN</td>\n",
              "      <td>NaN</td>\n",
              "      <td>NaN</td>\n",
              "      <td>Python</td>\n",
              "      <td>NaN</td>\n",
              "      <td>NaN</td>\n",
              "      <td>NaN</td>\n",
              "      <td>NaN</td>\n",
              "      <td>PyCharm</td>\n",
              "      <td>NaN</td>\n",
              "      <td>NaN</td>\n",
              "      <td>NaN</td>\n",
              "      <td>NaN</td>\n",
              "      <td>NaN</td>\n",
              "      <td>NaN</td>\n",
              "      <td>NaN</td>\n",
              "      <td>NaN</td>\n",
              "      <td>NaN</td>\n",
              "      <td>NaN</td>\n",
              "      <td>NaN</td>\n",
              "      <td>NaN</td>\n",
              "      <td>NaN</td>\n",
              "      <td>NaN</td>\n",
              "      <td>...</td>\n",
              "      <td>NaN</td>\n",
              "      <td>NaN</td>\n",
              "      <td>NaN</td>\n",
              "      <td>NaN</td>\n",
              "      <td>NaN</td>\n",
              "      <td>NaN</td>\n",
              "      <td>NaN</td>\n",
              "      <td>NaN</td>\n",
              "      <td>NaN</td>\n",
              "      <td>NaN</td>\n",
              "      <td>NaN</td>\n",
              "      <td>NaN</td>\n",
              "      <td>NaN</td>\n",
              "      <td>NaN</td>\n",
              "      <td>NaN</td>\n",
              "      <td>NaN</td>\n",
              "      <td>NaN</td>\n",
              "      <td>NaN</td>\n",
              "      <td>NaN</td>\n",
              "      <td>NaN</td>\n",
              "      <td>NaN</td>\n",
              "      <td>NaN</td>\n",
              "      <td>NaN</td>\n",
              "      <td>NaN</td>\n",
              "      <td>NaN</td>\n",
              "      <td>NaN</td>\n",
              "      <td>NaN</td>\n",
              "      <td>NaN</td>\n",
              "      <td>NaN</td>\n",
              "      <td>NaN</td>\n",
              "      <td>NaN</td>\n",
              "      <td>NaN</td>\n",
              "      <td>NaN</td>\n",
              "      <td>NaN</td>\n",
              "      <td>NaN</td>\n",
              "      <td>NaN</td>\n",
              "      <td>NaN</td>\n",
              "      <td>NaN</td>\n",
              "      <td>NaN</td>\n",
              "      <td>NaN</td>\n",
              "    </tr>\n",
              "  </tbody>\n",
              "</table>\n",
              "<p>5 rows × 355 columns</p>\n",
              "</div>"
            ],
            "text/plain": [
              "  Time from Start to Finish (seconds)  ...                                        Q35_B_OTHER\n",
              "0               Duration (in seconds)  ...  In the next 2 years, do you hope to become mor...\n",
              "1                                1838  ...                                                NaN\n",
              "2                              289287  ...                                                NaN\n",
              "3                                 860  ...                                                NaN\n",
              "4                                 507  ...                                                NaN\n",
              "\n",
              "[5 rows x 355 columns]"
            ]
          },
          "metadata": {
            "tags": []
          },
          "execution_count": 3
        }
      ]
    },
    {
      "cell_type": "markdown",
      "metadata": {
        "id": "EIfyPB9esp3D"
      },
      "source": [
        "- 설문지 내용\r\n",
        "- 1열은 설문지 질문\r\n",
        "- 각 컬럼은 설문지 항목"
      ]
    },
    {
      "cell_type": "code",
      "metadata": {
        "colab": {
          "base_uri": "https://localhost:8080/"
        },
        "id": "Fh-alfyZtTyJ",
        "outputId": "ac19ac52-2b15-465f-bd11-32d7490c70b9"
      },
      "source": [
        "data.columns"
      ],
      "execution_count": 4,
      "outputs": [
        {
          "output_type": "execute_result",
          "data": {
            "text/plain": [
              "Index(['Time from Start to Finish (seconds)', 'Q1', 'Q2', 'Q3', 'Q4', 'Q5',\n",
              "       'Q6', 'Q7_Part_1', 'Q7_Part_2', 'Q7_Part_3',\n",
              "       ...\n",
              "       'Q35_B_Part_2', 'Q35_B_Part_3', 'Q35_B_Part_4', 'Q35_B_Part_5',\n",
              "       'Q35_B_Part_6', 'Q35_B_Part_7', 'Q35_B_Part_8', 'Q35_B_Part_9',\n",
              "       'Q35_B_Part_10', 'Q35_B_OTHER'],\n",
              "      dtype='object', length=355)"
            ]
          },
          "metadata": {
            "tags": []
          },
          "execution_count": 4
        }
      ]
    },
    {
      "cell_type": "code",
      "metadata": {
        "colab": {
          "base_uri": "https://localhost:8080/"
        },
        "id": "8uPM72jztePE",
        "outputId": "085b690f-7b98-4a0c-b87a-19575e888cf2"
      },
      "source": [
        "data.shape"
      ],
      "execution_count": 5,
      "outputs": [
        {
          "output_type": "execute_result",
          "data": {
            "text/plain": [
              "(20037, 355)"
            ]
          },
          "metadata": {
            "tags": []
          },
          "execution_count": 5
        }
      ]
    },
    {
      "cell_type": "code",
      "metadata": {
        "colab": {
          "base_uri": "https://localhost:8080/",
          "height": 332
        },
        "id": "mCh6fy9itMD8",
        "outputId": "64de3d13-283a-45bd-fe9f-d2aa9b7f7564"
      },
      "source": [
        "data.describe()"
      ],
      "execution_count": 6,
      "outputs": [
        {
          "output_type": "execute_result",
          "data": {
            "text/html": [
              "<div>\n",
              "<style scoped>\n",
              "    .dataframe tbody tr th:only-of-type {\n",
              "        vertical-align: middle;\n",
              "    }\n",
              "\n",
              "    .dataframe tbody tr th {\n",
              "        vertical-align: top;\n",
              "    }\n",
              "\n",
              "    .dataframe thead th {\n",
              "        text-align: right;\n",
              "    }\n",
              "</style>\n",
              "<table border=\"1\" class=\"dataframe\">\n",
              "  <thead>\n",
              "    <tr style=\"text-align: right;\">\n",
              "      <th></th>\n",
              "      <th>Time from Start to Finish (seconds)</th>\n",
              "      <th>Q1</th>\n",
              "      <th>Q2</th>\n",
              "      <th>Q3</th>\n",
              "      <th>Q4</th>\n",
              "      <th>Q5</th>\n",
              "      <th>Q6</th>\n",
              "      <th>Q7_Part_1</th>\n",
              "      <th>Q7_Part_2</th>\n",
              "      <th>Q7_Part_3</th>\n",
              "      <th>Q7_Part_4</th>\n",
              "      <th>Q7_Part_5</th>\n",
              "      <th>Q7_Part_6</th>\n",
              "      <th>Q7_Part_7</th>\n",
              "      <th>Q7_Part_8</th>\n",
              "      <th>Q7_Part_9</th>\n",
              "      <th>Q7_Part_10</th>\n",
              "      <th>Q7_Part_11</th>\n",
              "      <th>Q7_Part_12</th>\n",
              "      <th>Q7_OTHER</th>\n",
              "      <th>Q8</th>\n",
              "      <th>Q9_Part_1</th>\n",
              "      <th>Q9_Part_2</th>\n",
              "      <th>Q9_Part_3</th>\n",
              "      <th>Q9_Part_4</th>\n",
              "      <th>Q9_Part_5</th>\n",
              "      <th>Q9_Part_6</th>\n",
              "      <th>Q9_Part_7</th>\n",
              "      <th>Q9_Part_8</th>\n",
              "      <th>Q9_Part_9</th>\n",
              "      <th>Q9_Part_10</th>\n",
              "      <th>Q9_Part_11</th>\n",
              "      <th>Q9_OTHER</th>\n",
              "      <th>Q10_Part_1</th>\n",
              "      <th>Q10_Part_2</th>\n",
              "      <th>Q10_Part_3</th>\n",
              "      <th>Q10_Part_4</th>\n",
              "      <th>Q10_Part_5</th>\n",
              "      <th>Q10_Part_6</th>\n",
              "      <th>Q10_Part_7</th>\n",
              "      <th>...</th>\n",
              "      <th>Q31_B_Part_7</th>\n",
              "      <th>Q31_B_Part_8</th>\n",
              "      <th>Q31_B_Part_9</th>\n",
              "      <th>Q31_B_Part_10</th>\n",
              "      <th>Q31_B_Part_11</th>\n",
              "      <th>Q31_B_Part_12</th>\n",
              "      <th>Q31_B_Part_13</th>\n",
              "      <th>Q31_B_Part_14</th>\n",
              "      <th>Q31_B_OTHER</th>\n",
              "      <th>Q33_B_Part_1</th>\n",
              "      <th>Q33_B_Part_2</th>\n",
              "      <th>Q33_B_Part_3</th>\n",
              "      <th>Q33_B_Part_4</th>\n",
              "      <th>Q33_B_Part_5</th>\n",
              "      <th>Q33_B_Part_6</th>\n",
              "      <th>Q33_B_Part_7</th>\n",
              "      <th>Q33_B_OTHER</th>\n",
              "      <th>Q34_B_Part_1</th>\n",
              "      <th>Q34_B_Part_2</th>\n",
              "      <th>Q34_B_Part_3</th>\n",
              "      <th>Q34_B_Part_4</th>\n",
              "      <th>Q34_B_Part_5</th>\n",
              "      <th>Q34_B_Part_6</th>\n",
              "      <th>Q34_B_Part_7</th>\n",
              "      <th>Q34_B_Part_8</th>\n",
              "      <th>Q34_B_Part_9</th>\n",
              "      <th>Q34_B_Part_10</th>\n",
              "      <th>Q34_B_Part_11</th>\n",
              "      <th>Q34_B_OTHER</th>\n",
              "      <th>Q35_B_Part_1</th>\n",
              "      <th>Q35_B_Part_2</th>\n",
              "      <th>Q35_B_Part_3</th>\n",
              "      <th>Q35_B_Part_4</th>\n",
              "      <th>Q35_B_Part_5</th>\n",
              "      <th>Q35_B_Part_6</th>\n",
              "      <th>Q35_B_Part_7</th>\n",
              "      <th>Q35_B_Part_8</th>\n",
              "      <th>Q35_B_Part_9</th>\n",
              "      <th>Q35_B_Part_10</th>\n",
              "      <th>Q35_B_OTHER</th>\n",
              "    </tr>\n",
              "  </thead>\n",
              "  <tbody>\n",
              "    <tr>\n",
              "      <th>count</th>\n",
              "      <td>20037</td>\n",
              "      <td>20037</td>\n",
              "      <td>20037</td>\n",
              "      <td>20037</td>\n",
              "      <td>19570</td>\n",
              "      <td>19278</td>\n",
              "      <td>19121</td>\n",
              "      <td>15531</td>\n",
              "      <td>4278</td>\n",
              "      <td>7536</td>\n",
              "      <td>3316</td>\n",
              "      <td>3828</td>\n",
              "      <td>3368</td>\n",
              "      <td>2996</td>\n",
              "      <td>263</td>\n",
              "      <td>199</td>\n",
              "      <td>1777</td>\n",
              "      <td>2218</td>\n",
              "      <td>207</td>\n",
              "      <td>1946</td>\n",
              "      <td>17822</td>\n",
              "      <td>11212</td>\n",
              "      <td>3827</td>\n",
              "      <td>2446</td>\n",
              "      <td>5874</td>\n",
              "      <td>5100</td>\n",
              "      <td>3291</td>\n",
              "      <td>3133</td>\n",
              "      <td>2453</td>\n",
              "      <td>1503</td>\n",
              "      <td>1605</td>\n",
              "      <td>387</td>\n",
              "      <td>1163</td>\n",
              "      <td>5993</td>\n",
              "      <td>6330</td>\n",
              "      <td>858</td>\n",
              "      <td>181</td>\n",
              "      <td>2073</td>\n",
              "      <td>106</td>\n",
              "      <td>847</td>\n",
              "      <td>...</td>\n",
              "      <td>557</td>\n",
              "      <td>578</td>\n",
              "      <td>182</td>\n",
              "      <td>182</td>\n",
              "      <td>344</td>\n",
              "      <td>204</td>\n",
              "      <td>1007</td>\n",
              "      <td>2116</td>\n",
              "      <td>181</td>\n",
              "      <td>2429</td>\n",
              "      <td>2541</td>\n",
              "      <td>3275</td>\n",
              "      <td>1511</td>\n",
              "      <td>2398</td>\n",
              "      <td>3162</td>\n",
              "      <td>2109</td>\n",
              "      <td>189</td>\n",
              "      <td>2480</td>\n",
              "      <td>860</td>\n",
              "      <td>802</td>\n",
              "      <td>834</td>\n",
              "      <td>447</td>\n",
              "      <td>2385</td>\n",
              "      <td>2753</td>\n",
              "      <td>1349</td>\n",
              "      <td>316</td>\n",
              "      <td>708</td>\n",
              "      <td>805</td>\n",
              "      <td>194</td>\n",
              "      <td>936</td>\n",
              "      <td>1178</td>\n",
              "      <td>495</td>\n",
              "      <td>431</td>\n",
              "      <td>3200</td>\n",
              "      <td>558</td>\n",
              "      <td>481</td>\n",
              "      <td>847</td>\n",
              "      <td>520</td>\n",
              "      <td>3083</td>\n",
              "      <td>252</td>\n",
              "    </tr>\n",
              "    <tr>\n",
              "      <th>unique</th>\n",
              "      <td>5168</td>\n",
              "      <td>12</td>\n",
              "      <td>6</td>\n",
              "      <td>56</td>\n",
              "      <td>8</td>\n",
              "      <td>14</td>\n",
              "      <td>8</td>\n",
              "      <td>2</td>\n",
              "      <td>2</td>\n",
              "      <td>2</td>\n",
              "      <td>2</td>\n",
              "      <td>2</td>\n",
              "      <td>2</td>\n",
              "      <td>2</td>\n",
              "      <td>2</td>\n",
              "      <td>2</td>\n",
              "      <td>2</td>\n",
              "      <td>2</td>\n",
              "      <td>2</td>\n",
              "      <td>2</td>\n",
              "      <td>14</td>\n",
              "      <td>2</td>\n",
              "      <td>2</td>\n",
              "      <td>2</td>\n",
              "      <td>2</td>\n",
              "      <td>2</td>\n",
              "      <td>2</td>\n",
              "      <td>2</td>\n",
              "      <td>2</td>\n",
              "      <td>2</td>\n",
              "      <td>2</td>\n",
              "      <td>2</td>\n",
              "      <td>2</td>\n",
              "      <td>2</td>\n",
              "      <td>2</td>\n",
              "      <td>2</td>\n",
              "      <td>2</td>\n",
              "      <td>2</td>\n",
              "      <td>2</td>\n",
              "      <td>2</td>\n",
              "      <td>...</td>\n",
              "      <td>2</td>\n",
              "      <td>2</td>\n",
              "      <td>2</td>\n",
              "      <td>2</td>\n",
              "      <td>2</td>\n",
              "      <td>2</td>\n",
              "      <td>2</td>\n",
              "      <td>2</td>\n",
              "      <td>2</td>\n",
              "      <td>2</td>\n",
              "      <td>2</td>\n",
              "      <td>2</td>\n",
              "      <td>2</td>\n",
              "      <td>2</td>\n",
              "      <td>2</td>\n",
              "      <td>2</td>\n",
              "      <td>2</td>\n",
              "      <td>2</td>\n",
              "      <td>2</td>\n",
              "      <td>2</td>\n",
              "      <td>2</td>\n",
              "      <td>2</td>\n",
              "      <td>2</td>\n",
              "      <td>2</td>\n",
              "      <td>2</td>\n",
              "      <td>2</td>\n",
              "      <td>2</td>\n",
              "      <td>2</td>\n",
              "      <td>2</td>\n",
              "      <td>2</td>\n",
              "      <td>2</td>\n",
              "      <td>2</td>\n",
              "      <td>2</td>\n",
              "      <td>2</td>\n",
              "      <td>2</td>\n",
              "      <td>2</td>\n",
              "      <td>2</td>\n",
              "      <td>2</td>\n",
              "      <td>2</td>\n",
              "      <td>2</td>\n",
              "    </tr>\n",
              "    <tr>\n",
              "      <th>top</th>\n",
              "      <td>565</td>\n",
              "      <td>25-29</td>\n",
              "      <td>Man</td>\n",
              "      <td>India</td>\n",
              "      <td>Master’s degree</td>\n",
              "      <td>Student</td>\n",
              "      <td>3-5 years</td>\n",
              "      <td>Python</td>\n",
              "      <td>R</td>\n",
              "      <td>SQL</td>\n",
              "      <td>C</td>\n",
              "      <td>C++</td>\n",
              "      <td>Java</td>\n",
              "      <td>Javascript</td>\n",
              "      <td>Julia</td>\n",
              "      <td>Swift</td>\n",
              "      <td>Bash</td>\n",
              "      <td>MATLAB</td>\n",
              "      <td>None</td>\n",
              "      <td>Other</td>\n",
              "      <td>Python</td>\n",
              "      <td>Jupyter (JupyterLab, Jupyter Notebooks, etc)</td>\n",
              "      <td>RStudio</td>\n",
              "      <td>Visual Studio</td>\n",
              "      <td>Visual Studio Code (VSCode)</td>\n",
              "      <td>PyCharm</td>\n",
              "      <td>Spyder</td>\n",
              "      <td>Notepad++</td>\n",
              "      <td>Sublime Text</td>\n",
              "      <td>Vim / Emacs</td>\n",
              "      <td>MATLAB</td>\n",
              "      <td>None</td>\n",
              "      <td>Other</td>\n",
              "      <td>Kaggle Notebooks</td>\n",
              "      <td>Colab Notebooks</td>\n",
              "      <td>Azure Notebooks</td>\n",
              "      <td>Paperspace / Gradient</td>\n",
              "      <td>Binder / JupyterHub</td>\n",
              "      <td>Code Ocean</td>\n",
              "      <td>IBM Watson Studio</td>\n",
              "      <td>...</td>\n",
              "      <td>Einstein Analytics</td>\n",
              "      <td>Qlik</td>\n",
              "      <td>Domo</td>\n",
              "      <td>TIBCO Spotfire</td>\n",
              "      <td>Alteryx</td>\n",
              "      <td>Sisense</td>\n",
              "      <td>SAP Analytics Cloud</td>\n",
              "      <td>None</td>\n",
              "      <td>Other</td>\n",
              "      <td>Automated data augmentation (e.g. imgaug, albu...</td>\n",
              "      <td>Automated feature engineering/selection (e.g. ...</td>\n",
              "      <td>Automated model selection (e.g. auto-sklearn, ...</td>\n",
              "      <td>Automated model architecture searches (e.g. da...</td>\n",
              "      <td>Automated hyperparameter tuning (e.g. hyperopt...</td>\n",
              "      <td>Automation of full ML pipelines (e.g. Google C...</td>\n",
              "      <td>None</td>\n",
              "      <td>Other</td>\n",
              "      <td>Google Cloud AutoML</td>\n",
              "      <td>H20 Driverless AI</td>\n",
              "      <td>Databricks AutoML</td>\n",
              "      <td>DataRobot AutoML</td>\n",
              "      <td>Tpot</td>\n",
              "      <td>Auto-Keras</td>\n",
              "      <td>Auto-Sklearn</td>\n",
              "      <td>Auto_ml</td>\n",
              "      <td>Xcessiv</td>\n",
              "      <td>MLbox</td>\n",
              "      <td>None</td>\n",
              "      <td>Other</td>\n",
              "      <td>Neptune.ai</td>\n",
              "      <td>Weights &amp; Biases</td>\n",
              "      <td>Comet.ml</td>\n",
              "      <td>Sacred + Omniboard</td>\n",
              "      <td>TensorBoard</td>\n",
              "      <td>Guild.ai</td>\n",
              "      <td>Polyaxon</td>\n",
              "      <td>Trains</td>\n",
              "      <td>Domino Model Monitor</td>\n",
              "      <td>None</td>\n",
              "      <td>Other</td>\n",
              "    </tr>\n",
              "    <tr>\n",
              "      <th>freq</th>\n",
              "      <td>34</td>\n",
              "      <td>4011</td>\n",
              "      <td>15789</td>\n",
              "      <td>5851</td>\n",
              "      <td>7859</td>\n",
              "      <td>5171</td>\n",
              "      <td>4546</td>\n",
              "      <td>15530</td>\n",
              "      <td>4277</td>\n",
              "      <td>7535</td>\n",
              "      <td>3315</td>\n",
              "      <td>3827</td>\n",
              "      <td>3367</td>\n",
              "      <td>2995</td>\n",
              "      <td>262</td>\n",
              "      <td>198</td>\n",
              "      <td>1776</td>\n",
              "      <td>2217</td>\n",
              "      <td>206</td>\n",
              "      <td>1945</td>\n",
              "      <td>14241</td>\n",
              "      <td>11211</td>\n",
              "      <td>3826</td>\n",
              "      <td>2445</td>\n",
              "      <td>5873</td>\n",
              "      <td>5099</td>\n",
              "      <td>3290</td>\n",
              "      <td>3132</td>\n",
              "      <td>2452</td>\n",
              "      <td>1502</td>\n",
              "      <td>1604</td>\n",
              "      <td>386</td>\n",
              "      <td>1162</td>\n",
              "      <td>5992</td>\n",
              "      <td>6329</td>\n",
              "      <td>857</td>\n",
              "      <td>180</td>\n",
              "      <td>2072</td>\n",
              "      <td>105</td>\n",
              "      <td>846</td>\n",
              "      <td>...</td>\n",
              "      <td>556</td>\n",
              "      <td>577</td>\n",
              "      <td>181</td>\n",
              "      <td>181</td>\n",
              "      <td>343</td>\n",
              "      <td>203</td>\n",
              "      <td>1006</td>\n",
              "      <td>2115</td>\n",
              "      <td>180</td>\n",
              "      <td>2428</td>\n",
              "      <td>2540</td>\n",
              "      <td>3274</td>\n",
              "      <td>1510</td>\n",
              "      <td>2397</td>\n",
              "      <td>3161</td>\n",
              "      <td>2108</td>\n",
              "      <td>188</td>\n",
              "      <td>2479</td>\n",
              "      <td>859</td>\n",
              "      <td>801</td>\n",
              "      <td>833</td>\n",
              "      <td>446</td>\n",
              "      <td>2384</td>\n",
              "      <td>2752</td>\n",
              "      <td>1348</td>\n",
              "      <td>315</td>\n",
              "      <td>707</td>\n",
              "      <td>804</td>\n",
              "      <td>193</td>\n",
              "      <td>935</td>\n",
              "      <td>1177</td>\n",
              "      <td>494</td>\n",
              "      <td>430</td>\n",
              "      <td>3199</td>\n",
              "      <td>557</td>\n",
              "      <td>480</td>\n",
              "      <td>846</td>\n",
              "      <td>519</td>\n",
              "      <td>3082</td>\n",
              "      <td>251</td>\n",
              "    </tr>\n",
              "  </tbody>\n",
              "</table>\n",
              "<p>4 rows × 355 columns</p>\n",
              "</div>"
            ],
            "text/plain": [
              "        Time from Start to Finish (seconds)     Q1  ... Q35_B_Part_10 Q35_B_OTHER\n",
              "count                                 20037  20037  ...          3083         252\n",
              "unique                                 5168     12  ...             2           2\n",
              "top                                     565  25-29  ...          None       Other\n",
              "freq                                     34   4011  ...          3082         251\n",
              "\n",
              "[4 rows x 355 columns]"
            ]
          },
          "metadata": {
            "tags": []
          },
          "execution_count": 6
        }
      ]
    },
    {
      "cell_type": "code",
      "metadata": {
        "colab": {
          "base_uri": "https://localhost:8080/"
        },
        "id": "ryT-sWkztvYc",
        "outputId": "cd9d51b6-2928-4e54-a8f2-0c572c7485a6"
      },
      "source": [
        "data.isnull().sum()"
      ],
      "execution_count": 7,
      "outputs": [
        {
          "output_type": "execute_result",
          "data": {
            "text/plain": [
              "Time from Start to Finish (seconds)        0\n",
              "Q1                                         0\n",
              "Q2                                         0\n",
              "Q3                                         0\n",
              "Q4                                       467\n",
              "                                       ...  \n",
              "Q35_B_Part_7                           19556\n",
              "Q35_B_Part_8                           19190\n",
              "Q35_B_Part_9                           19517\n",
              "Q35_B_Part_10                          16954\n",
              "Q35_B_OTHER                            19785\n",
              "Length: 355, dtype: int64"
            ]
          },
          "metadata": {
            "tags": []
          },
          "execution_count": 7
        }
      ]
    },
    {
      "cell_type": "markdown",
      "metadata": {
        "id": "czxVlIr1HpTt"
      },
      "source": [
        "# 2.시각화"
      ]
    },
    {
      "cell_type": "markdown",
      "metadata": {
        "id": "SEFtAvy7tokg"
      },
      "source": [
        "## Q1 & Q2. Age/Gender Distribution\r\n",
        "- Q1 = 응답자들의 나이\r\n",
        "- Q2 = 응답자들의 성별"
      ]
    },
    {
      "cell_type": "code",
      "metadata": {
        "id": "BaASHUCZsUCQ"
      },
      "source": [
        "questions = data.iloc[0,].T\r\n",
        "data = data.iloc[1:,]"
      ],
      "execution_count": 8,
      "outputs": []
    },
    {
      "cell_type": "markdown",
      "metadata": {
        "id": "OIIUACUKwcfz"
      },
      "source": [
        "- Q1 분석"
      ]
    },
    {
      "cell_type": "code",
      "metadata": {
        "colab": {
          "base_uri": "https://localhost:8080/"
        },
        "id": "LC-gj_-ZJE4v",
        "outputId": "567442dd-c0ed-427e-b147-d16ae8181365"
      },
      "source": [
        "pd.unique(data['Q1'])"
      ],
      "execution_count": 9,
      "outputs": [
        {
          "output_type": "execute_result",
          "data": {
            "text/plain": [
              "array(['35-39', '30-34', '22-24', '25-29', '18-21', '55-59', '50-54',\n",
              "       '40-44', '60-69', '45-49', '70+'], dtype=object)"
            ]
          },
          "metadata": {
            "tags": []
          },
          "execution_count": 9
        }
      ]
    },
    {
      "cell_type": "code",
      "metadata": {
        "colab": {
          "base_uri": "https://localhost:8080/",
          "height": 414
        },
        "id": "wrkR39sMt20_",
        "outputId": "5de1ae6f-f35f-4e49-c8e2-9d7c97e387aa"
      },
      "source": [
        "fig, ax = plt.subplots(1,1, figsize=(15,6))\r\n",
        "data_q1 = data['Q1'].value_counts().sort_index()\r\n",
        "ax.bar(data_q1.index, data_q1, width=0.55, edgecolor='darkgrey', color='#d4dddd', linewidth=0.7)\r\n",
        "\r\n",
        "# annotation 설정\r\n",
        "for i in data_q1.index:\r\n",
        "  ax.annotate(f'{data_q1[i]}', xy=(i,data_q1[i] + 100), va='center', ha='center', fontweight='light', fontfamily='serif', color='#4a4a4a')\r\n",
        "\r\n",
        "# 그래프 선 삭제\r\n",
        "for s in ['top', 'left', 'right']:\r\n",
        "  ax.spines[s].set_visible(False)\r\n",
        "\r\n",
        "ax.set_ylim(0,4200)\r\n",
        "ax.set_xticklabels(data_q1.index, fontfamily='serif')\r\n",
        "ax.set_yticklabels(np.arange(0,4001,500), fontfamily='serif')\r\n",
        "fig.text(0.1, 0.95, 'Age Distribution', fontsize=15, fontweight='bold', fontfamily='serif')\r\n",
        "ax.grid(axis='y', linestyle='-', alpha=0.4)\r\n",
        "plt.show()"
      ],
      "execution_count": 10,
      "outputs": [
        {
          "output_type": "display_data",
          "data": {
            "image/png": "[encoded data removed]",
            "text/plain": [
              "<Figure size 1080x432 with 1 Axes>"
            ]
          },
          "metadata": {
            "tags": [],
            "needs_background": "light"
          }
        }
      ]
    },
    {
      "cell_type": "markdown",
      "metadata": {
        "id": "fz9KiwLDwPqQ"
      },
      "source": [
        "- 30살 이하 값들이 절반 이상 차지"
      ]
    },
    {
      "cell_type": "markdown",
      "metadata": {
        "id": "scXdlAVuwfb9"
      },
      "source": [
        "- Q2 분석"
      ]
    },
    {
      "cell_type": "code",
      "metadata": {
        "colab": {
          "base_uri": "https://localhost:8080/"
        },
        "id": "8_RE8ls4ucXy",
        "outputId": "6c3fdfba-c631-4b9c-c886-247d44d5ea46"
      },
      "source": [
        "pd.unique(data['Q2'])"
      ],
      "execution_count": 11,
      "outputs": [
        {
          "output_type": "execute_result",
          "data": {
            "text/plain": [
              "array(['Man', 'Woman', 'Prefer to self-describe', 'Prefer not to say',\n",
              "       'Nonbinary'], dtype=object)"
            ]
          },
          "metadata": {
            "tags": []
          },
          "execution_count": 11
        }
      ]
    },
    {
      "cell_type": "code",
      "metadata": {
        "colab": {
          "base_uri": "https://localhost:8080/",
          "height": 359
        },
        "id": "lsCbaiSiw67M",
        "outputId": "04a69ab8-b3ed-4648-ad23-0d5a9892f45d"
      },
      "source": [
        "# Man, Woman을 제외한 값들은 ETC로 변환\r\n",
        "data['Q2'] = data['Q2'].apply(lambda x : 'ETC' if x not in ('Man','Woman') else x)       \r\n",
        "\r\n",
        "# 시각화\r\n",
        "data_q1q2 = data[data['Q2'] != 'ETC'].groupby('Q2')['Q1'].value_counts().unstack().sort_index()\r\n",
        "man = data_q1q2.loc['Man']\r\n",
        "woman = -data_q1q2.loc['Woman']\r\n",
        "\r\n",
        "fig,ax = plt.subplots(1,1, figsize=(15,6))\r\n",
        "ax.bar(man.index, man, width=0.55, color='#004c70', alpha=0.8, label='Male')\r\n",
        "ax.bar(woman.index, woman, width=0.55, color='#990000', alpha=0.8, label='Female')\r\n",
        "ax.set_ylim(-1200, 3500)\r\n",
        "\r\n",
        "for i in man.index:\r\n",
        "  ax.annotate(f'{man[i]}',xy=(i, man[i]+100), va='center', ha='center',fontweight='light', fontfamily='serif',color='#4a4a4a' )\r\n",
        "\r\n",
        "for i in woman.index:\r\n",
        "  ax.annotate(f'{-woman[i]}',xy=(i, woman[i]-100), va='center', ha='center',fontweight='light', fontfamily='serif',color='#4a4a4a' )\r\n",
        "\r\n",
        "for s in ['top', 'left', 'right', 'bottom']:\r\n",
        "    ax.spines[s].set_visible(False)\r\n",
        "\r\n",
        "ax.set_xticklabels(data_q1q2.columns, fontfamily='serif')\r\n",
        "ax.set_yticks([])\r\n",
        "ax.legend()\r\n",
        "fig.text(0.16, 0.95, 'Age / Gender Distribution', fontsize=15, fontweight='bold', fontfamily='serif')\r\n",
        "plt.show()"
      ],
      "execution_count": 12,
      "outputs": [
        {
          "output_type": "display_data",
          "data": {
            "image/png": "[encoded data removed]",
            "text/plain": [
              "<Figure size 1080x432 with 1 Axes>"
            ]
          },
          "metadata": {
            "tags": [],
            "needs_background": "light"
          }
        }
      ]
    },
    {
      "cell_type": "markdown",
      "metadata": {
        "id": "joZQ_VlOy1HA"
      },
      "source": [
        "- 여성이 비교적 적음"
      ]
    },
    {
      "cell_type": "markdown",
      "metadata": {
        "id": "iNAqSjjWKHgV"
      },
      "source": [
        "## Q2 & Q3. Gender / Country"
      ]
    },
    {
      "cell_type": "code",
      "metadata": {
        "id": "LXj1D2rcxOpV",
        "colab": {
          "base_uri": "https://localhost:8080/"
        },
        "outputId": "c60e4044-4b80-4d2c-c6c6-498683fabd33"
      },
      "source": [
        "pd.unique(data['Q3'])"
      ],
      "execution_count": 13,
      "outputs": [
        {
          "output_type": "execute_result",
          "data": {
            "text/plain": [
              "array(['Colombia', 'United States of America', 'Argentina', 'Japan',\n",
              "       'India', 'Brazil', 'China', 'Germany', 'Indonesia', 'Canada',\n",
              "       'Switzerland', 'Other', 'Singapore', 'Russia', 'South Africa',\n",
              "       'Egypt', 'Netherlands', 'Pakistan', 'Nepal', 'South Korea',\n",
              "       'Poland', 'Belarus', 'Tunisia', 'Ukraine', 'Belgium',\n",
              "       'Saudi Arabia', 'Taiwan', 'Nigeria', 'Italy', 'Spain',\n",
              "       'United Arab Emirates', 'Mexico', 'Viet Nam', 'Thailand',\n",
              "       'United Kingdom of Great Britain and Northern Ireland', 'France',\n",
              "       'Ghana', 'Ireland', 'Philippines', 'Morocco', 'Turkey',\n",
              "       'Iran, Islamic Republic of...', 'Peru', 'Romania',\n",
              "       'Republic of Korea', 'Australia', 'Chile', 'Kenya', 'Sweden',\n",
              "       'Bangladesh', 'Greece', 'Malaysia', 'Portugal', 'Israel',\n",
              "       'Sri Lanka'], dtype=object)"
            ]
          },
          "metadata": {
            "tags": []
          },
          "execution_count": 13
        }
      ]
    },
    {
      "cell_type": "code",
      "metadata": {
        "colab": {
          "base_uri": "https://localhost:8080/",
          "height": 340
        },
        "id": "tgcUAIwyKOiI",
        "outputId": "b3e5059d-17bc-4ec4-fb18-4b8f01723764"
      },
      "source": [
        "# top10만 추출\r\n",
        "q3_order = data['Q3'].value_counts()[:11].drop('Other').index\r\n",
        "\r\n",
        "# top10의 성비 추출\r\n",
        "data_q2q3 = data[['Q2', 'Q3']].groupby(['Q3'])['Q2'].value_counts().unstack().loc[q3_order]\r\n",
        "data_q2q3['sum'] = data_q2q3.sum(axis=1)\r\n",
        "data_q2q3_ratio = (data_q2q3.T / data_q2q3['sum']).T[['Man','Woman','ETC']].rename(index={'United States of America':'USA', 'United Kingdom of Great Britain and Northern Ireland':'UK'})[::-1]  # 처음부터 끝까지 역순으로\r\n",
        "data_q2q3_ratio"
      ],
      "execution_count": 14,
      "outputs": [
        {
          "output_type": "execute_result",
          "data": {
            "text/html": [
              "<div>\n",
              "<style scoped>\n",
              "    .dataframe tbody tr th:only-of-type {\n",
              "        vertical-align: middle;\n",
              "    }\n",
              "\n",
              "    .dataframe tbody tr th {\n",
              "        vertical-align: top;\n",
              "    }\n",
              "\n",
              "    .dataframe thead th {\n",
              "        text-align: right;\n",
              "    }\n",
              "</style>\n",
              "<table border=\"1\" class=\"dataframe\">\n",
              "  <thead>\n",
              "    <tr style=\"text-align: right;\">\n",
              "      <th>Q2</th>\n",
              "      <th>Man</th>\n",
              "      <th>Woman</th>\n",
              "      <th>ETC</th>\n",
              "    </tr>\n",
              "  </thead>\n",
              "  <tbody>\n",
              "    <tr>\n",
              "      <th>Turkey</th>\n",
              "      <td>0.723837</td>\n",
              "      <td>0.252907</td>\n",
              "      <td>0.023256</td>\n",
              "    </tr>\n",
              "    <tr>\n",
              "      <th>Germany</th>\n",
              "      <td>0.806931</td>\n",
              "      <td>0.163366</td>\n",
              "      <td>0.029703</td>\n",
              "    </tr>\n",
              "    <tr>\n",
              "      <th>China</th>\n",
              "      <td>0.818565</td>\n",
              "      <td>0.145570</td>\n",
              "      <td>0.035865</td>\n",
              "    </tr>\n",
              "    <tr>\n",
              "      <th>Nigeria</th>\n",
              "      <td>0.823529</td>\n",
              "      <td>0.170168</td>\n",
              "      <td>0.006303</td>\n",
              "    </tr>\n",
              "    <tr>\n",
              "      <th>UK</th>\n",
              "      <td>0.789366</td>\n",
              "      <td>0.186094</td>\n",
              "      <td>0.024540</td>\n",
              "    </tr>\n",
              "    <tr>\n",
              "      <th>Russia</th>\n",
              "      <td>0.843643</td>\n",
              "      <td>0.137457</td>\n",
              "      <td>0.018900</td>\n",
              "    </tr>\n",
              "    <tr>\n",
              "      <th>Japan</th>\n",
              "      <td>0.924765</td>\n",
              "      <td>0.065831</td>\n",
              "      <td>0.009404</td>\n",
              "    </tr>\n",
              "    <tr>\n",
              "      <th>Brazil</th>\n",
              "      <td>0.863112</td>\n",
              "      <td>0.134006</td>\n",
              "      <td>0.002882</td>\n",
              "    </tr>\n",
              "    <tr>\n",
              "      <th>USA</th>\n",
              "      <td>0.751006</td>\n",
              "      <td>0.215914</td>\n",
              "      <td>0.033080</td>\n",
              "    </tr>\n",
              "    <tr>\n",
              "      <th>India</th>\n",
              "      <td>0.767561</td>\n",
              "      <td>0.220304</td>\n",
              "      <td>0.012135</td>\n",
              "    </tr>\n",
              "  </tbody>\n",
              "</table>\n",
              "</div>"
            ],
            "text/plain": [
              "Q2            Man     Woman       ETC\n",
              "Turkey   0.723837  0.252907  0.023256\n",
              "Germany  0.806931  0.163366  0.029703\n",
              "China    0.818565  0.145570  0.035865\n",
              "Nigeria  0.823529  0.170168  0.006303\n",
              "UK       0.789366  0.186094  0.024540\n",
              "Russia   0.843643  0.137457  0.018900\n",
              "Japan    0.924765  0.065831  0.009404\n",
              "Brazil   0.863112  0.134006  0.002882\n",
              "USA      0.751006  0.215914  0.033080\n",
              "India    0.767561  0.220304  0.012135"
            ]
          },
          "metadata": {
            "tags": []
          },
          "execution_count": 14
        }
      ]
    },
    {
      "cell_type": "code",
      "metadata": {
        "colab": {
          "base_uri": "https://localhost:8080/",
          "height": 408
        },
        "id": "RQ_Pzp58K-6-",
        "outputId": "55ec78f5-ac56-4568-d6a3-a74eadf7beb3"
      },
      "source": [
        "fig, ax = plt.subplots(1,1, figsize=(12,6))\r\n",
        "\r\n",
        "ax.barh(y=data_q2q3_ratio.index, width=data_q2q3_ratio['Man'], color='#004c70', alpha=0.7, label='Man')\r\n",
        "ax.barh(y=data_q2q3_ratio.index, width=data_q2q3_ratio['Woman'], left=data_q2q3_ratio['Man'], color='#990000',alpha=0.7,label='Woman')\r\n",
        "ax.barh(y=data_q2q3_ratio.index, width=data_q2q3_ratio['ETC'], left=data_q2q3_ratio['Man']+data_q2q3_ratio['Woman'], color='#4a4a4a', alpha=0.7, label='ETC')\r\n",
        "\r\n",
        "ax.set_xlim(0,1)\r\n",
        "ax.set_xticks([])\r\n",
        "ax.set_yticklabels(data_q2q3_ratio.index,fontfamily='serif',fontsize=11)\r\n",
        "\r\n",
        "# 남성 annotation\r\n",
        "for i in data_q2q3_ratio.index:\r\n",
        "  ax.annotate(f\"{data_q2q3_ratio['Man'][i]*100:.3}%\",\r\n",
        "              xy=(data_q2q3_ratio['Man'][i]/2, i),\r\n",
        "              va='center', ha='center',\r\n",
        "              fontsize=9, fontweight='light', fontfamily='serif', color='white')\r\n",
        "  \r\n",
        "# 여성 annotation\r\n",
        "for i in data_q2q3_ratio.index:\r\n",
        "  ax.annotate(f\"{data_q2q3_ratio['Woman'][i]*100:.3}%\",\r\n",
        "              xy=(data_q2q3_ratio['Man'][i]+data_q2q3_ratio['Woman'][i]/2, i),\r\n",
        "              va='center', ha='center',\r\n",
        "              fontsize=9, fontweight='light', fontfamily='serif', color='white')    \r\n",
        "  \r\n",
        "fig.text(0.13, 0.95, 'Top10 Country : Gender Distribution', fontsize=15, fontweight='bold', fontfamily='serif')\r\n",
        "fig.text(0.131, 0.91, 'Percent Stacked Bar Chart', fontsize=12, fontfamily='serif')\r\n",
        "\r\n",
        "for s in ['top','left','right','bottom']:\r\n",
        "  ax.spines[s].set_visible(False)\r\n",
        "\r\n",
        "ax.legend(loc='lower center', ncol=3, bbox_to_anchor=(0.5, -0.06))\r\n",
        "plt.show()"
      ],
      "execution_count": 15,
      "outputs": [
        {
          "output_type": "display_data",
          "data": {
            "image/png": "[encoded data removed]",
            "text/plain": [
              "<Figure size 864x432 with 1 Axes>"
            ]
          },
          "metadata": {
            "tags": [],
            "needs_background": "light"
          }
        }
      ]
    },
    {
      "cell_type": "markdown",
      "metadata": {
        "id": "TU2sQ9wvWLBx"
      },
      "source": [
        "- 응답자가 가장 많았던 top 10 국가의 성비\r\n",
        "- 여성의 비율은 굉장히 적음\r\n",
        "- 일본의 경우, 여성은 6.58%에 불과"
      ]
    },
    {
      "cell_type": "markdown",
      "metadata": {
        "id": "vpz9GRZ6WWia"
      },
      "source": [
        "## Q4 & Q6. Degree / Experience\r\n",
        "- Q4 = 교육수준 \r\n",
        "- Q6 = 경력"
      ]
    },
    {
      "cell_type": "code",
      "metadata": {
        "colab": {
          "base_uri": "https://localhost:8080/"
        },
        "id": "_g9Y9FI5XFT8",
        "outputId": "1755ce5b-2420-4977-a35c-2d59b34d88e8"
      },
      "source": [
        "print('Q4', data['Q4'].unique())\r\n",
        "print('\\nQ6', data['Q6'].unique())"
      ],
      "execution_count": 16,
      "outputs": [
        {
          "output_type": "stream",
          "text": [
            "Q4 ['Doctoral degree' 'Master’s degree' 'Bachelor’s degree'\n",
            " 'No formal education past high school'\n",
            " 'Some college/university study without earning a bachelor’s degree'\n",
            " 'Professional degree' 'I prefer not to answer' nan]\n",
            "\n",
            "Q6 ['5-10 years' '10-20 years' '3-5 years' '< 1 years' '1-2 years'\n",
            " '20+ years' 'I have never written code' nan]\n"
          ],
          "name": "stdout"
        }
      ]
    },
    {
      "cell_type": "markdown",
      "metadata": {
        "id": "M5xdj_Dfc8yc"
      },
      "source": [
        "- Q4"
      ]
    },
    {
      "cell_type": "code",
      "metadata": {
        "colab": {
          "base_uri": "https://localhost:8080/",
          "height": 746
        },
        "id": "gv8oQrtsWcVW",
        "outputId": "f23674af-b494-4a58-e04a-fdea340a45bf"
      },
      "source": [
        "# 학력순으로 정렬\r\n",
        "q4_order = ['No formal education past high school','Professional degree',\r\n",
        "    'Some college/university study without earning a bachelor’s degree',\r\n",
        "    'Bachelor’s degree','Master’s degree','Doctoral degree','I prefer not to answer']\r\n",
        "data_q4 =data['Q4'].value_counts()[q4_order]\r\n",
        "\r\n",
        "fig, ax = plt.subplots(1,1, figsize=(12,6))\r\n",
        "ax.bar(data_q4.index, data_q4, width=0.55, edgecolor='darkgray', color=sns.color_palette('crest',7), linewidth=0.7)\r\n",
        "\r\n",
        "for i in data_q4.index:\r\n",
        "  ax.annotate( f\"{data_q4[i]}\", xy=(i, data_q4[i] + 300),\r\n",
        "              va='center', ha='center',\r\n",
        "              fontweight='light', fontfamily='serif', color='#4a4a4a')\r\n",
        "\r\n",
        "for s in ['top','left','right']:\r\n",
        "  ax.spines[s].set_visible(False)\r\n",
        "\r\n",
        "ax.set_xticklabels(data_q4.index, fontfamily='serif', rotation=90)\r\n",
        "fig.text(0.09, 0.95, 'Education Distribution', fontsize=15, fontweight='bold',fontfamily='serif')\r\n",
        "ax.grid(axis='y', linestyle='-', alpha=0.4)\r\n",
        "plt.show()"
      ],
      "execution_count": 17,
      "outputs": [
        {
          "output_type": "display_data",
          "data": {
            "image/png": "[encoded data removed]",
            "text/plain": [
              "<Figure size 864x432 with 1 Axes>"
            ]
          },
          "metadata": {
            "tags": [],
            "needs_background": "light"
          }
        }
      ]
    },
    {
      "cell_type": "markdown",
      "metadata": {
        "id": "4mELeDxMcnEL"
      },
      "source": [
        "- 학사보다 석사 학위가 더 많음"
      ]
    },
    {
      "cell_type": "markdown",
      "metadata": {
        "id": "YJyntHRmc-O_"
      },
      "source": [
        "- Q6"
      ]
    },
    {
      "cell_type": "code",
      "metadata": {
        "colab": {
          "base_uri": "https://localhost:8080/",
          "height": 305
        },
        "id": "9U-IOG1KY_K0",
        "outputId": "89a39be9-8abf-4ede-943a-db710e5fcd3d"
      },
      "source": [
        "# 경력순으로 정렬\r\n",
        "q6_order = ['I have never written code', '< 1 years','1-2 years', '3-5 years', '5-10 years', '10-20 years',  '20+ years']\r\n",
        "data_q6 = data['Q6'].value_counts()[q6_order]\r\n",
        "\r\n",
        "fig, ax = plt.subplots(1,1, figsize=(12,6))\r\n",
        "ax.bar(data_q4.index, data_q4, width=0.55, edgecolor='darkgray', color=sns.color_palette('crest',7), linewidth=0.7)\r\n",
        "\r\n",
        "for i in data_q6.index:\r\n",
        "  ax.annotate( f\"{data_q6[i]}\", xy=(i, data_q6[i] + 300),\r\n",
        "              va='center', ha='center',\r\n",
        "              fontweight='light', fontfamily='serif', color='#4a4a4a')\r\n",
        "\r\n",
        "for s in ['top','left','right']:\r\n",
        "  ax.spines[s].set_visible(False)\r\n",
        "\r\n",
        "ax.set_xticklabels(data_q6.index, fontfamily='serif', rotation=90)\r\n",
        "fig.text(0.09, 0.95, 'Experience Distribution', fontsize=15, fontweight='bold',fontfamily='serif')\r\n",
        "ax.grid(axis='y', linestyle='-', alpha=0.4)\r\n",
        "plt.show()"
      ],
      "execution_count": 18,
      "outputs": [
        {
          "output_type": "display_data",
          "data": {
            "image/png": "[encoded data removed]",
            "text/plain": [
              "<Figure size 864x432 with 1 Axes>"
            ]
          },
          "metadata": {
            "tags": [],
            "needs_background": "light"
          }
        }
      ]
    },
    {
      "cell_type": "markdown",
      "metadata": {
        "id": "9iliCqXVeEu2"
      },
      "source": [
        "- 약 75% 5년 이하의 경력 보유"
      ]
    },
    {
      "cell_type": "markdown",
      "metadata": {
        "id": "e5QJwerUeNJN"
      },
      "source": [
        "- Q4 & Q6"
      ]
    },
    {
      "cell_type": "code",
      "metadata": {
        "colab": {
          "base_uri": "https://localhost:8080/",
          "height": 895
        },
        "id": "qVIihMOUdLzE",
        "outputId": "bf0a8ace-4b73-466e-b77c-83c7a636bc1c"
      },
      "source": [
        "data['count'] = 1\r\n",
        "fig, ax = plt.subplots(1,1, figsize=(12,12))\r\n",
        "sns.heatmap(pd.pivot_table(data, values='count', index=['Q6'], columns=['Q4'], aggfunc=np.sum).loc[q6_order,q4_order],\r\n",
        "            cmap='YlGnBu', square=True, linewidth=2.5, cbar=False, ax=ax, annot=True, fmt='d')\r\n",
        "ax.spines['top'].set_visible(True)\r\n",
        "\r\n",
        "fig.text(0.48, 1, 'Pivot Table : Education & Experience', fontweight='bold', fontfamily='serif', fontsize=15)\r\n",
        "\r\n",
        "ax.set_yticklabels(ax.get_yticklabels(), fontfamily='serif', rotation=0, fontsize=11)\r\n",
        "ax.set_xticklabels(ax.get_xticklabels(), fontfamily='serif', rotation=90, fontsize=11)\r\n",
        "\r\n",
        "plt.tight_layout()\r\n",
        "plt.show()"
      ],
      "execution_count": 19,
      "outputs": [
        {
          "output_type": "display_data",
          "data": {
            "image/png": "[encoded data removed]",
            "text/plain": [
              "<Figure size 864x864 with 1 Axes>"
            ]
          },
          "metadata": {
            "tags": [],
            "needs_background": "light"
          }
        }
      ]
    },
    {
      "cell_type": "markdown",
      "metadata": {
        "id": "e-75j-Cmf-rx"
      },
      "source": [
        "- 학사 + 1-2년 경력과 박사 + 3-5년 경력이 가장 많음"
      ]
    },
    {
      "cell_type": "markdown",
      "metadata": {
        "id": "Q2kD9Gkxhd0b"
      },
      "source": [
        "## Q14. Visualization Library\r\n",
        "- Q14: 시각화를 할 때 어떤 라이브러리를 사용하는지\r\n",
        "- Q14_Part_1 ~ Q14_Part_11, Q14_OTHER 총 12개 존재"
      ]
    },
    {
      "cell_type": "code",
      "metadata": {
        "colab": {
          "base_uri": "https://localhost:8080/"
        },
        "id": "Yqr1KqGXhgkN",
        "outputId": "89a04f21-bc31-43f4-ec9e-38ee64b6fe36"
      },
      "source": [
        "# Visualization 별 집계\r\n",
        "data_q14 = data[[x for x in data.columns if 'Q14' in x]]\r\n",
        "data_q14_count = pd.Series(dtype='int')\r\n",
        "\r\n",
        "for i in data_q14.columns:\r\n",
        "  data_q14_count[data_q14[i].value_counts().index[0]] = data_q14[i].count()\r\n",
        "\r\n",
        "data_q14_count"
      ],
      "execution_count": 58,
      "outputs": [
        {
          "output_type": "execute_result",
          "data": {
            "text/plain": [
              " Matplotlib                  12342\n",
              " Seaborn                      8821\n",
              " Plotly / Plotly Express      4130\n",
              " Ggplot / ggplot2             4120\n",
              " Shiny                        1137\n",
              " D3 js                         829\n",
              " Altair                        233\n",
              " Bokeh                         920\n",
              " Geoplotlib                    850\n",
              " Leaflet / Folium              596\n",
              "None                          1897\n",
              "Other                          565\n",
              "dtype: int64"
            ]
          },
          "metadata": {
            "tags": []
          },
          "execution_count": 58
        }
      ]
    },
    {
      "cell_type": "code",
      "metadata": {
        "colab": {
          "base_uri": "https://localhost:8080/",
          "height": 404
        },
        "id": "b0qPcv-XlHdS",
        "outputId": "0971a373-659a-4584-b0f9-d6b261da6fdf"
      },
      "source": [
        "# 시각화 라이브러리 종류(static, interactive, geospatial)별 색깔 분리\r\n",
        "colors = ['lightgray'] * 14\r\n",
        "colors[0] = colors[1] = colors[3] = '#02080F'\r\n",
        "colors[2] = colors[4] = colors[6] = colors[7] = '#522e75'\r\n",
        "colors[8] = colors[9] = '#714e3d'\r\n",
        "\r\n",
        "# 시각화\r\n",
        "fig, ax = plt.subplots(1,1, figsize=(15,6))\r\n",
        "ax.bar(data_q14_count.index, data_q14_count, width=0.55, edgecolor='darkgrey', color=colors, linewidth=0.7)\r\n",
        "\r\n",
        "# annotation\r\n",
        "for i in data_q14_count.index:\r\n",
        "  ax.annotate(f\"{data_q14_count[i]}\", xy=(i, data_q14_count[i]+500),\r\n",
        "              va='center', ha='center', fontweight='light', fontfamily='serif', color='#4a4a4a')\r\n",
        "\r\n",
        "# grid 선 삭제  \r\n",
        "for s in ['top', 'left', 'right']:\r\n",
        "  ax.spines[s].set_visible(False)\r\n",
        "\r\n",
        "# 그래프에 텍스트 추가\r\n",
        "ax.set_xticklabels(data_q14_count.index, fontfamily='serif', rotation=40)\r\n",
        "fig.text(0.13, 0.95, 'Visualization Library', fontsize=15, fontweight='bold', fontfamily='serif')\r\n",
        "ax.grid(axis='y', linestyle='-', alpha=0.4)\r\n",
        "\r\n",
        "# legend를 수동으로 조절\r\n",
        "static = mpatches.Patch(color='#02080F', label='static')\r\n",
        "interactive = mpatches.Patch(color='#522e75', label='interactive')\r\n",
        "geo = mpatches.Patch(color='#714e3d', label='geospatial')\r\n",
        "plt.legend(handles=[static, interactive, geo], fontsize=13)\r\n",
        "\r\n",
        "plt.show()"
      ],
      "execution_count": 67,
      "outputs": [
        {
          "output_type": "display_data",
          "data": {
            "image/png": "[encoded data removed]",
            "text/plain": [
              "<Figure size 1080x432 with 1 Axes>"
            ]
          },
          "metadata": {
            "tags": [],
            "needs_background": "light"
          }
        }
      ]
    },
    {
      "cell_type": "markdown",
      "metadata": {
        "id": "UUzDOBv7rUB0"
      },
      "source": [
        "- 시각화 라이브러리 중 가장 많이 사용되는 것은 Matplotlib\r\n",
        "- interactive visualization으로는 Plotly가 가장 많이 사용\r\n",
        "- geovisualization 라이브러리는 많이 사용되지 않음\r\n"
      ]
    },
    {
      "cell_type": "markdown",
      "metadata": {
        "id": "t8rC1HWXsc58"
      },
      "source": [
        "## Q2 & Q5 & Q15. Gender / Position / ML Experience"
      ]
    },
    {
      "cell_type": "code",
      "metadata": {
        "colab": {
          "base_uri": "https://localhost:8080/"
        },
        "id": "8Y3hPl8OhkQH",
        "outputId": "b3b186ec-6a69-46e0-9a12-9a59b38aba52"
      },
      "source": [
        "data['Q5'].unique()"
      ],
      "execution_count": 68,
      "outputs": [
        {
          "output_type": "execute_result",
          "data": {
            "text/plain": [
              "array(['Student', 'Data Engineer', 'Software Engineer', 'Data Scientist',\n",
              "       'Data Analyst', 'Research Scientist', 'Other',\n",
              "       'Currently not employed', 'Statistician',\n",
              "       'Product/Project Manager', 'Machine Learning Engineer', nan,\n",
              "       'Business Analyst', 'DBA/Database Engineer'], dtype=object)"
            ]
          },
          "metadata": {
            "tags": []
          },
          "execution_count": 68
        }
      ]
    },
    {
      "cell_type": "code",
      "metadata": {
        "colab": {
          "base_uri": "https://localhost:8080/"
        },
        "id": "ECQxTulOtDhi",
        "outputId": "b9fa04d0-76f8-4f99-e0c4-86d2765c2392"
      },
      "source": [
        "data['Q15'].unique()"
      ],
      "execution_count": 69,
      "outputs": [
        {
          "output_type": "execute_result",
          "data": {
            "text/plain": [
              "array(['1-2 years', 'I do not use machine learning methods', '3-4 years',\n",
              "       nan, 'Under 1 year', '2-3 years', '4-5 years', '5-10 years',\n",
              "       '20 or more years', '10-20 years'], dtype=object)"
            ]
          },
          "metadata": {
            "tags": []
          },
          "execution_count": 69
        }
      ]
    },
    {
      "cell_type": "code",
      "metadata": {
        "id": "iXK-fQq9sriT"
      },
      "source": [
        "q5_order = ['Business Analyst','Data Analyst','Data Engineer','Data Scientist','DBA/Database Engineer',\r\n",
        "            'Machine Learning Engineer','Product/Project Manager','Research Scientist','Software Engineer',\r\n",
        "            'Statistician','Student','Currently not employed','Other']\r\n",
        "q15_order = ['I do not use machine learning methods','Under 1 year','1-2 years',\r\n",
        "             '2-3 years','3-4 years','4-5 years','5-10 years','10-20 years','20 or more years']  "
      ],
      "execution_count": 70,
      "outputs": []
    },
    {
      "cell_type": "code",
      "metadata": {
        "id": "tK54RC8gtQJO"
      },
      "source": [
        "data_q5q15 = pd.pivot_table(data, values='count', index=['Q5'], columns=['Q15'], aggfunc=np.sum).fillna(0).astype(int).loc[q5_order, q15_order].stack()\r\n",
        "data_q5q15_man = pd.pivot_table(data[data['Q2']=='Man'], values='count', index=['Q5'], columns=['Q15'], aggfunc=np.sum).fillna(0).astype(int).loc[q5_order, q15_order].stack()\r\n",
        "data_q5q15_woman = pd.pivot_table(data[data['Q2']=='Woman'], values='count', index=['Q5'], columns=['Q15'], aggfunc=np.sum).fillna(0).astype(int).loc[q5_order, q15_order].stack()"
      ],
      "execution_count": 72,
      "outputs": []
    }
  ]
}